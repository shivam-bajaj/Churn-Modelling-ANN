{
 "cells": [
  {
   "cell_type": "markdown",
   "metadata": {},
   "source": [
    "# Hyperparameter Tuning - Churn Modelling"
   ]
  },
  {
   "cell_type": "code",
   "execution_count": 1,
   "metadata": {},
   "outputs": [],
   "source": [
    "#import libraries\n",
    "import pandas as pd\n",
    "import numpy as np\n",
    "import matplotlib.pyplot as plt\n",
    "from collections import Counter\n",
    "#np.set_printoptions(threshold=np.inf)\n",
    "np.set_printoptions(threshold=1000)"
   ]
  },
  {
   "cell_type": "markdown",
   "metadata": {},
   "source": [
    "# Importing the Dataset"
   ]
  },
  {
   "cell_type": "code",
   "execution_count": 2,
   "metadata": {},
   "outputs": [
    {
     "data": {
      "text/html": [
       "<div>\n",
       "<style scoped>\n",
       "    .dataframe tbody tr th:only-of-type {\n",
       "        vertical-align: middle;\n",
       "    }\n",
       "\n",
       "    .dataframe tbody tr th {\n",
       "        vertical-align: top;\n",
       "    }\n",
       "\n",
       "    .dataframe thead th {\n",
       "        text-align: right;\n",
       "    }\n",
       "</style>\n",
       "<table border=\"1\" class=\"dataframe\">\n",
       "  <thead>\n",
       "    <tr style=\"text-align: right;\">\n",
       "      <th></th>\n",
       "      <th>RowNumber</th>\n",
       "      <th>CustomerId</th>\n",
       "      <th>Surname</th>\n",
       "      <th>CreditScore</th>\n",
       "      <th>Geography</th>\n",
       "      <th>Gender</th>\n",
       "      <th>Age</th>\n",
       "      <th>Tenure</th>\n",
       "      <th>Balance</th>\n",
       "      <th>NumOfProducts</th>\n",
       "      <th>HasCrCard</th>\n",
       "      <th>IsActiveMember</th>\n",
       "      <th>EstimatedSalary</th>\n",
       "      <th>Exited</th>\n",
       "    </tr>\n",
       "  </thead>\n",
       "  <tbody>\n",
       "    <tr>\n",
       "      <th>0</th>\n",
       "      <td>1</td>\n",
       "      <td>15634602</td>\n",
       "      <td>Hargrave</td>\n",
       "      <td>619</td>\n",
       "      <td>France</td>\n",
       "      <td>Female</td>\n",
       "      <td>42</td>\n",
       "      <td>2</td>\n",
       "      <td>0.00</td>\n",
       "      <td>1</td>\n",
       "      <td>1</td>\n",
       "      <td>1</td>\n",
       "      <td>101348.88</td>\n",
       "      <td>1</td>\n",
       "    </tr>\n",
       "    <tr>\n",
       "      <th>1</th>\n",
       "      <td>2</td>\n",
       "      <td>15647311</td>\n",
       "      <td>Hill</td>\n",
       "      <td>608</td>\n",
       "      <td>Spain</td>\n",
       "      <td>Female</td>\n",
       "      <td>41</td>\n",
       "      <td>1</td>\n",
       "      <td>83807.86</td>\n",
       "      <td>1</td>\n",
       "      <td>0</td>\n",
       "      <td>1</td>\n",
       "      <td>112542.58</td>\n",
       "      <td>0</td>\n",
       "    </tr>\n",
       "    <tr>\n",
       "      <th>2</th>\n",
       "      <td>3</td>\n",
       "      <td>15619304</td>\n",
       "      <td>Onio</td>\n",
       "      <td>502</td>\n",
       "      <td>France</td>\n",
       "      <td>Female</td>\n",
       "      <td>42</td>\n",
       "      <td>8</td>\n",
       "      <td>159660.80</td>\n",
       "      <td>3</td>\n",
       "      <td>1</td>\n",
       "      <td>0</td>\n",
       "      <td>113931.57</td>\n",
       "      <td>1</td>\n",
       "    </tr>\n",
       "    <tr>\n",
       "      <th>3</th>\n",
       "      <td>4</td>\n",
       "      <td>15701354</td>\n",
       "      <td>Boni</td>\n",
       "      <td>699</td>\n",
       "      <td>France</td>\n",
       "      <td>Female</td>\n",
       "      <td>39</td>\n",
       "      <td>1</td>\n",
       "      <td>0.00</td>\n",
       "      <td>2</td>\n",
       "      <td>0</td>\n",
       "      <td>0</td>\n",
       "      <td>93826.63</td>\n",
       "      <td>0</td>\n",
       "    </tr>\n",
       "    <tr>\n",
       "      <th>4</th>\n",
       "      <td>5</td>\n",
       "      <td>15737888</td>\n",
       "      <td>Mitchell</td>\n",
       "      <td>850</td>\n",
       "      <td>Spain</td>\n",
       "      <td>Female</td>\n",
       "      <td>43</td>\n",
       "      <td>2</td>\n",
       "      <td>125510.82</td>\n",
       "      <td>1</td>\n",
       "      <td>1</td>\n",
       "      <td>1</td>\n",
       "      <td>79084.10</td>\n",
       "      <td>0</td>\n",
       "    </tr>\n",
       "  </tbody>\n",
       "</table>\n",
       "</div>"
      ],
      "text/plain": [
       "   RowNumber  CustomerId   Surname  CreditScore Geography  Gender  Age  \\\n",
       "0          1    15634602  Hargrave          619    France  Female   42   \n",
       "1          2    15647311      Hill          608     Spain  Female   41   \n",
       "2          3    15619304      Onio          502    France  Female   42   \n",
       "3          4    15701354      Boni          699    France  Female   39   \n",
       "4          5    15737888  Mitchell          850     Spain  Female   43   \n",
       "\n",
       "   Tenure    Balance  NumOfProducts  HasCrCard  IsActiveMember  \\\n",
       "0       2       0.00              1          1               1   \n",
       "1       1   83807.86              1          0               1   \n",
       "2       8  159660.80              3          1               0   \n",
       "3       1       0.00              2          0               0   \n",
       "4       2  125510.82              1          1               1   \n",
       "\n",
       "   EstimatedSalary  Exited  \n",
       "0        101348.88       1  \n",
       "1        112542.58       0  \n",
       "2        113931.57       1  \n",
       "3         93826.63       0  \n",
       "4         79084.10       0  "
      ]
     },
     "execution_count": 2,
     "metadata": {},
     "output_type": "execute_result"
    }
   ],
   "source": [
    "df = pd.read_csv('Churn_Modelling.csv')\n",
    "df.head()"
   ]
  },
  {
   "cell_type": "code",
   "execution_count": 3,
   "metadata": {},
   "outputs": [
    {
     "data": {
      "text/plain": [
       "RowNumber          0\n",
       "CustomerId         0\n",
       "Surname            0\n",
       "CreditScore        0\n",
       "Geography          0\n",
       "Gender             0\n",
       "Age                0\n",
       "Tenure             0\n",
       "Balance            0\n",
       "NumOfProducts      0\n",
       "HasCrCard          0\n",
       "IsActiveMember     0\n",
       "EstimatedSalary    0\n",
       "Exited             0\n",
       "dtype: int64"
      ]
     },
     "execution_count": 3,
     "metadata": {},
     "output_type": "execute_result"
    }
   ],
   "source": [
    "# Checking null Values\n",
    "df.isnull().sum()"
   ]
  },
  {
   "cell_type": "code",
   "execution_count": 4,
   "metadata": {},
   "outputs": [
    {
     "name": "stdout",
     "output_type": "stream",
     "text": [
      "<class 'pandas.core.frame.DataFrame'>\n"
     ]
    },
    {
     "data": {
      "text/html": [
       "<div>\n",
       "<style scoped>\n",
       "    .dataframe tbody tr th:only-of-type {\n",
       "        vertical-align: middle;\n",
       "    }\n",
       "\n",
       "    .dataframe tbody tr th {\n",
       "        vertical-align: top;\n",
       "    }\n",
       "\n",
       "    .dataframe thead th {\n",
       "        text-align: right;\n",
       "    }\n",
       "</style>\n",
       "<table border=\"1\" class=\"dataframe\">\n",
       "  <thead>\n",
       "    <tr style=\"text-align: right;\">\n",
       "      <th></th>\n",
       "      <th>CreditScore</th>\n",
       "      <th>Geography</th>\n",
       "      <th>Gender</th>\n",
       "      <th>Age</th>\n",
       "      <th>Tenure</th>\n",
       "      <th>Balance</th>\n",
       "      <th>NumOfProducts</th>\n",
       "      <th>HasCrCard</th>\n",
       "      <th>IsActiveMember</th>\n",
       "      <th>EstimatedSalary</th>\n",
       "    </tr>\n",
       "  </thead>\n",
       "  <tbody>\n",
       "    <tr>\n",
       "      <th>0</th>\n",
       "      <td>619</td>\n",
       "      <td>France</td>\n",
       "      <td>Female</td>\n",
       "      <td>42</td>\n",
       "      <td>2</td>\n",
       "      <td>0.00</td>\n",
       "      <td>1</td>\n",
       "      <td>1</td>\n",
       "      <td>1</td>\n",
       "      <td>101348.88</td>\n",
       "    </tr>\n",
       "    <tr>\n",
       "      <th>1</th>\n",
       "      <td>608</td>\n",
       "      <td>Spain</td>\n",
       "      <td>Female</td>\n",
       "      <td>41</td>\n",
       "      <td>1</td>\n",
       "      <td>83807.86</td>\n",
       "      <td>1</td>\n",
       "      <td>0</td>\n",
       "      <td>1</td>\n",
       "      <td>112542.58</td>\n",
       "    </tr>\n",
       "    <tr>\n",
       "      <th>2</th>\n",
       "      <td>502</td>\n",
       "      <td>France</td>\n",
       "      <td>Female</td>\n",
       "      <td>42</td>\n",
       "      <td>8</td>\n",
       "      <td>159660.80</td>\n",
       "      <td>3</td>\n",
       "      <td>1</td>\n",
       "      <td>0</td>\n",
       "      <td>113931.57</td>\n",
       "    </tr>\n",
       "    <tr>\n",
       "      <th>3</th>\n",
       "      <td>699</td>\n",
       "      <td>France</td>\n",
       "      <td>Female</td>\n",
       "      <td>39</td>\n",
       "      <td>1</td>\n",
       "      <td>0.00</td>\n",
       "      <td>2</td>\n",
       "      <td>0</td>\n",
       "      <td>0</td>\n",
       "      <td>93826.63</td>\n",
       "    </tr>\n",
       "    <tr>\n",
       "      <th>4</th>\n",
       "      <td>850</td>\n",
       "      <td>Spain</td>\n",
       "      <td>Female</td>\n",
       "      <td>43</td>\n",
       "      <td>2</td>\n",
       "      <td>125510.82</td>\n",
       "      <td>1</td>\n",
       "      <td>1</td>\n",
       "      <td>1</td>\n",
       "      <td>79084.10</td>\n",
       "    </tr>\n",
       "    <tr>\n",
       "      <th>...</th>\n",
       "      <td>...</td>\n",
       "      <td>...</td>\n",
       "      <td>...</td>\n",
       "      <td>...</td>\n",
       "      <td>...</td>\n",
       "      <td>...</td>\n",
       "      <td>...</td>\n",
       "      <td>...</td>\n",
       "      <td>...</td>\n",
       "      <td>...</td>\n",
       "    </tr>\n",
       "    <tr>\n",
       "      <th>9995</th>\n",
       "      <td>771</td>\n",
       "      <td>France</td>\n",
       "      <td>Male</td>\n",
       "      <td>39</td>\n",
       "      <td>5</td>\n",
       "      <td>0.00</td>\n",
       "      <td>2</td>\n",
       "      <td>1</td>\n",
       "      <td>0</td>\n",
       "      <td>96270.64</td>\n",
       "    </tr>\n",
       "    <tr>\n",
       "      <th>9996</th>\n",
       "      <td>516</td>\n",
       "      <td>France</td>\n",
       "      <td>Male</td>\n",
       "      <td>35</td>\n",
       "      <td>10</td>\n",
       "      <td>57369.61</td>\n",
       "      <td>1</td>\n",
       "      <td>1</td>\n",
       "      <td>1</td>\n",
       "      <td>101699.77</td>\n",
       "    </tr>\n",
       "    <tr>\n",
       "      <th>9997</th>\n",
       "      <td>709</td>\n",
       "      <td>France</td>\n",
       "      <td>Female</td>\n",
       "      <td>36</td>\n",
       "      <td>7</td>\n",
       "      <td>0.00</td>\n",
       "      <td>1</td>\n",
       "      <td>0</td>\n",
       "      <td>1</td>\n",
       "      <td>42085.58</td>\n",
       "    </tr>\n",
       "    <tr>\n",
       "      <th>9998</th>\n",
       "      <td>772</td>\n",
       "      <td>Germany</td>\n",
       "      <td>Male</td>\n",
       "      <td>42</td>\n",
       "      <td>3</td>\n",
       "      <td>75075.31</td>\n",
       "      <td>2</td>\n",
       "      <td>1</td>\n",
       "      <td>0</td>\n",
       "      <td>92888.52</td>\n",
       "    </tr>\n",
       "    <tr>\n",
       "      <th>9999</th>\n",
       "      <td>792</td>\n",
       "      <td>France</td>\n",
       "      <td>Female</td>\n",
       "      <td>28</td>\n",
       "      <td>4</td>\n",
       "      <td>130142.79</td>\n",
       "      <td>1</td>\n",
       "      <td>1</td>\n",
       "      <td>0</td>\n",
       "      <td>38190.78</td>\n",
       "    </tr>\n",
       "  </tbody>\n",
       "</table>\n",
       "<p>10000 rows × 10 columns</p>\n",
       "</div>"
      ],
      "text/plain": [
       "      CreditScore Geography  Gender  Age  Tenure    Balance  NumOfProducts  \\\n",
       "0             619    France  Female   42       2       0.00              1   \n",
       "1             608     Spain  Female   41       1   83807.86              1   \n",
       "2             502    France  Female   42       8  159660.80              3   \n",
       "3             699    France  Female   39       1       0.00              2   \n",
       "4             850     Spain  Female   43       2  125510.82              1   \n",
       "...           ...       ...     ...  ...     ...        ...            ...   \n",
       "9995          771    France    Male   39       5       0.00              2   \n",
       "9996          516    France    Male   35      10   57369.61              1   \n",
       "9997          709    France  Female   36       7       0.00              1   \n",
       "9998          772   Germany    Male   42       3   75075.31              2   \n",
       "9999          792    France  Female   28       4  130142.79              1   \n",
       "\n",
       "      HasCrCard  IsActiveMember  EstimatedSalary  \n",
       "0             1               1        101348.88  \n",
       "1             0               1        112542.58  \n",
       "2             1               0        113931.57  \n",
       "3             0               0         93826.63  \n",
       "4             1               1         79084.10  \n",
       "...         ...             ...              ...  \n",
       "9995          1               0         96270.64  \n",
       "9996          1               1        101699.77  \n",
       "9997          0               1         42085.58  \n",
       "9998          1               0         92888.52  \n",
       "9999          1               0         38190.78  \n",
       "\n",
       "[10000 rows x 10 columns]"
      ]
     },
     "execution_count": 4,
     "metadata": {},
     "output_type": "execute_result"
    }
   ],
   "source": [
    "x= df.iloc[:,3:-1]\n",
    "print(type(x))\n",
    "x"
   ]
  },
  {
   "cell_type": "code",
   "execution_count": 5,
   "metadata": {},
   "outputs": [
    {
     "name": "stdout",
     "output_type": "stream",
     "text": [
      "<class 'numpy.ndarray'>\n"
     ]
    },
    {
     "data": {
      "text/plain": [
       "array([1, 0, 1, ..., 1, 1, 0], dtype=int64)"
      ]
     },
     "execution_count": 5,
     "metadata": {},
     "output_type": "execute_result"
    }
   ],
   "source": [
    "y= df.iloc[:,-1].values\n",
    "print(type(y))\n",
    "y"
   ]
  },
  {
   "cell_type": "code",
   "execution_count": 6,
   "metadata": {},
   "outputs": [
    {
     "data": {
      "text/plain": [
       "Exited\n",
       "0    7963\n",
       "1    2037\n",
       "Name: count, dtype: int64"
      ]
     },
     "execution_count": 6,
     "metadata": {},
     "output_type": "execute_result"
    }
   ],
   "source": [
    "df.iloc[:,-1].value_counts()"
   ]
  },
  {
   "cell_type": "markdown",
   "metadata": {},
   "source": [
    "# Encoding Categorical Data"
   ]
  },
  {
   "cell_type": "code",
   "execution_count": 7,
   "metadata": {},
   "outputs": [],
   "source": [
    "from sklearn.compose import ColumnTransformer\n",
    "from sklearn.preprocessing import OneHotEncoder,OrdinalEncoder"
   ]
  },
  {
   "cell_type": "code",
   "execution_count": 8,
   "metadata": {},
   "outputs": [],
   "source": [
    "ct = ColumnTransformer(transformers=[('Country',OneHotEncoder(),[1]),('Gender',OrdinalEncoder(),[2])],remainder='passthrough')\n",
    "x= ct.fit_transform(x)\n",
    "# Avoiding Dummy variable Trap\n",
    "x=x[:,1:]"
   ]
  },
  {
   "cell_type": "markdown",
   "metadata": {},
   "source": [
    "# Spliting the Dataset"
   ]
  },
  {
   "cell_type": "code",
   "execution_count": 9,
   "metadata": {},
   "outputs": [
    {
     "name": "stdout",
     "output_type": "stream",
     "text": [
      "(8000, 11) (2000, 11) (8000,) (2000,)\n"
     ]
    }
   ],
   "source": [
    "from sklearn.model_selection import train_test_split\n",
    "X, x_hold_out ,Y, y_hold_out = train_test_split(x,y,test_size=0.2,random_state=42,stratify=y)\n",
    "print(X.shape,x_hold_out.shape,Y.shape,y_hold_out.shape)"
   ]
  },
  {
   "cell_type": "code",
   "execution_count": 10,
   "metadata": {},
   "outputs": [
    {
     "name": "stdout",
     "output_type": "stream",
     "text": [
      "Ratio in hold_out_set -> 0.2035\n",
      "Ratio in for cross validate set -> 0.204\n"
     ]
    }
   ],
   "source": [
    "print(f\"Ratio in hold_out_set -> {Counter(y_hold_out)[1]/len(y_hold_out)}\")\n",
    "print(f\"Ratio in for cross validate set -> {round(Counter(Y)[1]/len(Y),3)}\")"
   ]
  },
  {
   "cell_type": "markdown",
   "metadata": {},
   "source": [
    "# Feature Scaling"
   ]
  },
  {
   "cell_type": "code",
   "execution_count": 11,
   "metadata": {},
   "outputs": [],
   "source": [
    "from sklearn.preprocessing import StandardScaler\n",
    "sc= StandardScaler()\n",
    "X=sc.fit_transform(X)\n",
    "x_hold_out=sc.transform(x_hold_out)"
   ]
  },
  {
   "cell_type": "markdown",
   "metadata": {},
   "source": [
    "# Building Neural Network"
   ]
  },
  {
   "cell_type": "code",
   "execution_count": 12,
   "metadata": {},
   "outputs": [
    {
     "data": {
      "text/plain": [
       "'2.13.0'"
      ]
     },
     "execution_count": 12,
     "metadata": {},
     "output_type": "execute_result"
    }
   ],
   "source": [
    "import tensorflow as tf\n",
    "tf.__version__"
   ]
  },
  {
   "cell_type": "markdown",
   "metadata": {},
   "source": [
    "## Hyperparameter"
   ]
  },
  {
   "cell_type": "code",
   "execution_count": 13,
   "metadata": {},
   "outputs": [],
   "source": [
    "params={\n",
    "    'batch_size':[20,25],\n",
    "    'epochs':[50,70],\n",
    "    'model__neurons_1':[6,7],\n",
    "    'model__neurons_2':[4,3],\n",
    "    'model__activation':['relu','softmax'],\n",
    "    'model__optimizer':['adam','rmsprop'],\n",
    "    'model__dropout':[0.1,0.2]\n",
    "    }"
   ]
  },
  {
   "cell_type": "code",
   "execution_count": 14,
   "metadata": {},
   "outputs": [],
   "source": [
    "def create_model(neurons_1,neurons_2,activation,optimizer,dropout):\n",
    "    nn = tf.keras.Sequential()\n",
    "    nn.add(tf.keras.layers.Input(shape=11))\n",
    "    nn.add(tf.keras.layers.Dense(units=neurons_1,activation=activation,kernel_initializer='glorot_uniform'))\n",
    "    nn.add(tf.keras.layers.Dropout(rate=dropout))\n",
    "    nn.add(tf.keras.layers.Dense(units=neurons_2,activation=activation))    \n",
    "    nn.add(tf.keras.layers.Dropout(rate=dropout))\n",
    "    nn.add(tf.keras.layers.Dense(units=1,activation='sigmoid'))\n",
    "    nn.compile(optimizer=optimizer,loss='binary_crossentropy',metrics=['accuracy'])\n",
    "    return nn"
   ]
  },
  {
   "cell_type": "code",
   "execution_count": 15,
   "metadata": {},
   "outputs": [],
   "source": [
    "from scikeras.wrappers import KerasClassifier\n",
    "model = KerasClassifier(model=create_model)"
   ]
  },
  {
   "cell_type": "markdown",
   "metadata": {},
   "source": [
    "# GridSearchCV"
   ]
  },
  {
   "cell_type": "code",
   "execution_count": 16,
   "metadata": {},
   "outputs": [],
   "source": [
    "from sklearn.model_selection import GridSearchCV\n",
    "gs= GridSearchCV(estimator=model, param_grid=params,scoring='accuracy',cv=10,n_jobs=-1,return_train_score=True,verbose=0)"
   ]
  },
  {
   "cell_type": "code",
   "execution_count": 17,
   "metadata": {},
   "outputs": [
    {
     "name": "stderr",
     "output_type": "stream",
     "text": [
      "c:\\Users\\sauron\\anaconda3\\envs\\dl\\Lib\\site-packages\\joblib\\externals\\loky\\process_executor.py:752: UserWarning: A worker stopped while some jobs were given to the executor. This can be caused by a too short worker timeout or by a memory leak.\n",
      "  warnings.warn(\n"
     ]
    },
    {
     "name": "stdout",
     "output_type": "stream",
     "text": [
      "Epoch 1/70\n",
      "320/320 [==============================] - 1s 2ms/step - loss: 0.6757 - accuracy: 0.5691\n",
      "Epoch 2/70\n",
      "320/320 [==============================] - 1s 2ms/step - loss: 0.5521 - accuracy: 0.7962\n",
      "Epoch 3/70\n",
      "320/320 [==============================] - 1s 2ms/step - loss: 0.5115 - accuracy: 0.7962\n",
      "Epoch 4/70\n",
      "320/320 [==============================] - 0s 1ms/step - loss: 0.4939 - accuracy: 0.7962\n",
      "Epoch 5/70\n",
      "320/320 [==============================] - 0s 1ms/step - loss: 0.4819 - accuracy: 0.7962\n",
      "Epoch 6/70\n",
      "320/320 [==============================] - 0s 1ms/step - loss: 0.4699 - accuracy: 0.7962\n",
      "Epoch 7/70\n",
      "320/320 [==============================] - 0s 1ms/step - loss: 0.4606 - accuracy: 0.7962\n",
      "Epoch 8/70\n",
      "320/320 [==============================] - 0s 1ms/step - loss: 0.4552 - accuracy: 0.7962\n",
      "Epoch 9/70\n",
      "320/320 [==============================] - 0s 1ms/step - loss: 0.4508 - accuracy: 0.7962\n",
      "Epoch 10/70\n",
      "320/320 [==============================] - 0s 1ms/step - loss: 0.4470 - accuracy: 0.7962\n",
      "Epoch 11/70\n",
      "320/320 [==============================] - 0s 1ms/step - loss: 0.4409 - accuracy: 0.7965\n",
      "Epoch 12/70\n",
      "320/320 [==============================] - 0s 1ms/step - loss: 0.4408 - accuracy: 0.7964\n",
      "Epoch 13/70\n",
      "320/320 [==============================] - 0s 1ms/step - loss: 0.4352 - accuracy: 0.7991\n",
      "Epoch 14/70\n",
      "320/320 [==============================] - 0s 1ms/step - loss: 0.4349 - accuracy: 0.8046\n",
      "Epoch 15/70\n",
      "320/320 [==============================] - 0s 1ms/step - loss: 0.4324 - accuracy: 0.8076\n",
      "Epoch 16/70\n",
      "320/320 [==============================] - 0s 1ms/step - loss: 0.4288 - accuracy: 0.8099\n",
      "Epoch 17/70\n",
      "320/320 [==============================] - 0s 1ms/step - loss: 0.4250 - accuracy: 0.8177\n",
      "Epoch 18/70\n",
      "320/320 [==============================] - 0s 1ms/step - loss: 0.4226 - accuracy: 0.8206\n",
      "Epoch 19/70\n",
      "320/320 [==============================] - 1s 2ms/step - loss: 0.4181 - accuracy: 0.8238\n",
      "Epoch 20/70\n",
      "320/320 [==============================] - 0s 1ms/step - loss: 0.4208 - accuracy: 0.8236\n",
      "Epoch 21/70\n",
      "320/320 [==============================] - 0s 1ms/step - loss: 0.4164 - accuracy: 0.8261\n",
      "Epoch 22/70\n",
      "320/320 [==============================] - 0s 2ms/step - loss: 0.4100 - accuracy: 0.8291\n",
      "Epoch 23/70\n",
      "320/320 [==============================] - 0s 2ms/step - loss: 0.4112 - accuracy: 0.8259\n",
      "Epoch 24/70\n",
      "320/320 [==============================] - 0s 1ms/step - loss: 0.4101 - accuracy: 0.8289\n",
      "Epoch 25/70\n",
      "320/320 [==============================] - 0s 1ms/step - loss: 0.4019 - accuracy: 0.8341\n",
      "Epoch 26/70\n",
      "320/320 [==============================] - 0s 1ms/step - loss: 0.4037 - accuracy: 0.8304\n",
      "Epoch 27/70\n",
      "320/320 [==============================] - 0s 1ms/step - loss: 0.4023 - accuracy: 0.8372\n",
      "Epoch 28/70\n",
      "320/320 [==============================] - 1s 2ms/step - loss: 0.3977 - accuracy: 0.8385\n",
      "Epoch 29/70\n",
      "320/320 [==============================] - 1s 2ms/step - loss: 0.3987 - accuracy: 0.8351\n",
      "Epoch 30/70\n",
      "320/320 [==============================] - 0s 2ms/step - loss: 0.3948 - accuracy: 0.8331\n",
      "Epoch 31/70\n",
      "320/320 [==============================] - 1s 2ms/step - loss: 0.3940 - accuracy: 0.8381\n",
      "Epoch 32/70\n",
      "320/320 [==============================] - 1s 2ms/step - loss: 0.3909 - accuracy: 0.8401\n",
      "Epoch 33/70\n",
      "320/320 [==============================] - 1s 2ms/step - loss: 0.3951 - accuracy: 0.8371\n",
      "Epoch 34/70\n",
      "320/320 [==============================] - 0s 2ms/step - loss: 0.3945 - accuracy: 0.8354\n",
      "Epoch 35/70\n",
      "320/320 [==============================] - 0s 1ms/step - loss: 0.3887 - accuracy: 0.8385\n",
      "Epoch 36/70\n",
      "320/320 [==============================] - 0s 1ms/step - loss: 0.3905 - accuracy: 0.8394\n",
      "Epoch 37/70\n",
      "320/320 [==============================] - 0s 1ms/step - loss: 0.3907 - accuracy: 0.8366\n",
      "Epoch 38/70\n",
      "320/320 [==============================] - 0s 1ms/step - loss: 0.3902 - accuracy: 0.8395\n",
      "Epoch 39/70\n",
      "320/320 [==============================] - 0s 1ms/step - loss: 0.3902 - accuracy: 0.8357\n",
      "Epoch 40/70\n",
      "320/320 [==============================] - 0s 1ms/step - loss: 0.3849 - accuracy: 0.8385\n",
      "Epoch 41/70\n",
      "320/320 [==============================] - 0s 1ms/step - loss: 0.3859 - accuracy: 0.8339\n",
      "Epoch 42/70\n",
      "320/320 [==============================] - 0s 1ms/step - loss: 0.3852 - accuracy: 0.8413\n",
      "Epoch 43/70\n",
      "320/320 [==============================] - 0s 1ms/step - loss: 0.3877 - accuracy: 0.8354\n",
      "Epoch 44/70\n",
      "320/320 [==============================] - 0s 1ms/step - loss: 0.3823 - accuracy: 0.8425\n",
      "Epoch 45/70\n",
      "320/320 [==============================] - 0s 1ms/step - loss: 0.3821 - accuracy: 0.8422\n",
      "Epoch 46/70\n",
      "320/320 [==============================] - 0s 1ms/step - loss: 0.3855 - accuracy: 0.8382\n",
      "Epoch 47/70\n",
      "320/320 [==============================] - 1s 2ms/step - loss: 0.3829 - accuracy: 0.8419\n",
      "Epoch 48/70\n",
      "320/320 [==============================] - 0s 1ms/step - loss: 0.3836 - accuracy: 0.8374\n",
      "Epoch 49/70\n",
      "320/320 [==============================] - 0s 1ms/step - loss: 0.3804 - accuracy: 0.8406\n",
      "Epoch 50/70\n",
      "320/320 [==============================] - 0s 1ms/step - loss: 0.3830 - accuracy: 0.8393\n",
      "Epoch 51/70\n",
      "320/320 [==============================] - 0s 1ms/step - loss: 0.3818 - accuracy: 0.8410\n",
      "Epoch 52/70\n",
      "320/320 [==============================] - 0s 1ms/step - loss: 0.3825 - accuracy: 0.8394\n",
      "Epoch 53/70\n",
      "320/320 [==============================] - 0s 1ms/step - loss: 0.3829 - accuracy: 0.8388\n",
      "Epoch 54/70\n",
      "320/320 [==============================] - 0s 1ms/step - loss: 0.3827 - accuracy: 0.8395\n",
      "Epoch 55/70\n",
      "320/320 [==============================] - 0s 1ms/step - loss: 0.3809 - accuracy: 0.8413\n",
      "Epoch 56/70\n",
      "320/320 [==============================] - 0s 1ms/step - loss: 0.3776 - accuracy: 0.8418\n",
      "Epoch 57/70\n",
      "320/320 [==============================] - 0s 1ms/step - loss: 0.3811 - accuracy: 0.8406\n",
      "Epoch 58/70\n",
      "320/320 [==============================] - 0s 1ms/step - loss: 0.3775 - accuracy: 0.8430\n",
      "Epoch 59/70\n",
      "320/320 [==============================] - 0s 1ms/step - loss: 0.3790 - accuracy: 0.8413\n",
      "Epoch 60/70\n",
      "320/320 [==============================] - 0s 1ms/step - loss: 0.3737 - accuracy: 0.8464\n",
      "Epoch 61/70\n",
      "320/320 [==============================] - 0s 2ms/step - loss: 0.3774 - accuracy: 0.8431\n",
      "Epoch 62/70\n",
      "320/320 [==============================] - 0s 1ms/step - loss: 0.3773 - accuracy: 0.8428\n",
      "Epoch 63/70\n",
      "320/320 [==============================] - 0s 1ms/step - loss: 0.3759 - accuracy: 0.8425\n",
      "Epoch 64/70\n",
      "320/320 [==============================] - 0s 1ms/step - loss: 0.3789 - accuracy: 0.8405\n",
      "Epoch 65/70\n",
      "320/320 [==============================] - 0s 1ms/step - loss: 0.3760 - accuracy: 0.8418\n",
      "Epoch 66/70\n",
      "320/320 [==============================] - 0s 1ms/step - loss: 0.3748 - accuracy: 0.8446\n",
      "Epoch 67/70\n",
      "320/320 [==============================] - 0s 1ms/step - loss: 0.3765 - accuracy: 0.8436\n",
      "Epoch 68/70\n",
      "320/320 [==============================] - 0s 2ms/step - loss: 0.3745 - accuracy: 0.8428\n",
      "Epoch 69/70\n",
      "320/320 [==============================] - 0s 1ms/step - loss: 0.3768 - accuracy: 0.8457\n",
      "Epoch 70/70\n",
      "320/320 [==============================] - 0s 1ms/step - loss: 0.3771 - accuracy: 0.8389\n"
     ]
    }
   ],
   "source": [
    "gs=gs.fit(X,Y)"
   ]
  },
  {
   "cell_type": "code",
   "execution_count": 18,
   "metadata": {},
   "outputs": [
    {
     "data": {
      "text/plain": [
       "0.86175"
      ]
     },
     "execution_count": 18,
     "metadata": {},
     "output_type": "execute_result"
    }
   ],
   "source": [
    "gs.best_score_"
   ]
  },
  {
   "cell_type": "code",
   "execution_count": 19,
   "metadata": {},
   "outputs": [
    {
     "data": {
      "text/plain": [
       "{'batch_size': 25,\n",
       " 'epochs': 70,\n",
       " 'model__activation': 'softmax',\n",
       " 'model__dropout': 0.1,\n",
       " 'model__neurons_1': 6,\n",
       " 'model__neurons_2': 4,\n",
       " 'model__optimizer': 'adam'}"
      ]
     },
     "execution_count": 19,
     "metadata": {},
     "output_type": "execute_result"
    }
   ],
   "source": [
    "gs.best_params_"
   ]
  }
 ],
 "metadata": {
  "kernelspec": {
   "display_name": "dl",
   "language": "python",
   "name": "python3"
  },
  "language_info": {
   "codemirror_mode": {
    "name": "ipython",
    "version": 3
   },
   "file_extension": ".py",
   "mimetype": "text/x-python",
   "name": "python",
   "nbconvert_exporter": "python",
   "pygments_lexer": "ipython3",
   "version": "3.11.4"
  },
  "orig_nbformat": 4
 },
 "nbformat": 4,
 "nbformat_minor": 2
}
