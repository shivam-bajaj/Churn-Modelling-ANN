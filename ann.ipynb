{
 "cells": [
  {
   "attachments": {},
   "cell_type": "markdown",
   "id": "e1ea6249-67ee-4154-99fc-81842252df14",
   "metadata": {},
   "source": [
    "# Churn Modelling"
   ]
  },
  {
   "cell_type": "code",
   "execution_count": 1,
   "id": "006335b5-5988-4ed1-814c-38df1b0ea3ea",
   "metadata": {},
   "outputs": [],
   "source": [
    "#import libraries\n",
    "import pandas as pd\n",
    "import numpy as np\n",
    "import matplotlib.pyplot as plt\n",
    "\n",
    "#np.set_printoptions(threshold=np.inf)\n",
    "np.set_printoptions(threshold=1000)"
   ]
  },
  {
   "cell_type": "code",
   "execution_count": 2,
   "id": "f4aefd2a-a0c5-4906-ada7-b2df0f4e6dae",
   "metadata": {},
   "outputs": [
    {
     "data": {
      "text/html": [
       "<div>\n",
       "<style scoped>\n",
       "    .dataframe tbody tr th:only-of-type {\n",
       "        vertical-align: middle;\n",
       "    }\n",
       "\n",
       "    .dataframe tbody tr th {\n",
       "        vertical-align: top;\n",
       "    }\n",
       "\n",
       "    .dataframe thead th {\n",
       "        text-align: right;\n",
       "    }\n",
       "</style>\n",
       "<table border=\"1\" class=\"dataframe\">\n",
       "  <thead>\n",
       "    <tr style=\"text-align: right;\">\n",
       "      <th></th>\n",
       "      <th>RowNumber</th>\n",
       "      <th>CustomerId</th>\n",
       "      <th>Surname</th>\n",
       "      <th>CreditScore</th>\n",
       "      <th>Geography</th>\n",
       "      <th>Gender</th>\n",
       "      <th>Age</th>\n",
       "      <th>Tenure</th>\n",
       "      <th>Balance</th>\n",
       "      <th>NumOfProducts</th>\n",
       "      <th>HasCrCard</th>\n",
       "      <th>IsActiveMember</th>\n",
       "      <th>EstimatedSalary</th>\n",
       "      <th>Exited</th>\n",
       "    </tr>\n",
       "  </thead>\n",
       "  <tbody>\n",
       "    <tr>\n",
       "      <th>0</th>\n",
       "      <td>1</td>\n",
       "      <td>15634602</td>\n",
       "      <td>Hargrave</td>\n",
       "      <td>619</td>\n",
       "      <td>France</td>\n",
       "      <td>Female</td>\n",
       "      <td>42</td>\n",
       "      <td>2</td>\n",
       "      <td>0.00</td>\n",
       "      <td>1</td>\n",
       "      <td>1</td>\n",
       "      <td>1</td>\n",
       "      <td>101348.88</td>\n",
       "      <td>1</td>\n",
       "    </tr>\n",
       "    <tr>\n",
       "      <th>1</th>\n",
       "      <td>2</td>\n",
       "      <td>15647311</td>\n",
       "      <td>Hill</td>\n",
       "      <td>608</td>\n",
       "      <td>Spain</td>\n",
       "      <td>Female</td>\n",
       "      <td>41</td>\n",
       "      <td>1</td>\n",
       "      <td>83807.86</td>\n",
       "      <td>1</td>\n",
       "      <td>0</td>\n",
       "      <td>1</td>\n",
       "      <td>112542.58</td>\n",
       "      <td>0</td>\n",
       "    </tr>\n",
       "    <tr>\n",
       "      <th>2</th>\n",
       "      <td>3</td>\n",
       "      <td>15619304</td>\n",
       "      <td>Onio</td>\n",
       "      <td>502</td>\n",
       "      <td>France</td>\n",
       "      <td>Female</td>\n",
       "      <td>42</td>\n",
       "      <td>8</td>\n",
       "      <td>159660.80</td>\n",
       "      <td>3</td>\n",
       "      <td>1</td>\n",
       "      <td>0</td>\n",
       "      <td>113931.57</td>\n",
       "      <td>1</td>\n",
       "    </tr>\n",
       "    <tr>\n",
       "      <th>3</th>\n",
       "      <td>4</td>\n",
       "      <td>15701354</td>\n",
       "      <td>Boni</td>\n",
       "      <td>699</td>\n",
       "      <td>France</td>\n",
       "      <td>Female</td>\n",
       "      <td>39</td>\n",
       "      <td>1</td>\n",
       "      <td>0.00</td>\n",
       "      <td>2</td>\n",
       "      <td>0</td>\n",
       "      <td>0</td>\n",
       "      <td>93826.63</td>\n",
       "      <td>0</td>\n",
       "    </tr>\n",
       "    <tr>\n",
       "      <th>4</th>\n",
       "      <td>5</td>\n",
       "      <td>15737888</td>\n",
       "      <td>Mitchell</td>\n",
       "      <td>850</td>\n",
       "      <td>Spain</td>\n",
       "      <td>Female</td>\n",
       "      <td>43</td>\n",
       "      <td>2</td>\n",
       "      <td>125510.82</td>\n",
       "      <td>1</td>\n",
       "      <td>1</td>\n",
       "      <td>1</td>\n",
       "      <td>79084.10</td>\n",
       "      <td>0</td>\n",
       "    </tr>\n",
       "  </tbody>\n",
       "</table>\n",
       "</div>"
      ],
      "text/plain": [
       "   RowNumber  CustomerId   Surname  CreditScore Geography  Gender  Age  \\\n",
       "0          1    15634602  Hargrave          619    France  Female   42   \n",
       "1          2    15647311      Hill          608     Spain  Female   41   \n",
       "2          3    15619304      Onio          502    France  Female   42   \n",
       "3          4    15701354      Boni          699    France  Female   39   \n",
       "4          5    15737888  Mitchell          850     Spain  Female   43   \n",
       "\n",
       "   Tenure    Balance  NumOfProducts  HasCrCard  IsActiveMember  \\\n",
       "0       2       0.00              1          1               1   \n",
       "1       1   83807.86              1          0               1   \n",
       "2       8  159660.80              3          1               0   \n",
       "3       1       0.00              2          0               0   \n",
       "4       2  125510.82              1          1               1   \n",
       "\n",
       "   EstimatedSalary  Exited  \n",
       "0        101348.88       1  \n",
       "1        112542.58       0  \n",
       "2        113931.57       1  \n",
       "3         93826.63       0  \n",
       "4         79084.10       0  "
      ]
     },
     "execution_count": 2,
     "metadata": {},
     "output_type": "execute_result"
    }
   ],
   "source": [
    "df = pd.read_csv('Churn_Modelling.csv')\n",
    "df.head()"
   ]
  },
  {
   "cell_type": "code",
   "execution_count": 3,
   "id": "fadd5510-27af-424b-8591-4c321c7eb9df",
   "metadata": {},
   "outputs": [
    {
     "data": {
      "text/plain": [
       "RowNumber          0\n",
       "CustomerId         0\n",
       "Surname            0\n",
       "CreditScore        0\n",
       "Geography          0\n",
       "Gender             0\n",
       "Age                0\n",
       "Tenure             0\n",
       "Balance            0\n",
       "NumOfProducts      0\n",
       "HasCrCard          0\n",
       "IsActiveMember     0\n",
       "EstimatedSalary    0\n",
       "Exited             0\n",
       "dtype: int64"
      ]
     },
     "execution_count": 3,
     "metadata": {},
     "output_type": "execute_result"
    }
   ],
   "source": [
    "# Checking null Values\n",
    "df.isnull().sum()"
   ]
  },
  {
   "cell_type": "code",
   "execution_count": 4,
   "id": "990ce5fd-bbce-4a3d-8d07-cd5cc491b150",
   "metadata": {},
   "outputs": [
    {
     "name": "stdout",
     "output_type": "stream",
     "text": [
      "<class 'pandas.core.frame.DataFrame'>\n",
      "      CreditScore Geography  Gender  Age  Tenure    Balance  NumOfProducts  \\\n",
      "0             619    France  Female   42       2       0.00              1   \n",
      "1             608     Spain  Female   41       1   83807.86              1   \n",
      "2             502    France  Female   42       8  159660.80              3   \n",
      "3             699    France  Female   39       1       0.00              2   \n",
      "4             850     Spain  Female   43       2  125510.82              1   \n",
      "...           ...       ...     ...  ...     ...        ...            ...   \n",
      "9995          771    France    Male   39       5       0.00              2   \n",
      "9996          516    France    Male   35      10   57369.61              1   \n",
      "9997          709    France  Female   36       7       0.00              1   \n",
      "9998          772   Germany    Male   42       3   75075.31              2   \n",
      "9999          792    France  Female   28       4  130142.79              1   \n",
      "\n",
      "      HasCrCard  IsActiveMember  EstimatedSalary  \n",
      "0             1               1        101348.88  \n",
      "1             0               1        112542.58  \n",
      "2             1               0        113931.57  \n",
      "3             0               0         93826.63  \n",
      "4             1               1         79084.10  \n",
      "...         ...             ...              ...  \n",
      "9995          1               0         96270.64  \n",
      "9996          1               1        101699.77  \n",
      "9997          0               1         42085.58  \n",
      "9998          1               0         92888.52  \n",
      "9999          1               0         38190.78  \n",
      "\n",
      "[10000 rows x 10 columns]\n"
     ]
    }
   ],
   "source": [
    "x= df.iloc[:,3:-1]\n",
    "print(type(x))\n",
    "print(x)"
   ]
  },
  {
   "cell_type": "code",
   "execution_count": 5,
   "id": "9ed7b9ce-d3f3-4f80-b62d-f683f59342df",
   "metadata": {},
   "outputs": [
    {
     "name": "stdout",
     "output_type": "stream",
     "text": [
      "<class 'pandas.core.series.Series'>\n",
      "0       1\n",
      "1       0\n",
      "2       1\n",
      "3       0\n",
      "4       0\n",
      "       ..\n",
      "9995    0\n",
      "9996    0\n",
      "9997    1\n",
      "9998    1\n",
      "9999    0\n",
      "Name: Exited, Length: 10000, dtype: int64\n"
     ]
    }
   ],
   "source": [
    "y= df.iloc[:,-1]\n",
    "print(type(y))\n",
    "print(y)"
   ]
  },
  {
   "cell_type": "markdown",
   "id": "636fb324",
   "metadata": {},
   "source": [
    "## Class Distribution"
   ]
  },
  {
   "cell_type": "code",
   "execution_count": 6,
   "id": "ca8e6039",
   "metadata": {},
   "outputs": [
    {
     "name": "stdout",
     "output_type": "stream",
     "text": [
      "Labels- [0 1]\n",
      " Counts- [7963 2037]\n"
     ]
    },
    {
     "data": {
      "image/png": "[encoded data removed]",
      "text/plain": [
       "<Figure size 640x480 with 1 Axes>"
      ]
     },
     "metadata": {},
     "output_type": "display_data"
    }
   ],
   "source": [
    "unique_labels, counts = np.unique(y, return_counts=True)\n",
    "plt.bar (unique_labels , counts)\n",
    "plt.xlabel('Class label')\n",
    "plt.ylabel('Number of samples')\n",
    "plt.title('Class distribution in dataset')\n",
    "print(f\"Labels- {unique_labels}\\n Counts- {counts}\")\n",
    "plt.show()"
   ]
  },
  {
   "attachments": {},
   "cell_type": "markdown",
   "id": "183b3a72-a95f-4305-a22c-11b4e4f13237",
   "metadata": {},
   "source": [
    "### Encoding Categorical Data"
   ]
  },
  {
   "cell_type": "code",
   "execution_count": 7,
   "id": "9fb3c065-b068-49a6-af86-8102796dfcb8",
   "metadata": {},
   "outputs": [],
   "source": [
    "# import libraries\n",
    "from sklearn.compose import ColumnTransformer\n",
    "from sklearn.preprocessing import OneHotEncoder,OrdinalEncoder,LabelEncoder"
   ]
  },
  {
   "attachments": {},
   "cell_type": "markdown",
   "id": "43d9f46c-3e8e-4af2-bc4c-92c9c1243212",
   "metadata": {},
   "source": [
    "Geography and Gender are categoriacal values <br>\n",
    "Geography -> Label Encoder or Ordinal Encoder <br>\n",
    "Gender    -> One Hot Encoder <br>\n",
    "We can directy use Column transformer apply One Hot Encoder and Ordinal Encoder or we apply One Hot Encoder  and Label Encoder separtately"
   ]
  },
  {
   "cell_type": "code",
   "execution_count": 8,
   "id": "f5a03ca7",
   "metadata": {},
   "outputs": [],
   "source": [
    "x2=x"
   ]
  },
  {
   "cell_type": "code",
   "execution_count": 9,
   "id": "af43510b",
   "metadata": {},
   "outputs": [
    {
     "data": {
      "text/plain": [
       "array([[1.0000000e+00, 0.0000000e+00, 0.0000000e+00, ..., 1.0000000e+00,\n",
       "        1.0000000e+00, 1.0134888e+05],\n",
       "       [0.0000000e+00, 0.0000000e+00, 1.0000000e+00, ..., 0.0000000e+00,\n",
       "        1.0000000e+00, 1.1254258e+05],\n",
       "       [1.0000000e+00, 0.0000000e+00, 0.0000000e+00, ..., 1.0000000e+00,\n",
       "        0.0000000e+00, 1.1393157e+05],\n",
       "       ...,\n",
       "       [1.0000000e+00, 0.0000000e+00, 0.0000000e+00, ..., 0.0000000e+00,\n",
       "        1.0000000e+00, 4.2085580e+04],\n",
       "       [0.0000000e+00, 1.0000000e+00, 0.0000000e+00, ..., 1.0000000e+00,\n",
       "        0.0000000e+00, 9.2888520e+04],\n",
       "       [1.0000000e+00, 0.0000000e+00, 0.0000000e+00, ..., 1.0000000e+00,\n",
       "        0.0000000e+00, 3.8190780e+04]])"
      ]
     },
     "execution_count": 9,
     "metadata": {},
     "output_type": "execute_result"
    }
   ],
   "source": [
    "ct = ColumnTransformer(transformers=[('Country',OneHotEncoder(),[1]),('Gender',OrdinalEncoder(),[2])],remainder='passthrough')\n",
    "x= ct.fit_transform(x)\n",
    "x"
   ]
  },
  {
   "cell_type": "code",
   "execution_count": 10,
   "id": "23b1557a-8bd6-4572-aef5-35d0d260ea81",
   "metadata": {},
   "outputs": [
    {
     "data": {
      "text/plain": [
       "array([[1.0, 0.0, 0.0, ..., 1, 1, 101348.88],\n",
       "       [0.0, 0.0, 1.0, ..., 0, 1, 112542.58],\n",
       "       [1.0, 0.0, 0.0, ..., 1, 0, 113931.57],\n",
       "       ...,\n",
       "       [1.0, 0.0, 0.0, ..., 0, 1, 42085.58],\n",
       "       [0.0, 1.0, 0.0, ..., 1, 0, 92888.52],\n",
       "       [1.0, 0.0, 0.0, ..., 1, 0, 38190.78]], dtype=object)"
      ]
     },
     "execution_count": 10,
     "metadata": {},
     "output_type": "execute_result"
    }
   ],
   "source": [
    "#using Label Encoder\n",
    "le = LabelEncoder()\n",
    "x2.iloc[:,2] = le.fit_transform(x2.iloc[:,2])\n",
    "ct = ColumnTransformer(transformers=[('Country',OneHotEncoder(),[1])],remainder='passthrough')\n",
    "x2= ct.fit_transform(x2)\n",
    "x2"
   ]
  },
  {
   "attachments": {},
   "cell_type": "markdown",
   "id": "86c89fe2",
   "metadata": {},
   "source": [
    "\n",
    "OrdinalEncoder is for 2D data with the shape (n_samples, n_features)<br>\n",
    "LabelEncoder is for 1D data with the shape (n_samples,)<br><br>\n",
    "\n",
    "Oridnal Enoder - The features are converted to ordinal integers,single column of integers (0 to n_categories - 1) per feature.<br>\n",
    "Label Encoder - Encode target labels with value between 0 and n_classes-1."
   ]
  },
  {
   "cell_type": "code",
   "execution_count": 11,
   "id": "218b9943-5e8b-4d7c-b43c-58b858b90a03",
   "metadata": {},
   "outputs": [],
   "source": [
    "# Avoiding Dummy variable Trap\n",
    "x=x[:,1:]"
   ]
  },
  {
   "cell_type": "markdown",
   "id": "5df2d29c-dad0-4a9c-b23f-bf972834feaa",
   "metadata": {},
   "source": [
    "### Spliting The Datatset"
   ]
  },
  {
   "cell_type": "code",
   "execution_count": 12,
   "id": "89393744-593c-488d-befe-259db8831dda",
   "metadata": {},
   "outputs": [],
   "source": [
    "from sklearn.model_selection import train_test_split\n",
    "x_train, x_test , y_train, y_test = train_test_split(x,y,test_size=0.2,random_state=0)"
   ]
  },
  {
   "cell_type": "markdown",
   "id": "a3a20f07-d2ab-4a3e-a5e4-b15eec79ff38",
   "metadata": {},
   "source": [
    "### Feature Scaling\n"
   ]
  },
  {
   "cell_type": "code",
   "execution_count": 13,
   "id": "4b79dbf1",
   "metadata": {},
   "outputs": [],
   "source": [
    "from sklearn.preprocessing import StandardScaler\n",
    "sc= StandardScaler()\n",
    "x_train = sc.fit_transform(x_train)\n",
    "x_test = sc.transform(x_test)"
   ]
  },
  {
   "cell_type": "markdown",
   "id": "bf638a4e-64c2-40fd-a608-9292b0aeedba",
   "metadata": {},
   "source": [
    "### Building Neural Network"
   ]
  },
  {
   "cell_type": "code",
   "execution_count": 14,
   "id": "6e3f7857",
   "metadata": {},
   "outputs": [
    {
     "data": {
      "text/plain": [
       "'2.13.0'"
      ]
     },
     "execution_count": 14,
     "metadata": {},
     "output_type": "execute_result"
    }
   ],
   "source": [
    "import tensorflow as tf\n",
    "\n",
    "tf.__version__"
   ]
  },
  {
   "cell_type": "code",
   "execution_count": 15,
   "id": "f37e6128",
   "metadata": {},
   "outputs": [],
   "source": [
    "# Initialize the ANN and add Input layer\n",
    "\n",
    "nn = tf.keras.Sequential()\n",
    "nn.add(tf.keras.layers.Input(shape=11))"
   ]
  },
  {
   "cell_type": "code",
   "execution_count": 16,
   "id": "768e5137",
   "metadata": {},
   "outputs": [],
   "source": [
    "# Adding Hidden Layers\n",
    "nn.add(tf.keras.layers.Dense(units=7,activation='relu',kernel_initializer='glorot_uniform'))\n",
    "# Dropout regularization\n",
    "nn.add(tf.keras.layers.Dropout(rate=0.1))\n",
    "nn.add(tf.keras.layers.Dense(units=5,activation='relu'))\n",
    "nn.add(tf.keras.layers.Dropout(rate=0.1))"
   ]
  },
  {
   "cell_type": "code",
   "execution_count": 17,
   "id": "7324efeb",
   "metadata": {},
   "outputs": [
    {
     "name": "stdout",
     "output_type": "stream",
     "text": [
      "Model: \"sequential\"\n",
      "_________________________________________________________________\n",
      " Layer (type)                Output Shape              Param #   \n",
      "=================================================================\n",
      " dense (Dense)               (None, 7)                 84        \n",
      "                                                                 \n",
      " dropout (Dropout)           (None, 7)                 0         \n",
      "                                                                 \n",
      " dense_1 (Dense)             (None, 5)                 40        \n",
      "                                                                 \n",
      " dropout_1 (Dropout)         (None, 5)                 0         \n",
      "                                                                 \n",
      " dense_2 (Dense)             (None, 1)                 6         \n",
      "                                                                 \n",
      "=================================================================\n",
      "Total params: 130 (520.00 Byte)\n",
      "Trainable params: 130 (520.00 Byte)\n",
      "Non-trainable params: 0 (0.00 Byte)\n",
      "_________________________________________________________________\n"
     ]
    }
   ],
   "source": [
    "# Adding Output Layer\n",
    "nn.add(tf.keras.layers.Dense(units=1,activation='sigmoid'))\n",
    "nn.summary()"
   ]
  },
  {
   "cell_type": "code",
   "execution_count": 18,
   "id": "2d50c75d",
   "metadata": {},
   "outputs": [
    {
     "data": {
      "text/plain": [
       "[<keras.src.layers.core.dense.Dense at 0x1914d983f50>,\n",
       " <keras.src.layers.regularization.dropout.Dropout at 0x191514a5190>,\n",
       " <keras.src.layers.core.dense.Dense at 0x1914f7b24d0>,\n",
       " <keras.src.layers.regularization.dropout.Dropout at 0x1915152a950>,\n",
       " <keras.src.layers.core.dense.Dense at 0x19151547090>]"
      ]
     },
     "execution_count": 18,
     "metadata": {},
     "output_type": "execute_result"
    }
   ],
   "source": [
    "# Comiling the Neural Network\n",
    "nn.compile(optimizer='adam',loss='binary_crossentropy',metrics=['accuracy'])\n",
    "nn.layers"
   ]
  },
  {
   "cell_type": "code",
   "execution_count": 22,
   "id": "9f841c1c",
   "metadata": {},
   "outputs": [
    {
     "name": "stdout",
     "output_type": "stream",
     "text": [
      "Epoch 1/50\n"
     ]
    },
    {
     "name": "stdout",
     "output_type": "stream",
     "text": [
      "400/400 [==============================] - 2s 4ms/step - loss: 0.3612 - accuracy: 0.8529\n",
      "Epoch 2/50\n",
      "400/400 [==============================] - 2s 4ms/step - loss: 0.3609 - accuracy: 0.8545\n",
      "Epoch 3/50\n",
      "400/400 [==============================] - 1s 3ms/step - loss: 0.3648 - accuracy: 0.8503\n",
      "Epoch 4/50\n",
      "400/400 [==============================] - 1s 2ms/step - loss: 0.3635 - accuracy: 0.8544\n",
      "Epoch 5/50\n",
      "400/400 [==============================] - 1s 3ms/step - loss: 0.3609 - accuracy: 0.8515\n",
      "Epoch 6/50\n",
      "400/400 [==============================] - 1s 4ms/step - loss: 0.3646 - accuracy: 0.8520\n",
      "Epoch 7/50\n",
      "400/400 [==============================] - 1s 3ms/step - loss: 0.3623 - accuracy: 0.8518\n",
      "Epoch 8/50\n",
      "400/400 [==============================] - 1s 2ms/step - loss: 0.3624 - accuracy: 0.8536\n",
      "Epoch 9/50\n",
      "400/400 [==============================] - 1s 2ms/step - loss: 0.3650 - accuracy: 0.8479\n",
      "Epoch 10/50\n",
      "400/400 [==============================] - 2s 4ms/step - loss: 0.3608 - accuracy: 0.8535\n",
      "Epoch 11/50\n",
      "400/400 [==============================] - 1s 2ms/step - loss: 0.3631 - accuracy: 0.8497\n",
      "Epoch 12/50\n",
      "400/400 [==============================] - 1s 2ms/step - loss: 0.3593 - accuracy: 0.8525\n",
      "Epoch 13/50\n",
      "400/400 [==============================] - 1s 2ms/step - loss: 0.3629 - accuracy: 0.8526\n",
      "Epoch 14/50\n",
      "400/400 [==============================] - 2s 4ms/step - loss: 0.3603 - accuracy: 0.8539\n",
      "Epoch 15/50\n",
      "400/400 [==============================] - 2s 6ms/step - loss: 0.3627 - accuracy: 0.8533\n",
      "Epoch 16/50\n",
      "400/400 [==============================] - 1s 3ms/step - loss: 0.3566 - accuracy: 0.8560\n",
      "Epoch 17/50\n",
      "400/400 [==============================] - 1s 3ms/step - loss: 0.3570 - accuracy: 0.8546\n",
      "Epoch 18/50\n",
      "400/400 [==============================] - 1s 4ms/step - loss: 0.3594 - accuracy: 0.8518\n",
      "Epoch 19/50\n",
      "400/400 [==============================] - 2s 4ms/step - loss: 0.3616 - accuracy: 0.8539\n",
      "Epoch 20/50\n",
      "400/400 [==============================] - 1s 3ms/step - loss: 0.3606 - accuracy: 0.8509\n",
      "Epoch 21/50\n",
      "400/400 [==============================] - 1s 3ms/step - loss: 0.3575 - accuracy: 0.8531\n",
      "Epoch 22/50\n",
      "400/400 [==============================] - 1s 4ms/step - loss: 0.3612 - accuracy: 0.8515\n",
      "Epoch 23/50\n",
      "400/400 [==============================] - 1s 3ms/step - loss: 0.3621 - accuracy: 0.8500\n"
     ]
    },
    {
     "data": {
      "text/plain": [
       "<keras.src.callbacks.History at 0x19152db9090>"
      ]
     },
     "execution_count": 22,
     "metadata": {},
     "output_type": "execute_result"
    }
   ],
   "source": [
    "es=tf.keras.callbacks.EarlyStopping(monitor='loss',patience=7,restore_best_weights=True)\n",
    "# Fitting The model on Training set\n",
    "nn.fit(x_train,y_train,batch_size=20,epochs=50,callbacks=es)"
   ]
  },
  {
   "cell_type": "code",
   "execution_count": 23,
   "id": "21ce2c73",
   "metadata": {},
   "outputs": [
    {
     "data": {
      "text/html": [
       "<div>\n",
       "<style scoped>\n",
       "    .dataframe tbody tr th:only-of-type {\n",
       "        vertical-align: middle;\n",
       "    }\n",
       "\n",
       "    .dataframe tbody tr th {\n",
       "        vertical-align: top;\n",
       "    }\n",
       "\n",
       "    .dataframe thead th {\n",
       "        text-align: right;\n",
       "    }\n",
       "</style>\n",
       "<table border=\"1\" class=\"dataframe\">\n",
       "  <thead>\n",
       "    <tr style=\"text-align: right;\">\n",
       "      <th></th>\n",
       "      <th>loss</th>\n",
       "      <th>accuracy</th>\n",
       "    </tr>\n",
       "  </thead>\n",
       "  <tbody>\n",
       "    <tr>\n",
       "      <th>0</th>\n",
       "      <td>0.361187</td>\n",
       "      <td>0.852875</td>\n",
       "    </tr>\n",
       "    <tr>\n",
       "      <th>1</th>\n",
       "      <td>0.360908</td>\n",
       "      <td>0.854500</td>\n",
       "    </tr>\n",
       "    <tr>\n",
       "      <th>2</th>\n",
       "      <td>0.364813</td>\n",
       "      <td>0.850250</td>\n",
       "    </tr>\n",
       "    <tr>\n",
       "      <th>3</th>\n",
       "      <td>0.363520</td>\n",
       "      <td>0.854375</td>\n",
       "    </tr>\n",
       "    <tr>\n",
       "      <th>4</th>\n",
       "      <td>0.360878</td>\n",
       "      <td>0.851500</td>\n",
       "    </tr>\n",
       "    <tr>\n",
       "      <th>5</th>\n",
       "      <td>0.364632</td>\n",
       "      <td>0.852000</td>\n",
       "    </tr>\n",
       "    <tr>\n",
       "      <th>6</th>\n",
       "      <td>0.362291</td>\n",
       "      <td>0.851750</td>\n",
       "    </tr>\n",
       "    <tr>\n",
       "      <th>7</th>\n",
       "      <td>0.362447</td>\n",
       "      <td>0.853625</td>\n",
       "    </tr>\n",
       "    <tr>\n",
       "      <th>8</th>\n",
       "      <td>0.365001</td>\n",
       "      <td>0.847875</td>\n",
       "    </tr>\n",
       "    <tr>\n",
       "      <th>9</th>\n",
       "      <td>0.360753</td>\n",
       "      <td>0.853500</td>\n",
       "    </tr>\n",
       "    <tr>\n",
       "      <th>10</th>\n",
       "      <td>0.363075</td>\n",
       "      <td>0.849750</td>\n",
       "    </tr>\n",
       "    <tr>\n",
       "      <th>11</th>\n",
       "      <td>0.359305</td>\n",
       "      <td>0.852500</td>\n",
       "    </tr>\n",
       "    <tr>\n",
       "      <th>12</th>\n",
       "      <td>0.362937</td>\n",
       "      <td>0.852625</td>\n",
       "    </tr>\n",
       "    <tr>\n",
       "      <th>13</th>\n",
       "      <td>0.360267</td>\n",
       "      <td>0.853875</td>\n",
       "    </tr>\n",
       "    <tr>\n",
       "      <th>14</th>\n",
       "      <td>0.362721</td>\n",
       "      <td>0.853250</td>\n",
       "    </tr>\n",
       "    <tr>\n",
       "      <th>15</th>\n",
       "      <td>0.356633</td>\n",
       "      <td>0.856000</td>\n",
       "    </tr>\n",
       "    <tr>\n",
       "      <th>16</th>\n",
       "      <td>0.357013</td>\n",
       "      <td>0.854625</td>\n",
       "    </tr>\n",
       "    <tr>\n",
       "      <th>17</th>\n",
       "      <td>0.359360</td>\n",
       "      <td>0.851750</td>\n",
       "    </tr>\n",
       "    <tr>\n",
       "      <th>18</th>\n",
       "      <td>0.361649</td>\n",
       "      <td>0.853875</td>\n",
       "    </tr>\n",
       "    <tr>\n",
       "      <th>19</th>\n",
       "      <td>0.360622</td>\n",
       "      <td>0.850875</td>\n",
       "    </tr>\n",
       "    <tr>\n",
       "      <th>20</th>\n",
       "      <td>0.357499</td>\n",
       "      <td>0.853125</td>\n",
       "    </tr>\n",
       "    <tr>\n",
       "      <th>21</th>\n",
       "      <td>0.361194</td>\n",
       "      <td>0.851500</td>\n",
       "    </tr>\n",
       "    <tr>\n",
       "      <th>22</th>\n",
       "      <td>0.362135</td>\n",
       "      <td>0.850000</td>\n",
       "    </tr>\n",
       "  </tbody>\n",
       "</table>\n",
       "</div>"
      ],
      "text/plain": [
       "        loss  accuracy\n",
       "0   0.361187  0.852875\n",
       "1   0.360908  0.854500\n",
       "2   0.364813  0.850250\n",
       "3   0.363520  0.854375\n",
       "4   0.360878  0.851500\n",
       "5   0.364632  0.852000\n",
       "6   0.362291  0.851750\n",
       "7   0.362447  0.853625\n",
       "8   0.365001  0.847875\n",
       "9   0.360753  0.853500\n",
       "10  0.363075  0.849750\n",
       "11  0.359305  0.852500\n",
       "12  0.362937  0.852625\n",
       "13  0.360267  0.853875\n",
       "14  0.362721  0.853250\n",
       "15  0.356633  0.856000\n",
       "16  0.357013  0.854625\n",
       "17  0.359360  0.851750\n",
       "18  0.361649  0.853875\n",
       "19  0.360622  0.850875\n",
       "20  0.357499  0.853125\n",
       "21  0.361194  0.851500\n",
       "22  0.362135  0.850000"
      ]
     },
     "execution_count": 23,
     "metadata": {},
     "output_type": "execute_result"
    }
   ],
   "source": [
    "pd.DataFrame(nn.history.history)"
   ]
  },
  {
   "cell_type": "markdown",
   "id": "c64242e7",
   "metadata": {},
   "source": [
    "### Predictions"
   ]
  },
  {
   "cell_type": "code",
   "execution_count": 24,
   "id": "ebe8bb03",
   "metadata": {},
   "outputs": [
    {
     "name": "stdout",
     "output_type": "stream",
     "text": [
      "63/63 [==============================] - 0s 4ms/step\n"
     ]
    },
    {
     "data": {
      "text/plain": [
       "array([[0.24002723],\n",
       "       [0.32454482],\n",
       "       [0.17749555],\n",
       "       ...,\n",
       "       [0.23141386],\n",
       "       [0.15918864],\n",
       "       [0.2043885 ]], dtype=float32)"
      ]
     },
     "execution_count": 24,
     "metadata": {},
     "output_type": "execute_result"
    }
   ],
   "source": [
    "y_score= nn.predict(x_test)\n",
    "y_score"
   ]
  },
  {
   "cell_type": "markdown",
   "id": "0ba6c868",
   "metadata": {},
   "source": [
    "## ROC Curve"
   ]
  },
  {
   "cell_type": "code",
   "execution_count": 25,
   "id": "6bcc818b",
   "metadata": {},
   "outputs": [
    {
     "data": {
      "text/plain": [
       "<sklearn.metrics._plot.roc_curve.RocCurveDisplay at 0x191517ad350>"
      ]
     },
     "execution_count": 25,
     "metadata": {},
     "output_type": "execute_result"
    },
    {
     "data": {
      "image/png": "[encoded data removed]",
      "text/plain": [
       "<Figure size 640x480 with 1 Axes>"
      ]
     },
     "metadata": {},
     "output_type": "display_data"
    }
   ],
   "source": [
    "from sklearn.metrics import roc_curve,RocCurveDisplay\n",
    "RocCurveDisplay.from_predictions(y_true=y_test,y_pred=y_score)"
   ]
  },
  {
   "cell_type": "code",
   "execution_count": 26,
   "id": "96110de3",
   "metadata": {},
   "outputs": [
    {
     "name": "stdout",
     "output_type": "stream",
     "text": [
      "AUC -> 0.8636046286620999\n"
     ]
    }
   ],
   "source": [
    "from sklearn.metrics import roc_curve,roc_auc_score\n",
    "fpr,tpr,thresholds = roc_curve(y_true=y_test,y_score=y_score)\n",
    "nn_auc_score = roc_auc_score(y_true=y_test,y_score=y_score)\n",
    "print(f'AUC -> {nn_auc_score}')"
   ]
  },
  {
   "cell_type": "markdown",
   "id": "1ce4de27",
   "metadata": {},
   "source": [
    "### Youden's J Statistic for Threshold Determination\n",
    "J = Sensitivity + Specificity – 1\n",
    "\n",
    "J = Sensitivity + (1 – FalsePositiveRate) – 1\n",
    "\n",
    "J = TruePositiveRate – FalsePositiveRate\n",
    "\n",
    "Goal is to get - > Maximum TPR and Minimum FPR"
   ]
  },
  {
   "cell_type": "code",
   "execution_count": 27,
   "id": "f7e930e2",
   "metadata": {},
   "outputs": [
    {
     "name": "stdout",
     "output_type": "stream",
     "text": [
      " thrshold is 0.25654131174087524 and fpr is 0.15047021943573669 and tpr is 0.725925925925926\n"
     ]
    }
   ],
   "source": [
    "idx = np.argmax(tpr - fpr) \n",
    "print(f\" thrshold is {thresholds[idx]} and fpr is {fpr[idx]} and tpr is {tpr[idx]}\")"
   ]
  },
  {
   "cell_type": "code",
   "execution_count": 28,
   "id": "a7a06942",
   "metadata": {},
   "outputs": [
    {
     "data": {
      "image/png": "[encoded data removed]",
      "text/plain": [
       "<Figure size 640x480 with 1 Axes>"
      ]
     },
     "metadata": {},
     "output_type": "display_data"
    }
   ],
   "source": [
    "plt.plot([0,1], [0,1], linestyle='--', label='No Skill')\n",
    "plt.plot(fpr, tpr, label='Neural Network')\n",
    "plt.scatter(fpr[idx], tpr[idx], marker='o', color='black', label='optimal')\n",
    "# axis labels\n",
    "plt.xlabel('False Positive Rate')\n",
    "plt.ylabel('True Positive Rate')\n",
    "plt.legend()\n",
    "# show the plot\n",
    "plt.show()"
   ]
  },
  {
   "cell_type": "markdown",
   "id": "116fd5cb",
   "metadata": {},
   "source": [
    "## Accuracy"
   ]
  },
  {
   "cell_type": "code",
   "execution_count": 29,
   "id": "653de095",
   "metadata": {},
   "outputs": [
    {
     "name": "stdout",
     "output_type": "stream",
     "text": [
      "[0.7975, 0.7975, 0.8165, 0.817, 0.821, 0.821, 0.8255, 0.826, 0.8255, 0.826, 0.8255, 0.826, 0.826, 0.8265, 0.828, 0.8285, 0.8345, 0.835, 0.8355, 0.836, 0.8495, 0.85, 0.851, 0.8515, 0.8515, 0.852, 0.8535, 0.854, 0.854, 0.8545, 0.856, 0.8565, 0.8565, 0.857, 0.8565, 0.857, 0.8585, 0.8585, 0.8585, 0.859, 0.8595, 0.8585, 0.8595, 0.8595, 0.8595, 0.86, 0.8595, 0.86, 0.8595, 0.86, 0.8615, 0.862, 0.8615, 0.861, 0.861, 0.861, 0.8605, 0.8605, 0.8625, 0.863, 0.8625, 0.863, 0.8655, 0.866, 0.8655, 0.866, 0.866, 0.8665, 0.866, 0.8665, 0.8665, 0.867, 0.867, 0.8675, 0.868, 0.867, 0.8665, 0.867, 0.8665, 0.867, 0.8665, 0.8655, 0.8655, 0.866, 0.8665, 0.8635, 0.863, 0.863, 0.8625, 0.8625, 0.862, 0.8625, 0.862, 0.8625, 0.862, 0.8625, 0.862, 0.862, 0.8615, 0.8615, 0.861, 0.8615, 0.861, 0.861, 0.861, 0.8615, 0.861, 0.8615, 0.861, 0.8615, 0.8615, 0.862, 0.8615, 0.8615, 0.861, 0.861, 0.8625, 0.862, 0.8615, 0.86, 0.8595, 0.86, 0.8595, 0.8575, 0.858, 0.8585, 0.858, 0.858, 0.8585, 0.859, 0.859, 0.8595, 0.8605, 0.861, 0.8605, 0.861, 0.8615, 0.86, 0.8595, 0.854, 0.8535, 0.853, 0.8525, 0.853, 0.8525, 0.853, 0.8525, 0.853, 0.8525, 0.8525, 0.8525, 0.8505, 0.851, 0.8515, 0.851, 0.8515, 0.851, 0.8515, 0.851, 0.8495, 0.849, 0.849, 0.849, 0.8485, 0.848, 0.8485, 0.848, 0.847, 0.8465, 0.8465, 0.846, 0.8455, 0.845, 0.8455, 0.845, 0.8455, 0.845, 0.845, 0.845, 0.8425, 0.842, 0.8375, 0.8375, 0.838, 0.838, 0.8385, 0.838, 0.8375, 0.837, 0.8375, 0.837, 0.833, 0.833, 0.833, 0.833, 0.8285, 0.828, 0.828, 0.8275, 0.828, 0.8275, 0.827, 0.8265, 0.827, 0.8265, 0.826, 0.826, 0.8255, 0.825, 0.8255, 0.825, 0.824, 0.824, 0.8235, 0.824, 0.824, 0.8235, 0.8235, 0.824, 0.8235, 0.824, 0.824, 0.8245, 0.824, 0.8195, 0.819, 0.8195, 0.819, 0.8195, 0.819, 0.816, 0.8155, 0.813, 0.8125, 0.812, 0.8115, 0.809, 0.8085, 0.8085, 0.808, 0.808, 0.8075, 0.807, 0.807, 0.805, 0.8045, 0.802, 0.8015, 0.8015, 0.8015, 0.7985, 0.798, 0.795, 0.7945, 0.786, 0.7855, 0.784, 0.7835, 0.7835, 0.7835, 0.782, 0.7815, 0.7785, 0.778, 0.776, 0.7755, 0.7755, 0.775, 0.7745, 0.774, 0.7735, 0.773, 0.7695, 0.769, 0.7685, 0.7685, 0.764, 0.7635, 0.76, 0.7595, 0.7505, 0.7505, 0.745, 0.745, 0.7395, 0.739, 0.7395, 0.739, 0.7375, 0.737, 0.7365, 0.736, 0.7305, 0.73, 0.7265, 0.726, 0.7265, 0.726, 0.725, 0.7245, 0.7235, 0.723, 0.723, 0.7225, 0.721, 0.7205, 0.72, 0.7195, 0.717, 0.7165, 0.7135, 0.7135, 0.708, 0.7075, 0.7025, 0.702, 0.7015, 0.701, 0.6995, 0.699, 0.698, 0.6975, 0.695, 0.6945, 0.6925, 0.692, 0.6925, 0.692, 0.682, 0.6815, 0.6815, 0.6815, 0.6735, 0.673, 0.6725, 0.672, 0.672, 0.6715, 0.6675, 0.667, 0.6635, 0.663, 0.663, 0.6625, 0.66, 0.6595, 0.658, 0.6575, 0.6515, 0.651, 0.642, 0.6415, 0.6405, 0.64, 0.628, 0.628, 0.6085, 0.608, 0.6015, 0.601, 0.598, 0.5975, 0.5975, 0.597, 0.5935, 0.593, 0.5925, 0.592, 0.5825, 0.582, 0.5755, 0.5755, 0.5745, 0.574, 0.5635, 0.5635, 0.564, 0.5635, 0.5595, 0.559, 0.5545, 0.554, 0.545, 0.5445, 0.5315, 0.531, 0.519, 0.5185, 0.514, 0.5135, 0.4905, 0.49, 0.4815, 0.481, 0.459, 0.4585, 0.4215, 0.421, 0.4145, 0.414, 0.408, 0.4075, 0.4, 0.3995, 0.3965, 0.396, 0.3925, 0.392, 0.3765, 0.376, 0.338, 0.3375, 0.3335, 0.333, 0.328, 0.3275, 0.2765, 0.276, 0.2325, 0.232, 0.22, 0.2195, 0.203, 0.2025, 0.203]\n"
     ]
    }
   ],
   "source": [
    "from sklearn.metrics import accuracy_score\n",
    "\n",
    "accuracies =[]\n",
    "for i in thresholds:\n",
    "    y_z =( y_score>i).astype(int)\n",
    "    accuracies.append(accuracy_score(y_test,y_z))\n",
    "print(accuracies)"
   ]
  },
  {
   "cell_type": "code",
   "execution_count": 30,
   "id": "5007a1fe",
   "metadata": {},
   "outputs": [
    {
     "name": "stdout",
     "output_type": "stream",
     "text": [
      "optimal threshold is 0.5490283370018005\n"
     ]
    }
   ],
   "source": [
    "idx=np.argmax(accuracies)\n",
    "print(f\"optimal threshold is {thresholds[idx]}\")"
   ]
  },
  {
   "cell_type": "code",
   "execution_count": 31,
   "id": "62e7da76",
   "metadata": {},
   "outputs": [
    {
     "name": "stdout",
     "output_type": "stream",
     "text": [
      "[[1549   46]\n",
      " [ 218  187]]\n",
      "Accuracy -> 0.868\n"
     ]
    }
   ],
   "source": [
    "from sklearn.metrics import confusion_matrix\n",
    "y_pred = ( y_score > thresholds[idx]).astype(int)\n",
    "cm=confusion_matrix(y_test,y_pred)\n",
    "print(cm)\n",
    "print(f'Accuracy -> {accuracy_score(y_test,y_pred)}')"
   ]
  },
  {
   "cell_type": "code",
   "execution_count": 32,
   "id": "982d2b3a",
   "metadata": {},
   "outputs": [
    {
     "data": {
      "image/png": "[encoded data removed]",
      "text/plain": [
       "<Figure size 640x480 with 1 Axes>"
      ]
     },
     "metadata": {},
     "output_type": "display_data"
    }
   ],
   "source": [
    "plt.scatter(thresholds,accuracies)\n",
    "plt.xlabel(\"Threshold\")\n",
    "plt.ylabel(\"Accuracy\")\n",
    "plt.show()"
   ]
  },
  {
   "cell_type": "markdown",
   "id": "58846dfd",
   "metadata": {},
   "source": [
    "### Choosing threshold is more of business problem, your desired goal."
   ]
  },
  {
   "cell_type": "markdown",
   "id": "f0f6c1c8",
   "metadata": {},
   "source": [
    "## Single Prediction\n",
    "#### use model to predict the specific person with some details<br>\n",
    "    Geography: France\n",
    "    Credit Score: 600\n",
    "    Gender: Male\n",
    "    Age: 40 years old\n",
    "    Tenure: 3 years\n",
    "    Balance: $60000\n",
    "    Number of Products: 2\n",
    "    Does this customer have a credit card ? Yes\n",
    "    Is this customer an Active Member: Yes \n",
    "    Estimated Salary: $50000"
   ]
  },
  {
   "cell_type": "code",
   "execution_count": 33,
   "id": "fc7a448c",
   "metadata": {},
   "outputs": [
    {
     "data": {
      "text/plain": [
       "array([[    0,     0,     1,   700,    40,     3,     0,     2,     1,\n",
       "            1, 50000]])"
      ]
     },
     "execution_count": 33,
     "metadata": {},
     "output_type": "execute_result"
    }
   ],
   "source": [
    "'''\n",
    "France code  is 0,0 after encoding and removing dummy varibale\n",
    "'''\n",
    "obs=np.array([0,0,1,700,40,3,0,2,1,1,50000]).reshape(1,11)\n",
    "obs"
   ]
  },
  {
   "cell_type": "code",
   "execution_count": 34,
   "id": "b99d4145",
   "metadata": {},
   "outputs": [
    {
     "name": "stdout",
     "output_type": "stream",
     "text": [
      "1/1 [==============================] - 0s 62ms/step\n"
     ]
    },
    {
     "data": {
      "text/plain": [
       "array([[0.03784097]], dtype=float32)"
      ]
     },
     "execution_count": 34,
     "metadata": {},
     "output_type": "execute_result"
    }
   ],
   "source": [
    "new_pred = nn.predict(sc.transform(obs))\n",
    "new_pred"
   ]
  }
 ],
 "metadata": {
  "kernelspec": {
   "display_name": "dl",
   "language": "python",
   "name": "python3"
  },
  "language_info": {
   "codemirror_mode": {
    "name": "ipython",
    "version": 3
   },
   "file_extension": ".py",
   "mimetype": "text/x-python",
   "name": "python",
   "nbconvert_exporter": "python",
   "pygments_lexer": "ipython3",
   "version": "3.11.4"
  }
 },
 "nbformat": 4,
 "nbformat_minor": 5
}
