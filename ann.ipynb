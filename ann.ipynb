{
 "cells": [
  {
   "attachments": {},
   "cell_type": "markdown",
   "id": "e1ea6249-67ee-4154-99fc-81842252df14",
   "metadata": {},
   "source": [
    "# Churn Modelling"
   ]
  },
  {
   "cell_type": "code",
   "execution_count": 182,
   "id": "006335b5-5988-4ed1-814c-38df1b0ea3ea",
   "metadata": {},
   "outputs": [],
   "source": [
    "#import libraries\n",
    "import pandas as pd\n",
    "import numpy as np\n",
    "import matplotlib.pyplot as plt\n",
    "from collections import Counter\n",
    "#np.set_printoptions(threshold=np.inf)\n",
    "np.set_printoptions(threshold=1000)"
   ]
  },
  {
   "cell_type": "markdown",
   "id": "f3d4b21f",
   "metadata": {},
   "source": [
    "### Importing the Dataset"
   ]
  },
  {
   "cell_type": "code",
   "execution_count": 183,
   "id": "f4aefd2a-a0c5-4906-ada7-b2df0f4e6dae",
   "metadata": {},
   "outputs": [
    {
     "data": {
      "text/html": [
       "<div>\n",
       "<style scoped>\n",
       "    .dataframe tbody tr th:only-of-type {\n",
       "        vertical-align: middle;\n",
       "    }\n",
       "\n",
       "    .dataframe tbody tr th {\n",
       "        vertical-align: top;\n",
       "    }\n",
       "\n",
       "    .dataframe thead th {\n",
       "        text-align: right;\n",
       "    }\n",
       "</style>\n",
       "<table border=\"1\" class=\"dataframe\">\n",
       "  <thead>\n",
       "    <tr style=\"text-align: right;\">\n",
       "      <th></th>\n",
       "      <th>RowNumber</th>\n",
       "      <th>CustomerId</th>\n",
       "      <th>Surname</th>\n",
       "      <th>CreditScore</th>\n",
       "      <th>Geography</th>\n",
       "      <th>Gender</th>\n",
       "      <th>Age</th>\n",
       "      <th>Tenure</th>\n",
       "      <th>Balance</th>\n",
       "      <th>NumOfProducts</th>\n",
       "      <th>HasCrCard</th>\n",
       "      <th>IsActiveMember</th>\n",
       "      <th>EstimatedSalary</th>\n",
       "      <th>Exited</th>\n",
       "    </tr>\n",
       "  </thead>\n",
       "  <tbody>\n",
       "    <tr>\n",
       "      <th>0</th>\n",
       "      <td>1</td>\n",
       "      <td>15634602</td>\n",
       "      <td>Hargrave</td>\n",
       "      <td>619</td>\n",
       "      <td>France</td>\n",
       "      <td>Female</td>\n",
       "      <td>42</td>\n",
       "      <td>2</td>\n",
       "      <td>0.00</td>\n",
       "      <td>1</td>\n",
       "      <td>1</td>\n",
       "      <td>1</td>\n",
       "      <td>101348.88</td>\n",
       "      <td>1</td>\n",
       "    </tr>\n",
       "    <tr>\n",
       "      <th>1</th>\n",
       "      <td>2</td>\n",
       "      <td>15647311</td>\n",
       "      <td>Hill</td>\n",
       "      <td>608</td>\n",
       "      <td>Spain</td>\n",
       "      <td>Female</td>\n",
       "      <td>41</td>\n",
       "      <td>1</td>\n",
       "      <td>83807.86</td>\n",
       "      <td>1</td>\n",
       "      <td>0</td>\n",
       "      <td>1</td>\n",
       "      <td>112542.58</td>\n",
       "      <td>0</td>\n",
       "    </tr>\n",
       "    <tr>\n",
       "      <th>2</th>\n",
       "      <td>3</td>\n",
       "      <td>15619304</td>\n",
       "      <td>Onio</td>\n",
       "      <td>502</td>\n",
       "      <td>France</td>\n",
       "      <td>Female</td>\n",
       "      <td>42</td>\n",
       "      <td>8</td>\n",
       "      <td>159660.80</td>\n",
       "      <td>3</td>\n",
       "      <td>1</td>\n",
       "      <td>0</td>\n",
       "      <td>113931.57</td>\n",
       "      <td>1</td>\n",
       "    </tr>\n",
       "    <tr>\n",
       "      <th>3</th>\n",
       "      <td>4</td>\n",
       "      <td>15701354</td>\n",
       "      <td>Boni</td>\n",
       "      <td>699</td>\n",
       "      <td>France</td>\n",
       "      <td>Female</td>\n",
       "      <td>39</td>\n",
       "      <td>1</td>\n",
       "      <td>0.00</td>\n",
       "      <td>2</td>\n",
       "      <td>0</td>\n",
       "      <td>0</td>\n",
       "      <td>93826.63</td>\n",
       "      <td>0</td>\n",
       "    </tr>\n",
       "    <tr>\n",
       "      <th>4</th>\n",
       "      <td>5</td>\n",
       "      <td>15737888</td>\n",
       "      <td>Mitchell</td>\n",
       "      <td>850</td>\n",
       "      <td>Spain</td>\n",
       "      <td>Female</td>\n",
       "      <td>43</td>\n",
       "      <td>2</td>\n",
       "      <td>125510.82</td>\n",
       "      <td>1</td>\n",
       "      <td>1</td>\n",
       "      <td>1</td>\n",
       "      <td>79084.10</td>\n",
       "      <td>0</td>\n",
       "    </tr>\n",
       "  </tbody>\n",
       "</table>\n",
       "</div>"
      ],
      "text/plain": [
       "   RowNumber  CustomerId   Surname  CreditScore Geography  Gender  Age  \\\n",
       "0          1    15634602  Hargrave          619    France  Female   42   \n",
       "1          2    15647311      Hill          608     Spain  Female   41   \n",
       "2          3    15619304      Onio          502    France  Female   42   \n",
       "3          4    15701354      Boni          699    France  Female   39   \n",
       "4          5    15737888  Mitchell          850     Spain  Female   43   \n",
       "\n",
       "   Tenure    Balance  NumOfProducts  HasCrCard  IsActiveMember  \\\n",
       "0       2       0.00              1          1               1   \n",
       "1       1   83807.86              1          0               1   \n",
       "2       8  159660.80              3          1               0   \n",
       "3       1       0.00              2          0               0   \n",
       "4       2  125510.82              1          1               1   \n",
       "\n",
       "   EstimatedSalary  Exited  \n",
       "0        101348.88       1  \n",
       "1        112542.58       0  \n",
       "2        113931.57       1  \n",
       "3         93826.63       0  \n",
       "4         79084.10       0  "
      ]
     },
     "execution_count": 183,
     "metadata": {},
     "output_type": "execute_result"
    }
   ],
   "source": [
    "df = pd.read_csv('Churn_Modelling.csv')\n",
    "df.head()"
   ]
  },
  {
   "cell_type": "code",
   "execution_count": 184,
   "id": "fadd5510-27af-424b-8591-4c321c7eb9df",
   "metadata": {},
   "outputs": [
    {
     "data": {
      "text/plain": [
       "RowNumber          0\n",
       "CustomerId         0\n",
       "Surname            0\n",
       "CreditScore        0\n",
       "Geography          0\n",
       "Gender             0\n",
       "Age                0\n",
       "Tenure             0\n",
       "Balance            0\n",
       "NumOfProducts      0\n",
       "HasCrCard          0\n",
       "IsActiveMember     0\n",
       "EstimatedSalary    0\n",
       "Exited             0\n",
       "dtype: int64"
      ]
     },
     "execution_count": 184,
     "metadata": {},
     "output_type": "execute_result"
    }
   ],
   "source": [
    "# Checking null Values\n",
    "df.isnull().sum()"
   ]
  },
  {
   "cell_type": "code",
   "execution_count": 185,
   "id": "990ce5fd-bbce-4a3d-8d07-cd5cc491b150",
   "metadata": {},
   "outputs": [
    {
     "name": "stdout",
     "output_type": "stream",
     "text": [
      "<class 'pandas.core.frame.DataFrame'>\n",
      "      CreditScore Geography  Gender  Age  Tenure    Balance  NumOfProducts  \\\n",
      "0             619    France  Female   42       2       0.00              1   \n",
      "1             608     Spain  Female   41       1   83807.86              1   \n",
      "2             502    France  Female   42       8  159660.80              3   \n",
      "3             699    France  Female   39       1       0.00              2   \n",
      "4             850     Spain  Female   43       2  125510.82              1   \n",
      "...           ...       ...     ...  ...     ...        ...            ...   \n",
      "9995          771    France    Male   39       5       0.00              2   \n",
      "9996          516    France    Male   35      10   57369.61              1   \n",
      "9997          709    France  Female   36       7       0.00              1   \n",
      "9998          772   Germany    Male   42       3   75075.31              2   \n",
      "9999          792    France  Female   28       4  130142.79              1   \n",
      "\n",
      "      HasCrCard  IsActiveMember  EstimatedSalary  \n",
      "0             1               1        101348.88  \n",
      "1             0               1        112542.58  \n",
      "2             1               0        113931.57  \n",
      "3             0               0         93826.63  \n",
      "4             1               1         79084.10  \n",
      "...         ...             ...              ...  \n",
      "9995          1               0         96270.64  \n",
      "9996          1               1        101699.77  \n",
      "9997          0               1         42085.58  \n",
      "9998          1               0         92888.52  \n",
      "9999          1               0         38190.78  \n",
      "\n",
      "[10000 rows x 10 columns]\n"
     ]
    }
   ],
   "source": [
    "# Getting Independent Variables\n",
    "x= df.iloc[:,3:-1]\n",
    "print(type(x))\n",
    "print(x)"
   ]
  },
  {
   "cell_type": "code",
   "execution_count": 186,
   "id": "9ed7b9ce-d3f3-4f80-b62d-f683f59342df",
   "metadata": {},
   "outputs": [
    {
     "name": "stdout",
     "output_type": "stream",
     "text": [
      "<class 'pandas.core.series.Series'>\n",
      "0       1\n",
      "1       0\n",
      "2       1\n",
      "3       0\n",
      "4       0\n",
      "       ..\n",
      "9995    0\n",
      "9996    0\n",
      "9997    1\n",
      "9998    1\n",
      "9999    0\n",
      "Name: Exited, Length: 10000, dtype: int64\n"
     ]
    }
   ],
   "source": [
    "# Independent variable\n",
    "y= df.iloc[:,-1]\n",
    "print(type(y))\n",
    "print(y)"
   ]
  },
  {
   "cell_type": "markdown",
   "id": "636fb324",
   "metadata": {},
   "source": [
    "### Class Distribution"
   ]
  },
  {
   "cell_type": "code",
   "execution_count": 187,
   "id": "ca8e6039",
   "metadata": {},
   "outputs": [
    {
     "name": "stdout",
     "output_type": "stream",
     "text": [
      "Counter({0: 7963, 1: 2037})\n"
     ]
    },
    {
     "data": {
      "image/png": "[encoded data removed]",
      "text/plain": [
       "<Figure size 640x480 with 1 Axes>"
      ]
     },
     "metadata": {},
     "output_type": "display_data"
    }
   ],
   "source": [
    "unique_labels, counts = np.unique(y, return_counts=True)\n",
    "plt.bar (unique_labels , counts,width=0.5,color='green')\n",
    "plt.xlabel('Class label')\n",
    "plt.ylabel('Number of samples')\n",
    "plt.title('Class distribution in dataset')\n",
    "print(Counter(y))\n",
    "plt.show()"
   ]
  },
  {
   "attachments": {},
   "cell_type": "markdown",
   "id": "183b3a72-a95f-4305-a22c-11b4e4f13237",
   "metadata": {},
   "source": [
    "## Encoding Categorical Data"
   ]
  },
  {
   "cell_type": "code",
   "execution_count": 188,
   "id": "9fb3c065-b068-49a6-af86-8102796dfcb8",
   "metadata": {},
   "outputs": [],
   "source": [
    "# import libraries\n",
    "from sklearn.compose import ColumnTransformer\n",
    "from sklearn.preprocessing import OneHotEncoder,OrdinalEncoder,LabelEncoder"
   ]
  },
  {
   "cell_type": "markdown",
   "id": "786f90a1",
   "metadata": {},
   "source": [
    "### Column Transformer"
   ]
  },
  {
   "attachments": {},
   "cell_type": "markdown",
   "id": "43d9f46c-3e8e-4af2-bc4c-92c9c1243212",
   "metadata": {},
   "source": [
    "One Hot Encoding, Ordinal Encoding, Label Encoding \n",
    "Geography and Gender are categoriacal values  \n",
    "Geography -> Label Encoder or Ordinal Encoder  \n",
    "Gender    -> One Hot Encoder  \n",
    "We can directy use Column transformer apply One Hot Encoder and Ordinal Encoder or we apply One Hot Encoder  and Label Encoder separtately"
   ]
  },
  {
   "cell_type": "code",
   "execution_count": 189,
   "id": "f5a03ca7",
   "metadata": {},
   "outputs": [],
   "source": [
    "#for applying One Hot Encoder and Label Separtely\n",
    "x2=x"
   ]
  },
  {
   "cell_type": "code",
   "execution_count": 190,
   "id": "af43510b",
   "metadata": {},
   "outputs": [
    {
     "data": {
      "text/plain": [
       "array([[1.0000000e+00, 0.0000000e+00, 0.0000000e+00, ..., 1.0000000e+00,\n",
       "        1.0000000e+00, 1.0134888e+05],\n",
       "       [0.0000000e+00, 0.0000000e+00, 1.0000000e+00, ..., 0.0000000e+00,\n",
       "        1.0000000e+00, 1.1254258e+05],\n",
       "       [1.0000000e+00, 0.0000000e+00, 0.0000000e+00, ..., 1.0000000e+00,\n",
       "        0.0000000e+00, 1.1393157e+05],\n",
       "       ...,\n",
       "       [1.0000000e+00, 0.0000000e+00, 0.0000000e+00, ..., 0.0000000e+00,\n",
       "        1.0000000e+00, 4.2085580e+04],\n",
       "       [0.0000000e+00, 1.0000000e+00, 0.0000000e+00, ..., 1.0000000e+00,\n",
       "        0.0000000e+00, 9.2888520e+04],\n",
       "       [1.0000000e+00, 0.0000000e+00, 0.0000000e+00, ..., 1.0000000e+00,\n",
       "        0.0000000e+00, 3.8190780e+04]])"
      ]
     },
     "execution_count": 190,
     "metadata": {},
     "output_type": "execute_result"
    }
   ],
   "source": [
    "ct = ColumnTransformer(transformers=[('Country',OneHotEncoder(),[1]),('Gender',OrdinalEncoder(),[2])],remainder='passthrough')\n",
    "x= ct.fit_transform(x)\n",
    "x"
   ]
  },
  {
   "cell_type": "code",
   "execution_count": 191,
   "id": "23b1557a-8bd6-4572-aef5-35d0d260ea81",
   "metadata": {},
   "outputs": [
    {
     "data": {
      "text/plain": [
       "array([[1.0, 0.0, 0.0, ..., 1, 1, 101348.88],\n",
       "       [0.0, 0.0, 1.0, ..., 0, 1, 112542.58],\n",
       "       [1.0, 0.0, 0.0, ..., 1, 0, 113931.57],\n",
       "       ...,\n",
       "       [1.0, 0.0, 0.0, ..., 0, 1, 42085.58],\n",
       "       [0.0, 1.0, 0.0, ..., 1, 0, 92888.52],\n",
       "       [1.0, 0.0, 0.0, ..., 1, 0, 38190.78]], dtype=object)"
      ]
     },
     "execution_count": 191,
     "metadata": {},
     "output_type": "execute_result"
    }
   ],
   "source": [
    "#using Label Encoder\n",
    "le = LabelEncoder()\n",
    "x2.iloc[:,2] = le.fit_transform(x2.iloc[:,2])\n",
    "ct = ColumnTransformer(transformers=[('Country',OneHotEncoder(),[1])],remainder='passthrough')\n",
    "x2= ct.fit_transform(x2)\n",
    "x2"
   ]
  },
  {
   "attachments": {},
   "cell_type": "markdown",
   "id": "86c89fe2",
   "metadata": {},
   "source": [
    "\n",
    "OrdinalEncoder is for 2D data with the shape (n_samples, n_features)<br>\n",
    "LabelEncoder is for 1D data with the shape (n_samples,)<br><br>\n",
    "\n",
    "Oridnal Enoder - The features are converted to ordinal integers,single column of integers (0 to n_categories - 1) per feature.<br>\n",
    "Label Encoder - Encode target labels with value between 0 and n_classes-1."
   ]
  },
  {
   "cell_type": "code",
   "execution_count": 192,
   "id": "218b9943-5e8b-4d7c-b43c-58b858b90a03",
   "metadata": {},
   "outputs": [],
   "source": [
    "# Avoiding Dummy variable Trap\n",
    "x=x[:,1:]"
   ]
  },
  {
   "cell_type": "markdown",
   "id": "5df2d29c-dad0-4a9c-b23f-bf972834feaa",
   "metadata": {},
   "source": [
    "## Spliting The Datatset"
   ]
  },
  {
   "cell_type": "code",
   "execution_count": 193,
   "id": "25bd5c44",
   "metadata": {},
   "outputs": [],
   "source": [
    "from sklearn.model_selection import train_test_split"
   ]
  },
  {
   "cell_type": "markdown",
   "id": "7ea44c1e",
   "metadata": {},
   "source": [
    "Spliting the dataset with equal label proportion into 3 sets:   \n",
    "Training Set   ->  60%  \n",
    "Validation Set ->  20%  \n",
    "Test Set       ->  20%"
   ]
  },
  {
   "cell_type": "code",
   "execution_count": 194,
   "id": "89393744-593c-488d-befe-259db8831dda",
   "metadata": {},
   "outputs": [],
   "source": [
    "\n",
    "X, x_test , Y, y_test = train_test_split(x,y,test_size=0.2,random_state=42,stratify=y)\n",
    "x_train,x_val,y_train,y_val = train_test_split(X,Y,test_size=0.25,random_state=42,stratify=Y)"
   ]
  },
  {
   "cell_type": "markdown",
   "id": "6a09b8a0",
   "metadata": {},
   "source": [
    "### Proportion of class in Each Set"
   ]
  },
  {
   "cell_type": "code",
   "execution_count": 195,
   "id": "5a3ba761",
   "metadata": {},
   "outputs": [
    {
     "data": {
      "image/png": "[encoded data removed]",
      "text/plain": [
       "<Figure size 640x480 with 1 Axes>"
      ]
     },
     "metadata": {},
     "output_type": "display_data"
    }
   ],
   "source": [
    "len_splits= [len(i) for i in [x_train,x_val,x_test]]\n",
    "explode=[0,0,0.1]\n",
    "plt.pie(len_splits,labels=['Training Set','Validation Set','Test Set'],shadow=True,explode=explode,autopct='%1.1f%%')\n",
    "plt.legend()\n",
    "plt.show()"
   ]
  },
  {
   "cell_type": "code",
   "execution_count": 196,
   "id": "877cd7e3",
   "metadata": {},
   "outputs": [
    {
     "name": "stdout",
     "output_type": "stream",
     "text": [
      "Ratio:\n",
      "Testing Set    : 0.2035\n",
      "Validation Set : 0.2035\n",
      "Training set   : 0.20383333333333334\n"
     ]
    }
   ],
   "source": [
    "print(\"Ratio:\")\n",
    "print(f\"Testing Set    : {Counter(y_test)[1]/len(y_test)}\")\n",
    "print(f\"Validation Set : {Counter(y_val)[1]/len(y_val)}\")\n",
    "print(f\"Training set   : {Counter(y_train)[1]/len(y_train)}\")"
   ]
  },
  {
   "cell_type": "code",
   "execution_count": 197,
   "id": "ea9bd679",
   "metadata": {},
   "outputs": [
    {
     "name": "stdout",
     "output_type": "stream",
     "text": [
      "(6000, 11)\n",
      "(2000, 11)\n",
      "(2000, 11)\n"
     ]
    }
   ],
   "source": [
    "print(x_train.shape)\n",
    "print(x_val.shape)\n",
    "print(x_test.shape)"
   ]
  },
  {
   "cell_type": "markdown",
   "id": "a3a20f07-d2ab-4a3e-a5e4-b15eec79ff38",
   "metadata": {},
   "source": [
    "## Feature Scaling\n"
   ]
  },
  {
   "cell_type": "code",
   "execution_count": 198,
   "id": "4b79dbf1",
   "metadata": {},
   "outputs": [],
   "source": [
    "from sklearn.preprocessing import StandardScaler\n",
    "sc= StandardScaler()\n",
    "x_train = sc.fit_transform(x_train)\n",
    "x_val = sc.transform(x_val)\n",
    "x_test = sc.transform(x_test)"
   ]
  },
  {
   "cell_type": "markdown",
   "id": "bf638a4e-64c2-40fd-a608-9292b0aeedba",
   "metadata": {},
   "source": [
    "## Building Neural Network"
   ]
  },
  {
   "cell_type": "code",
   "execution_count": 199,
   "id": "6e3f7857",
   "metadata": {},
   "outputs": [
    {
     "data": {
      "text/plain": [
       "'2.13.0'"
      ]
     },
     "execution_count": 199,
     "metadata": {},
     "output_type": "execute_result"
    }
   ],
   "source": [
    "import tensorflow as tf\n",
    "\n",
    "tf.__version__"
   ]
  },
  {
   "cell_type": "code",
   "execution_count": 200,
   "id": "f37e6128",
   "metadata": {},
   "outputs": [],
   "source": [
    "# Initialize the ANN and add Input layer\n",
    "\n",
    "nn = tf.keras.Sequential()\n",
    "nn.add(tf.keras.layers.Input(shape=11))"
   ]
  },
  {
   "cell_type": "code",
   "execution_count": 201,
   "id": "768e5137",
   "metadata": {},
   "outputs": [],
   "source": [
    "# Adding Hidden Layers\n",
    "nn.add(tf.keras.layers.Dense(units=6,activation='relu',kernel_initializer='glorot_uniform'))\n",
    "# Dropout regularization\n",
    "nn.add(tf.keras.layers.Dropout(rate=0.1))\n",
    "nn.add(tf.keras.layers.Dense(units=6,activation='relu'))\n",
    "nn.add(tf.keras.layers.Dropout(rate=0.1))"
   ]
  },
  {
   "cell_type": "code",
   "execution_count": 202,
   "id": "7324efeb",
   "metadata": {},
   "outputs": [
    {
     "name": "stdout",
     "output_type": "stream",
     "text": [
      "Model: \"sequential_4\"\n",
      "_________________________________________________________________\n",
      " Layer (type)                Output Shape              Param #   \n",
      "=================================================================\n",
      " dense_11 (Dense)            (None, 6)                 72        \n",
      "                                                                 \n",
      " dropout_8 (Dropout)         (None, 6)                 0         \n",
      "                                                                 \n",
      " dense_12 (Dense)            (None, 6)                 42        \n",
      "                                                                 \n",
      " dropout_9 (Dropout)         (None, 6)                 0         \n",
      "                                                                 \n",
      " dense_13 (Dense)            (None, 1)                 7         \n",
      "                                                                 \n",
      "=================================================================\n",
      "Total params: 121 (484.00 Byte)\n",
      "Trainable params: 121 (484.00 Byte)\n",
      "Non-trainable params: 0 (0.00 Byte)\n",
      "_________________________________________________________________\n"
     ]
    }
   ],
   "source": [
    "# Adding Output Layer\n",
    "nn.add(tf.keras.layers.Dense(units=1,activation='sigmoid'))\n",
    "nn.summary()"
   ]
  },
  {
   "cell_type": "code",
   "execution_count": 203,
   "id": "2d50c75d",
   "metadata": {},
   "outputs": [
    {
     "data": {
      "text/plain": [
       "[<keras.src.layers.core.dense.Dense at 0x2eb84baf2d0>,\n",
       " <keras.src.layers.regularization.dropout.Dropout at 0x2eb84882d90>,\n",
       " <keras.src.layers.core.dense.Dense at 0x2eb84bc7690>,\n",
       " <keras.src.layers.regularization.dropout.Dropout at 0x2eb801d31d0>,\n",
       " <keras.src.layers.core.dense.Dense at 0x2eb84ba7110>]"
      ]
     },
     "execution_count": 203,
     "metadata": {},
     "output_type": "execute_result"
    }
   ],
   "source": [
    "# Comiling the Neural Network\n",
    "nn.compile(optimizer='adam',loss='binary_crossentropy',metrics=['accuracy'])\n",
    "nn.layers"
   ]
  },
  {
   "cell_type": "markdown",
   "id": "66942a54",
   "metadata": {},
   "source": [
    "Data leakage  \n",
    "nn.fit(x_train,y_train,batch_size=20,epochs=50,callbacks=es,validation_split=0.1)  \n",
    "validation split will take data from training set,and validation data is not scaled or transform properly. Data from training set will be leaked into validtion set thus will not ideally validate. Create separate sets."
   ]
  },
  {
   "cell_type": "code",
   "execution_count": 204,
   "id": "9f841c1c",
   "metadata": {},
   "outputs": [
    {
     "name": "stdout",
     "output_type": "stream",
     "text": [
      "Epoch 1/100\n",
      "300/300 [==============================] - 5s 5ms/step - loss: 0.6158 - accuracy: 0.6878 - val_loss: 0.5176 - val_accuracy: 0.7965\n",
      "Epoch 2/100\n",
      "300/300 [==============================] - 1s 3ms/step - loss: 0.5123 - accuracy: 0.7920 - val_loss: 0.4783 - val_accuracy: 0.7965\n",
      "Epoch 3/100\n",
      "300/300 [==============================] - 1s 3ms/step - loss: 0.4798 - accuracy: 0.7942 - val_loss: 0.4616 - val_accuracy: 0.7965\n",
      "Epoch 4/100\n",
      "300/300 [==============================] - 1s 3ms/step - loss: 0.4628 - accuracy: 0.7962 - val_loss: 0.4530 - val_accuracy: 0.7965\n",
      "Epoch 5/100\n",
      "300/300 [==============================] - 1s 3ms/step - loss: 0.4560 - accuracy: 0.7945 - val_loss: 0.4457 - val_accuracy: 0.7965\n",
      "Epoch 6/100\n",
      "300/300 [==============================] - 1s 3ms/step - loss: 0.4514 - accuracy: 0.7963 - val_loss: 0.4406 - val_accuracy: 0.7965\n",
      "Epoch 7/100\n",
      "300/300 [==============================] - 1s 3ms/step - loss: 0.4493 - accuracy: 0.7962 - val_loss: 0.4353 - val_accuracy: 0.7965\n",
      "Epoch 8/100\n",
      "300/300 [==============================] - 1s 3ms/step - loss: 0.4427 - accuracy: 0.7993 - val_loss: 0.4312 - val_accuracy: 0.8000\n",
      "Epoch 9/100\n",
      "300/300 [==============================] - 1s 3ms/step - loss: 0.4393 - accuracy: 0.8012 - val_loss: 0.4285 - val_accuracy: 0.8010\n",
      "Epoch 10/100\n",
      "300/300 [==============================] - 1s 3ms/step - loss: 0.4320 - accuracy: 0.8102 - val_loss: 0.4246 - val_accuracy: 0.8105\n",
      "Epoch 11/100\n",
      "300/300 [==============================] - 1s 3ms/step - loss: 0.4311 - accuracy: 0.8133 - val_loss: 0.4205 - val_accuracy: 0.8195\n",
      "Epoch 12/100\n",
      "300/300 [==============================] - 1s 3ms/step - loss: 0.4279 - accuracy: 0.8168 - val_loss: 0.4175 - val_accuracy: 0.8215\n",
      "Epoch 13/100\n",
      "300/300 [==============================] - 1s 3ms/step - loss: 0.4249 - accuracy: 0.8172 - val_loss: 0.4159 - val_accuracy: 0.8285\n",
      "Epoch 14/100\n",
      "300/300 [==============================] - 1s 3ms/step - loss: 0.4217 - accuracy: 0.8195 - val_loss: 0.4133 - val_accuracy: 0.8295\n",
      "Epoch 15/100\n",
      "300/300 [==============================] - 1s 3ms/step - loss: 0.4197 - accuracy: 0.8210 - val_loss: 0.4125 - val_accuracy: 0.8295\n",
      "Epoch 16/100\n",
      "300/300 [==============================] - 1s 3ms/step - loss: 0.4148 - accuracy: 0.8253 - val_loss: 0.4119 - val_accuracy: 0.8280\n",
      "Epoch 17/100\n",
      "300/300 [==============================] - 1s 3ms/step - loss: 0.4160 - accuracy: 0.8233 - val_loss: 0.4110 - val_accuracy: 0.8310\n",
      "Epoch 18/100\n",
      "300/300 [==============================] - 1s 3ms/step - loss: 0.4165 - accuracy: 0.8247 - val_loss: 0.4099 - val_accuracy: 0.8305\n",
      "Epoch 19/100\n",
      "300/300 [==============================] - 1s 3ms/step - loss: 0.4138 - accuracy: 0.8230 - val_loss: 0.4111 - val_accuracy: 0.8315\n",
      "Epoch 20/100\n",
      "300/300 [==============================] - 1s 3ms/step - loss: 0.4137 - accuracy: 0.8255 - val_loss: 0.4108 - val_accuracy: 0.8305\n",
      "Epoch 21/100\n",
      "300/300 [==============================] - 1s 3ms/step - loss: 0.4114 - accuracy: 0.8255 - val_loss: 0.4111 - val_accuracy: 0.8310\n",
      "Epoch 22/100\n",
      "300/300 [==============================] - 1s 3ms/step - loss: 0.4142 - accuracy: 0.8245 - val_loss: 0.4095 - val_accuracy: 0.8330\n",
      "Epoch 23/100\n",
      "300/300 [==============================] - 1s 3ms/step - loss: 0.4110 - accuracy: 0.8268 - val_loss: 0.4093 - val_accuracy: 0.8315\n",
      "Epoch 24/100\n",
      "300/300 [==============================] - 1s 3ms/step - loss: 0.4131 - accuracy: 0.8268 - val_loss: 0.4103 - val_accuracy: 0.8310\n",
      "Epoch 25/100\n",
      "300/300 [==============================] - 1s 4ms/step - loss: 0.4141 - accuracy: 0.8255 - val_loss: 0.4091 - val_accuracy: 0.8315\n",
      "Epoch 26/100\n",
      "300/300 [==============================] - 1s 3ms/step - loss: 0.4087 - accuracy: 0.8300 - val_loss: 0.4087 - val_accuracy: 0.8315\n",
      "Epoch 27/100\n",
      "300/300 [==============================] - 1s 4ms/step - loss: 0.4102 - accuracy: 0.8288 - val_loss: 0.4083 - val_accuracy: 0.8325\n",
      "Epoch 28/100\n",
      "300/300 [==============================] - 1s 4ms/step - loss: 0.4129 - accuracy: 0.8277 - val_loss: 0.4087 - val_accuracy: 0.8325\n",
      "Epoch 29/100\n",
      "300/300 [==============================] - 1s 4ms/step - loss: 0.4101 - accuracy: 0.8297 - val_loss: 0.4082 - val_accuracy: 0.8315\n",
      "Epoch 30/100\n",
      "300/300 [==============================] - 1s 3ms/step - loss: 0.4064 - accuracy: 0.8328 - val_loss: 0.4072 - val_accuracy: 0.8310\n",
      "Epoch 31/100\n",
      "300/300 [==============================] - 1s 3ms/step - loss: 0.4108 - accuracy: 0.8280 - val_loss: 0.4080 - val_accuracy: 0.8305\n",
      "Epoch 32/100\n",
      "300/300 [==============================] - 1s 4ms/step - loss: 0.4076 - accuracy: 0.8295 - val_loss: 0.4061 - val_accuracy: 0.8315\n",
      "Epoch 33/100\n",
      "300/300 [==============================] - 1s 3ms/step - loss: 0.4106 - accuracy: 0.8290 - val_loss: 0.4057 - val_accuracy: 0.8325\n",
      "Epoch 34/100\n",
      "300/300 [==============================] - 1s 3ms/step - loss: 0.4061 - accuracy: 0.8268 - val_loss: 0.4045 - val_accuracy: 0.8325\n",
      "Epoch 35/100\n",
      "300/300 [==============================] - 1s 5ms/step - loss: 0.4041 - accuracy: 0.8317 - val_loss: 0.4033 - val_accuracy: 0.8325\n",
      "Epoch 36/100\n",
      "300/300 [==============================] - 1s 3ms/step - loss: 0.4099 - accuracy: 0.8285 - val_loss: 0.4041 - val_accuracy: 0.8320\n",
      "Epoch 37/100\n",
      "300/300 [==============================] - 1s 4ms/step - loss: 0.4031 - accuracy: 0.8288 - val_loss: 0.4036 - val_accuracy: 0.8330\n",
      "Epoch 38/100\n",
      "300/300 [==============================] - 1s 3ms/step - loss: 0.4033 - accuracy: 0.8290 - val_loss: 0.4034 - val_accuracy: 0.8320\n",
      "Epoch 39/100\n",
      "300/300 [==============================] - 1s 3ms/step - loss: 0.3993 - accuracy: 0.8345 - val_loss: 0.4015 - val_accuracy: 0.8355\n",
      "Epoch 40/100\n",
      "300/300 [==============================] - 1s 3ms/step - loss: 0.3998 - accuracy: 0.8340 - val_loss: 0.4017 - val_accuracy: 0.8335\n",
      "Epoch 41/100\n",
      "300/300 [==============================] - 1s 3ms/step - loss: 0.4031 - accuracy: 0.8318 - val_loss: 0.4005 - val_accuracy: 0.8345\n",
      "Epoch 42/100\n",
      "300/300 [==============================] - 1s 2ms/step - loss: 0.3966 - accuracy: 0.8348 - val_loss: 0.3982 - val_accuracy: 0.8310\n",
      "Epoch 43/100\n",
      "300/300 [==============================] - 1s 3ms/step - loss: 0.4000 - accuracy: 0.8333 - val_loss: 0.3962 - val_accuracy: 0.8345\n",
      "Epoch 44/100\n",
      "300/300 [==============================] - 1s 3ms/step - loss: 0.3968 - accuracy: 0.8340 - val_loss: 0.3961 - val_accuracy: 0.8330\n",
      "Epoch 45/100\n",
      "300/300 [==============================] - 1s 3ms/step - loss: 0.3947 - accuracy: 0.8348 - val_loss: 0.3938 - val_accuracy: 0.8330\n",
      "Epoch 46/100\n",
      "300/300 [==============================] - 1s 3ms/step - loss: 0.3963 - accuracy: 0.8358 - val_loss: 0.3946 - val_accuracy: 0.8300\n",
      "Epoch 47/100\n",
      "300/300 [==============================] - 1s 3ms/step - loss: 0.3982 - accuracy: 0.8355 - val_loss: 0.3947 - val_accuracy: 0.8285\n",
      "Epoch 48/100\n",
      "300/300 [==============================] - 1s 3ms/step - loss: 0.3973 - accuracy: 0.8315 - val_loss: 0.3957 - val_accuracy: 0.8295\n",
      "Epoch 49/100\n",
      "300/300 [==============================] - 1s 3ms/step - loss: 0.3961 - accuracy: 0.8325 - val_loss: 0.3925 - val_accuracy: 0.8315\n",
      "Epoch 50/100\n",
      "300/300 [==============================] - 1s 3ms/step - loss: 0.3946 - accuracy: 0.8348 - val_loss: 0.3913 - val_accuracy: 0.8320\n",
      "Epoch 51/100\n",
      "300/300 [==============================] - 1s 2ms/step - loss: 0.3947 - accuracy: 0.8337 - val_loss: 0.3930 - val_accuracy: 0.8305\n",
      "Epoch 52/100\n",
      "300/300 [==============================] - 1s 5ms/step - loss: 0.3976 - accuracy: 0.8355 - val_loss: 0.3924 - val_accuracy: 0.8305\n",
      "Epoch 53/100\n",
      "300/300 [==============================] - 2s 5ms/step - loss: 0.3987 - accuracy: 0.8305 - val_loss: 0.3924 - val_accuracy: 0.8295\n",
      "Epoch 54/100\n",
      "300/300 [==============================] - 1s 4ms/step - loss: 0.3917 - accuracy: 0.8368 - val_loss: 0.3901 - val_accuracy: 0.8315\n",
      "Epoch 55/100\n",
      "300/300 [==============================] - 1s 3ms/step - loss: 0.3918 - accuracy: 0.8332 - val_loss: 0.3901 - val_accuracy: 0.8330\n",
      "Epoch 56/100\n",
      "300/300 [==============================] - 1s 3ms/step - loss: 0.3956 - accuracy: 0.8337 - val_loss: 0.3939 - val_accuracy: 0.8290\n",
      "Epoch 57/100\n",
      "300/300 [==============================] - 1s 3ms/step - loss: 0.3940 - accuracy: 0.8365 - val_loss: 0.3913 - val_accuracy: 0.8295\n",
      "Epoch 58/100\n",
      "300/300 [==============================] - 1s 3ms/step - loss: 0.3913 - accuracy: 0.8367 - val_loss: 0.3904 - val_accuracy: 0.8300\n",
      "Epoch 59/100\n",
      "300/300 [==============================] - 2s 5ms/step - loss: 0.3959 - accuracy: 0.8307 - val_loss: 0.3909 - val_accuracy: 0.8305\n",
      "Epoch 60/100\n",
      "300/300 [==============================] - 1s 3ms/step - loss: 0.3947 - accuracy: 0.8328 - val_loss: 0.3909 - val_accuracy: 0.8305\n",
      "Epoch 61/100\n",
      "300/300 [==============================] - 1s 3ms/step - loss: 0.3920 - accuracy: 0.8352 - val_loss: 0.3925 - val_accuracy: 0.8305\n",
      "Epoch 62/100\n",
      "300/300 [==============================] - 1s 3ms/step - loss: 0.3848 - accuracy: 0.8377 - val_loss: 0.3902 - val_accuracy: 0.8310\n",
      "Epoch 63/100\n",
      "300/300 [==============================] - 1s 4ms/step - loss: 0.3958 - accuracy: 0.8340 - val_loss: 0.3905 - val_accuracy: 0.8295\n",
      "Epoch 64/100\n",
      "300/300 [==============================] - 1s 3ms/step - loss: 0.3939 - accuracy: 0.8325 - val_loss: 0.3933 - val_accuracy: 0.8280\n"
     ]
    },
    {
     "data": {
      "text/plain": [
       "<keras.src.callbacks.History at 0x2eb84bbcdd0>"
      ]
     },
     "execution_count": 204,
     "metadata": {},
     "output_type": "execute_result"
    }
   ],
   "source": [
    "es=tf.keras.callbacks.EarlyStopping(monitor='val_loss',patience=10,restore_best_weights=True)\n",
    "# Fitting The model on Training set\n",
    "nn.fit(x_train,y_train,batch_size=20,epochs=100,callbacks=es,validation_data=(x_val,y_val))"
   ]
  },
  {
   "cell_type": "markdown",
   "id": "b0b2535d",
   "metadata": {},
   "source": [
    "## Evaluating The Neural Network"
   ]
  },
  {
   "cell_type": "code",
   "execution_count": 205,
   "id": "21ce2c73",
   "metadata": {},
   "outputs": [
    {
     "data": {
      "text/html": [
       "<div>\n",
       "<style scoped>\n",
       "    .dataframe tbody tr th:only-of-type {\n",
       "        vertical-align: middle;\n",
       "    }\n",
       "\n",
       "    .dataframe tbody tr th {\n",
       "        vertical-align: top;\n",
       "    }\n",
       "\n",
       "    .dataframe thead th {\n",
       "        text-align: right;\n",
       "    }\n",
       "</style>\n",
       "<table border=\"1\" class=\"dataframe\">\n",
       "  <thead>\n",
       "    <tr style=\"text-align: right;\">\n",
       "      <th></th>\n",
       "      <th>loss</th>\n",
       "      <th>accuracy</th>\n",
       "      <th>val_loss</th>\n",
       "      <th>val_accuracy</th>\n",
       "    </tr>\n",
       "  </thead>\n",
       "  <tbody>\n",
       "    <tr>\n",
       "      <th>0</th>\n",
       "      <td>0.615775</td>\n",
       "      <td>0.687833</td>\n",
       "      <td>0.517614</td>\n",
       "      <td>0.7965</td>\n",
       "    </tr>\n",
       "    <tr>\n",
       "      <th>1</th>\n",
       "      <td>0.512284</td>\n",
       "      <td>0.792000</td>\n",
       "      <td>0.478256</td>\n",
       "      <td>0.7965</td>\n",
       "    </tr>\n",
       "    <tr>\n",
       "      <th>2</th>\n",
       "      <td>0.479768</td>\n",
       "      <td>0.794167</td>\n",
       "      <td>0.461617</td>\n",
       "      <td>0.7965</td>\n",
       "    </tr>\n",
       "    <tr>\n",
       "      <th>3</th>\n",
       "      <td>0.462797</td>\n",
       "      <td>0.796167</td>\n",
       "      <td>0.452962</td>\n",
       "      <td>0.7965</td>\n",
       "    </tr>\n",
       "    <tr>\n",
       "      <th>4</th>\n",
       "      <td>0.455978</td>\n",
       "      <td>0.794500</td>\n",
       "      <td>0.445698</td>\n",
       "      <td>0.7965</td>\n",
       "    </tr>\n",
       "  </tbody>\n",
       "</table>\n",
       "</div>"
      ],
      "text/plain": [
       "       loss  accuracy  val_loss  val_accuracy\n",
       "0  0.615775  0.687833  0.517614        0.7965\n",
       "1  0.512284  0.792000  0.478256        0.7965\n",
       "2  0.479768  0.794167  0.461617        0.7965\n",
       "3  0.462797  0.796167  0.452962        0.7965\n",
       "4  0.455978  0.794500  0.445698        0.7965"
      ]
     },
     "execution_count": 205,
     "metadata": {},
     "output_type": "execute_result"
    }
   ],
   "source": [
    "nn_eval=pd.DataFrame(nn.history.history)\n",
    "nn_eval.head()"
   ]
  },
  {
   "cell_type": "code",
   "execution_count": 206,
   "id": "88a30c9b",
   "metadata": {},
   "outputs": [
    {
     "name": "stdout",
     "output_type": "stream",
     "text": [
      "188/188 [==============================] - 1s 2ms/step - loss: 0.3787 - accuracy: 0.8435\n"
     ]
    },
    {
     "data": {
      "text/plain": [
       "[0.3786550760269165, 0.843500018119812]"
      ]
     },
     "execution_count": 206,
     "metadata": {},
     "output_type": "execute_result"
    }
   ],
   "source": [
    "# Evaluating nn on Training set\n",
    "nn.evaluate(x_train,y_train)"
   ]
  },
  {
   "cell_type": "code",
   "execution_count": 207,
   "id": "9c56fb4f",
   "metadata": {},
   "outputs": [
    {
     "name": "stdout",
     "output_type": "stream",
     "text": [
      "63/63 [==============================] - 0s 2ms/step - loss: 0.3901 - accuracy: 0.8315\n"
     ]
    },
    {
     "data": {
      "text/plain": [
       "[0.3900970220565796, 0.8314999938011169]"
      ]
     },
     "execution_count": 207,
     "metadata": {},
     "output_type": "execute_result"
    }
   ],
   "source": [
    "# Evaluting nn again on validation set\n",
    "nn.evaluate(x_val,y_val)"
   ]
  },
  {
   "cell_type": "code",
   "execution_count": 208,
   "id": "3e7c30d4",
   "metadata": {},
   "outputs": [
    {
     "name": "stdout",
     "output_type": "stream",
     "text": [
      "63/63 [==============================] - 0s 2ms/step - loss: 0.3840 - accuracy: 0.8375\n"
     ]
    },
    {
     "data": {
      "text/plain": [
       "[0.3840169906616211, 0.8374999761581421]"
      ]
     },
     "execution_count": 208,
     "metadata": {},
     "output_type": "execute_result"
    }
   ],
   "source": [
    "# Evaluating nn on Test Set\n",
    "nn.evaluate(x_test,y_test)"
   ]
  },
  {
   "cell_type": "code",
   "execution_count": 209,
   "id": "5ed03dbc",
   "metadata": {},
   "outputs": [],
   "source": [
    "loss = nn_eval['loss']\n",
    "val_loss = nn_eval['val_loss']\n",
    "acc = nn_eval['accuracy']\n",
    "val_acc = nn_eval['val_accuracy']\n",
    "epochs=range(1,len(loss)+1)"
   ]
  },
  {
   "cell_type": "code",
   "execution_count": 210,
   "id": "5aa1084a",
   "metadata": {},
   "outputs": [
    {
     "data": {
      "image/png": "[encoded data removed]",
      "text/plain": [
       "<Figure size 640x480 with 1 Axes>"
      ]
     },
     "metadata": {},
     "output_type": "display_data"
    }
   ],
   "source": [
    "plt.plot(epochs,loss,'r',label=\"Training Loss\")\n",
    "plt.plot(epochs,val_loss,'b',label=\"Validation loss\")\n",
    "plt.title(\"Training and validation loss\")\n",
    "plt.xlabel('Epochs')\n",
    "plt.ylabel('loss')\n",
    "plt.legend()\n",
    "plt.show()"
   ]
  },
  {
   "cell_type": "code",
   "execution_count": 211,
   "id": "c529c757",
   "metadata": {},
   "outputs": [
    {
     "data": {
      "image/png": "[encoded data removed]",
      "text/plain": [
       "<Figure size 640x480 with 1 Axes>"
      ]
     },
     "metadata": {},
     "output_type": "display_data"
    }
   ],
   "source": [
    "plt.plot(epochs,acc,'r',label=\"Training Accuracy\")\n",
    "plt.plot(epochs,val_acc,'b',label=\"Validation Accuracy\")\n",
    "plt.title(\"Training and validation Accuracy\")\n",
    "plt.xlabel('Epochs')\n",
    "plt.ylabel('Accuracy')\n",
    "plt.legend()\n",
    "plt.show()"
   ]
  },
  {
   "cell_type": "markdown",
   "id": "c64242e7",
   "metadata": {},
   "source": [
    "### Predictions"
   ]
  },
  {
   "cell_type": "code",
   "execution_count": 212,
   "id": "ebe8bb03",
   "metadata": {},
   "outputs": [
    {
     "name": "stdout",
     "output_type": "stream",
     "text": [
      "63/63 [==============================] - 0s 2ms/step\n"
     ]
    },
    {
     "data": {
      "text/plain": [
       "array([[0.07069994],\n",
       "       [0.1924236 ],\n",
       "       [0.12283201],\n",
       "       ...,\n",
       "       [0.6287966 ],\n",
       "       [0.09456725],\n",
       "       [0.09614905]], dtype=float32)"
      ]
     },
     "execution_count": 212,
     "metadata": {},
     "output_type": "execute_result"
    }
   ],
   "source": [
    "y_score= nn.predict(x_test)\n",
    "y_score"
   ]
  },
  {
   "cell_type": "markdown",
   "id": "0ba6c868",
   "metadata": {},
   "source": [
    "## ROC Curve"
   ]
  },
  {
   "cell_type": "code",
   "execution_count": 213,
   "id": "6bcc818b",
   "metadata": {},
   "outputs": [
    {
     "data": {
      "text/plain": [
       "<sklearn.metrics._plot.roc_curve.RocCurveDisplay at 0x2eb86e7eb90>"
      ]
     },
     "execution_count": 213,
     "metadata": {},
     "output_type": "execute_result"
    },
    {
     "data": {
      "image/png": "[encoded data removed]",
      "text/plain": [
       "<Figure size 640x480 with 1 Axes>"
      ]
     },
     "metadata": {},
     "output_type": "display_data"
    }
   ],
   "source": [
    "from sklearn.metrics import roc_curve,RocCurveDisplay\n",
    "RocCurveDisplay.from_predictions(y_true=y_test,y_pred=y_score)"
   ]
  },
  {
   "cell_type": "code",
   "execution_count": 214,
   "id": "96110de3",
   "metadata": {},
   "outputs": [
    {
     "name": "stdout",
     "output_type": "stream",
     "text": [
      "AUC -> 0.8276034123491751\n"
     ]
    }
   ],
   "source": [
    "from sklearn.metrics import roc_curve,roc_auc_score\n",
    "fpr,tpr,thresholds = roc_curve(y_true=y_test,y_score=y_score)\n",
    "nn_auc_score = roc_auc_score(y_true=y_test,y_score=y_score)\n",
    "print(f'AUC -> {nn_auc_score}')"
   ]
  },
  {
   "cell_type": "markdown",
   "id": "1ce4de27",
   "metadata": {},
   "source": [
    "### Youden's J Statistic for Threshold Determination\n",
    "J = Sensitivity + Specificity – 1\n",
    "\n",
    "J = Sensitivity + (1 – FalsePositiveRate) – 1\n",
    "\n",
    "J = TruePositiveRate – FalsePositiveRate\n",
    "\n",
    "Goal is to get - > Maximum TPR and Minimum FPR"
   ]
  },
  {
   "cell_type": "code",
   "execution_count": 215,
   "id": "f7e930e2",
   "metadata": {},
   "outputs": [
    {
     "name": "stdout",
     "output_type": "stream",
     "text": [
      " thrshold is 0.21050715446472168 and fpr is 0.20527306967984935 and tpr is 0.7395577395577395\n"
     ]
    }
   ],
   "source": [
    "idx = np.argmax(tpr - fpr) \n",
    "print(f\" thrshold is {thresholds[idx]} and fpr is {fpr[idx]} and tpr is {tpr[idx]}\")"
   ]
  },
  {
   "cell_type": "code",
   "execution_count": 216,
   "id": "a7a06942",
   "metadata": {},
   "outputs": [
    {
     "data": {
      "image/png": "[encoded data removed]",
      "text/plain": [
       "<Figure size 640x480 with 1 Axes>"
      ]
     },
     "metadata": {},
     "output_type": "display_data"
    }
   ],
   "source": [
    "plt.plot([0,1], [0,1], linestyle='--', label='No Skill')\n",
    "plt.plot(fpr, tpr, label='Neural Network')\n",
    "plt.scatter(fpr[idx], tpr[idx], marker='o', color='black', label='optimal')\n",
    "# axis labels\n",
    "plt.xlabel('False Positive Rate')\n",
    "plt.ylabel('True Positive Rate')\n",
    "plt.legend()\n",
    "# show the plot\n",
    "plt.show()"
   ]
  },
  {
   "cell_type": "markdown",
   "id": "116fd5cb",
   "metadata": {},
   "source": [
    "## Accuracy"
   ]
  },
  {
   "cell_type": "code",
   "execution_count": 217,
   "id": "653de095",
   "metadata": {},
   "outputs": [
    {
     "name": "stdout",
     "output_type": "stream",
     "text": [
      "[0.7965, 0.7965, 0.7985, 0.799, 0.8015, 0.802, 0.8025, 0.803, 0.8075, 0.808, 0.8115, 0.812, 0.8125, 0.813, 0.8165, 0.817, 0.8175, 0.8175, 0.8175, 0.818, 0.8215, 0.822, 0.8235, 0.824, 0.8245, 0.825, 0.8255, 0.826, 0.826, 0.826, 0.8255, 0.8255, 0.826, 0.8265, 0.826, 0.826, 0.827, 0.8275, 0.827, 0.8265, 0.8325, 0.833, 0.8355, 0.836, 0.836, 0.8365, 0.837, 0.8375, 0.837, 0.837, 0.838, 0.838, 0.838, 0.838, 0.8375, 0.8365, 0.836, 0.8355, 0.835, 0.8355, 0.8355, 0.836, 0.836, 0.835, 0.8345, 0.835, 0.8345, 0.8345, 0.8345, 0.833, 0.8325, 0.834, 0.833, 0.833, 0.832, 0.832, 0.8325, 0.8335, 0.834, 0.834, 0.834, 0.835, 0.8335, 0.8335, 0.834, 0.8355, 0.834, 0.834, 0.8335, 0.833, 0.8325, 0.8325, 0.833, 0.8335, 0.8335, 0.8335, 0.8325, 0.833, 0.833, 0.8325, 0.827, 0.8265, 0.827, 0.827, 0.8275, 0.827, 0.8275, 0.827, 0.827, 0.8265, 0.827, 0.8275, 0.8275, 0.827, 0.8275, 0.827, 0.827, 0.8265, 0.8265, 0.826, 0.8255, 0.8255, 0.826, 0.8255, 0.826, 0.826, 0.825, 0.825, 0.8255, 0.825, 0.8245, 0.8245, 0.823, 0.8225, 0.8225, 0.822, 0.8225, 0.8225, 0.823, 0.8235, 0.8235, 0.823, 0.8235, 0.823, 0.8215, 0.821, 0.8215, 0.821, 0.821, 0.821, 0.821, 0.8205, 0.82, 0.8195, 0.8195, 0.8195, 0.82, 0.8205, 0.82, 0.8195, 0.8195, 0.82, 0.8205, 0.8205, 0.821, 0.8215, 0.822, 0.8215, 0.8205, 0.82, 0.8185, 0.818, 0.818, 0.8175, 0.818, 0.8175, 0.8145, 0.814, 0.8125, 0.812, 0.8095, 0.809, 0.809, 0.8085, 0.805, 0.8045, 0.8035, 0.803, 0.8035, 0.8035, 0.8025, 0.802, 0.802, 0.8025, 0.8025, 0.802, 0.8015, 0.8025, 0.803, 0.803, 0.8035, 0.8045, 0.805, 0.8045, 0.8045, 0.805, 0.8055, 0.805, 0.8055, 0.805, 0.8045, 0.804, 0.8035, 0.803, 0.801, 0.8025, 0.8025, 0.802, 0.801, 0.8005, 0.801, 0.8005, 0.8005, 0.8, 0.8, 0.8, 0.8005, 0.8, 0.8, 0.7995, 0.8, 0.7995, 0.799, 0.799, 0.797, 0.7965, 0.796, 0.796, 0.7965, 0.796, 0.795, 0.7945, 0.795, 0.7945, 0.795, 0.7955, 0.7945, 0.794, 0.7925, 0.7925, 0.7895, 0.789, 0.7885, 0.788, 0.7885, 0.7885, 0.788, 0.7875, 0.788, 0.7875, 0.786, 0.786, 0.783, 0.7825, 0.783, 0.783, 0.78, 0.7795, 0.774, 0.7735, 0.773, 0.773, 0.7725, 0.772, 0.765, 0.7645, 0.763, 0.763, 0.762, 0.7615, 0.7505, 0.75, 0.749, 0.7485, 0.745, 0.7445, 0.7445, 0.744, 0.744, 0.7435, 0.7435, 0.743, 0.736, 0.7355, 0.7335, 0.733, 0.7315, 0.731, 0.731, 0.7305, 0.7265, 0.726, 0.723, 0.7225, 0.712, 0.7115, 0.711, 0.7105, 0.7075, 0.707, 0.7065, 0.706, 0.7065, 0.707, 0.7065, 0.706, 0.7035, 0.703, 0.7025, 0.702, 0.701, 0.7005, 0.6995, 0.699, 0.6915, 0.691, 0.6905, 0.69, 0.6885, 0.688, 0.6845, 0.684, 0.6815, 0.681, 0.6775, 0.677, 0.6765, 0.676, 0.673, 0.6725, 0.67, 0.6695, 0.6595, 0.659, 0.659, 0.6585, 0.6565, 0.656, 0.6565, 0.656, 0.649, 0.6485, 0.6485, 0.648, 0.646, 0.6455, 0.6455, 0.6455, 0.645, 0.6445, 0.645, 0.6445, 0.6405, 0.64, 0.6395, 0.639, 0.63, 0.6295, 0.6155, 0.615, 0.615, 0.6145, 0.6115, 0.6115, 0.611, 0.6105, 0.611, 0.6105, 0.6015, 0.6015, 0.602, 0.6015, 0.586, 0.5855, 0.5855, 0.585, 0.565, 0.5645, 0.5485, 0.548, 0.548, 0.5475, 0.5475, 0.5475, 0.546, 0.5455, 0.546, 0.5455, 0.5395, 0.539, 0.5385, 0.538, 0.5335, 0.5335, 0.525, 0.5245, 0.524, 0.5235, 0.5205, 0.52, 0.506, 0.5055, 0.501, 0.5005, 0.4995, 0.499, 0.4985, 0.498, 0.488, 0.4875, 0.4835, 0.4835, 0.4835, 0.483, 0.4715, 0.471, 0.4465, 0.446, 0.445, 0.4445, 0.442, 0.4415, 0.4075, 0.407, 0.3975, 0.397, 0.3845, 0.384, 0.342, 0.3415, 0.3265, 0.326, 0.326, 0.3255, 0.324, 0.3235, 0.3045, 0.304, 0.2795, 0.279, 0.265, 0.2645, 0.2625, 0.262, 0.249, 0.2485, 0.204, 0.2035, 0.204]\n"
     ]
    }
   ],
   "source": [
    "from sklearn.metrics import accuracy_score\n",
    "\n",
    "accuracies =[]\n",
    "for i in thresholds:\n",
    "    y_z =( y_score>i).astype(int)\n",
    "    accuracies.append(accuracy_score(y_test,y_z))\n",
    "print(accuracies)"
   ]
  },
  {
   "cell_type": "code",
   "execution_count": 218,
   "id": "5007a1fe",
   "metadata": {},
   "outputs": [
    {
     "name": "stdout",
     "output_type": "stream",
     "text": [
      "optimal threshold is 0.518820583820343\n"
     ]
    }
   ],
   "source": [
    "idx=np.argmax(accuracies)\n",
    "print(f\"optimal threshold is {thresholds[idx]}\")"
   ]
  },
  {
   "cell_type": "code",
   "execution_count": 219,
   "id": "62e7da76",
   "metadata": {},
   "outputs": [
    {
     "name": "stdout",
     "output_type": "stream",
     "text": [
      "[[1562   31]\n",
      " [ 293  114]]\n",
      "Accuracy -> 83.8%\n"
     ]
    }
   ],
   "source": [
    "from sklearn.metrics import confusion_matrix\n",
    "y_pred = ( y_score > thresholds[idx]).astype(int)\n",
    "cm=confusion_matrix(y_test,y_pred)\n",
    "print(cm)\n",
    "print(f'Accuracy -> {accuracy_score(y_test,y_pred)*100}%')"
   ]
  },
  {
   "cell_type": "code",
   "execution_count": 220,
   "id": "982d2b3a",
   "metadata": {},
   "outputs": [
    {
     "data": {
      "image/png": "[encoded data removed]",
      "text/plain": [
       "<Figure size 640x480 with 1 Axes>"
      ]
     },
     "metadata": {},
     "output_type": "display_data"
    }
   ],
   "source": [
    "plt.scatter(thresholds,accuracies)\n",
    "plt.xlabel(\"Threshold\")\n",
    "plt.ylabel(\"Accuracy\")\n",
    "plt.show()"
   ]
  },
  {
   "cell_type": "markdown",
   "id": "58846dfd",
   "metadata": {},
   "source": [
    "### Choosing threshold is more of business problem, your desired goal."
   ]
  },
  {
   "cell_type": "markdown",
   "id": "f0f6c1c8",
   "metadata": {},
   "source": [
    "## Single Prediction\n",
    "#### use model to predict the specific person with some details<br>\n",
    "    Geography: France\n",
    "    Credit Score: 600\n",
    "    Gender: Male\n",
    "    Age: 40 years old\n",
    "    Tenure: 3 years\n",
    "    Balance: $60000\n",
    "    Number of Products: 2\n",
    "    Does this customer have a credit card ? Yes\n",
    "    Is this customer an Active Member: Yes \n",
    "    Estimated Salary: $50000"
   ]
  },
  {
   "cell_type": "code",
   "execution_count": 221,
   "id": "fc7a448c",
   "metadata": {},
   "outputs": [
    {
     "data": {
      "text/plain": [
       "array([[    0,     0,     1,   700,    40,     3,     0,     2,     1,\n",
       "            1, 50000]])"
      ]
     },
     "execution_count": 221,
     "metadata": {},
     "output_type": "execute_result"
    }
   ],
   "source": [
    "'''\n",
    "France code  is 0,0 after encoding and removing dummy varibale\n",
    "'''\n",
    "obs=np.array([0,0,1,700,40,3,0,2,1,1,50000]).reshape(1,11)\n",
    "obs"
   ]
  },
  {
   "cell_type": "code",
   "execution_count": 222,
   "id": "b99d4145",
   "metadata": {},
   "outputs": [
    {
     "name": "stdout",
     "output_type": "stream",
     "text": [
      "1/1 [==============================] - 0s 55ms/step\n"
     ]
    },
    {
     "data": {
      "text/plain": [
       "array([[0.05981081]], dtype=float32)"
      ]
     },
     "execution_count": 222,
     "metadata": {},
     "output_type": "execute_result"
    }
   ],
   "source": [
    "new_pred = nn.predict(sc.transform(obs))\n",
    "new_pred"
   ]
  }
 ],
 "metadata": {
  "kernelspec": {
   "display_name": "dl",
   "language": "python",
   "name": "python3"
  },
  "language_info": {
   "codemirror_mode": {
    "name": "ipython",
    "version": 3
   },
   "file_extension": ".py",
   "mimetype": "text/x-python",
   "name": "python",
   "nbconvert_exporter": "python",
   "pygments_lexer": "ipython3",
   "version": "3.11.4"
  }
 },
 "nbformat": 4,
 "nbformat_minor": 5
}
