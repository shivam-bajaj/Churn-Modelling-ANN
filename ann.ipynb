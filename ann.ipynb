{
 "cells": [
  {
   "attachments": {},
   "cell_type": "markdown",
   "id": "e1ea6249-67ee-4154-99fc-81842252df14",
   "metadata": {},
   "source": [
    "# Churn Modelling"
   ]
  },
  {
   "cell_type": "code",
   "execution_count": 1,
   "id": "006335b5-5988-4ed1-814c-38df1b0ea3ea",
   "metadata": {},
   "outputs": [],
   "source": [
    "#import libraries\n",
    "import pandas as pd\n",
    "import numpy as np\n",
    "\n",
    "#np.set_printoptions(threshold=np.inf)\n",
    "np.set_printoptions(threshold=1000)"
   ]
  },
  {
   "cell_type": "code",
   "execution_count": 2,
   "id": "f4aefd2a-a0c5-4906-ada7-b2df0f4e6dae",
   "metadata": {},
   "outputs": [
    {
     "data": {
      "text/html": [
       "<div>\n",
       "<style scoped>\n",
       "    .dataframe tbody tr th:only-of-type {\n",
       "        vertical-align: middle;\n",
       "    }\n",
       "\n",
       "    .dataframe tbody tr th {\n",
       "        vertical-align: top;\n",
       "    }\n",
       "\n",
       "    .dataframe thead th {\n",
       "        text-align: right;\n",
       "    }\n",
       "</style>\n",
       "<table border=\"1\" class=\"dataframe\">\n",
       "  <thead>\n",
       "    <tr style=\"text-align: right;\">\n",
       "      <th></th>\n",
       "      <th>RowNumber</th>\n",
       "      <th>CustomerId</th>\n",
       "      <th>Surname</th>\n",
       "      <th>CreditScore</th>\n",
       "      <th>Geography</th>\n",
       "      <th>Gender</th>\n",
       "      <th>Age</th>\n",
       "      <th>Tenure</th>\n",
       "      <th>Balance</th>\n",
       "      <th>NumOfProducts</th>\n",
       "      <th>HasCrCard</th>\n",
       "      <th>IsActiveMember</th>\n",
       "      <th>EstimatedSalary</th>\n",
       "      <th>Exited</th>\n",
       "    </tr>\n",
       "  </thead>\n",
       "  <tbody>\n",
       "    <tr>\n",
       "      <th>0</th>\n",
       "      <td>1</td>\n",
       "      <td>15634602</td>\n",
       "      <td>Hargrave</td>\n",
       "      <td>619</td>\n",
       "      <td>France</td>\n",
       "      <td>Female</td>\n",
       "      <td>42</td>\n",
       "      <td>2</td>\n",
       "      <td>0.00</td>\n",
       "      <td>1</td>\n",
       "      <td>1</td>\n",
       "      <td>1</td>\n",
       "      <td>101348.88</td>\n",
       "      <td>1</td>\n",
       "    </tr>\n",
       "    <tr>\n",
       "      <th>1</th>\n",
       "      <td>2</td>\n",
       "      <td>15647311</td>\n",
       "      <td>Hill</td>\n",
       "      <td>608</td>\n",
       "      <td>Spain</td>\n",
       "      <td>Female</td>\n",
       "      <td>41</td>\n",
       "      <td>1</td>\n",
       "      <td>83807.86</td>\n",
       "      <td>1</td>\n",
       "      <td>0</td>\n",
       "      <td>1</td>\n",
       "      <td>112542.58</td>\n",
       "      <td>0</td>\n",
       "    </tr>\n",
       "    <tr>\n",
       "      <th>2</th>\n",
       "      <td>3</td>\n",
       "      <td>15619304</td>\n",
       "      <td>Onio</td>\n",
       "      <td>502</td>\n",
       "      <td>France</td>\n",
       "      <td>Female</td>\n",
       "      <td>42</td>\n",
       "      <td>8</td>\n",
       "      <td>159660.80</td>\n",
       "      <td>3</td>\n",
       "      <td>1</td>\n",
       "      <td>0</td>\n",
       "      <td>113931.57</td>\n",
       "      <td>1</td>\n",
       "    </tr>\n",
       "    <tr>\n",
       "      <th>3</th>\n",
       "      <td>4</td>\n",
       "      <td>15701354</td>\n",
       "      <td>Boni</td>\n",
       "      <td>699</td>\n",
       "      <td>France</td>\n",
       "      <td>Female</td>\n",
       "      <td>39</td>\n",
       "      <td>1</td>\n",
       "      <td>0.00</td>\n",
       "      <td>2</td>\n",
       "      <td>0</td>\n",
       "      <td>0</td>\n",
       "      <td>93826.63</td>\n",
       "      <td>0</td>\n",
       "    </tr>\n",
       "    <tr>\n",
       "      <th>4</th>\n",
       "      <td>5</td>\n",
       "      <td>15737888</td>\n",
       "      <td>Mitchell</td>\n",
       "      <td>850</td>\n",
       "      <td>Spain</td>\n",
       "      <td>Female</td>\n",
       "      <td>43</td>\n",
       "      <td>2</td>\n",
       "      <td>125510.82</td>\n",
       "      <td>1</td>\n",
       "      <td>1</td>\n",
       "      <td>1</td>\n",
       "      <td>79084.10</td>\n",
       "      <td>0</td>\n",
       "    </tr>\n",
       "  </tbody>\n",
       "</table>\n",
       "</div>"
      ],
      "text/plain": [
       "   RowNumber  CustomerId   Surname  CreditScore Geography  Gender  Age  \\\n",
       "0          1    15634602  Hargrave          619    France  Female   42   \n",
       "1          2    15647311      Hill          608     Spain  Female   41   \n",
       "2          3    15619304      Onio          502    France  Female   42   \n",
       "3          4    15701354      Boni          699    France  Female   39   \n",
       "4          5    15737888  Mitchell          850     Spain  Female   43   \n",
       "\n",
       "   Tenure    Balance  NumOfProducts  HasCrCard  IsActiveMember  \\\n",
       "0       2       0.00              1          1               1   \n",
       "1       1   83807.86              1          0               1   \n",
       "2       8  159660.80              3          1               0   \n",
       "3       1       0.00              2          0               0   \n",
       "4       2  125510.82              1          1               1   \n",
       "\n",
       "   EstimatedSalary  Exited  \n",
       "0        101348.88       1  \n",
       "1        112542.58       0  \n",
       "2        113931.57       1  \n",
       "3         93826.63       0  \n",
       "4         79084.10       0  "
      ]
     },
     "execution_count": 2,
     "metadata": {},
     "output_type": "execute_result"
    }
   ],
   "source": [
    "df = pd.read_csv('Churn_Modelling.csv')\n",
    "df.head()"
   ]
  },
  {
   "cell_type": "code",
   "execution_count": 3,
   "id": "fadd5510-27af-424b-8591-4c321c7eb9df",
   "metadata": {},
   "outputs": [
    {
     "data": {
      "text/plain": [
       "RowNumber          0\n",
       "CustomerId         0\n",
       "Surname            0\n",
       "CreditScore        0\n",
       "Geography          0\n",
       "Gender             0\n",
       "Age                0\n",
       "Tenure             0\n",
       "Balance            0\n",
       "NumOfProducts      0\n",
       "HasCrCard          0\n",
       "IsActiveMember     0\n",
       "EstimatedSalary    0\n",
       "Exited             0\n",
       "dtype: int64"
      ]
     },
     "execution_count": 3,
     "metadata": {},
     "output_type": "execute_result"
    }
   ],
   "source": [
    "# Checking null Values\n",
    "df.isnull().sum()"
   ]
  },
  {
   "cell_type": "code",
   "execution_count": 4,
   "id": "990ce5fd-bbce-4a3d-8d07-cd5cc491b150",
   "metadata": {},
   "outputs": [
    {
     "name": "stdout",
     "output_type": "stream",
     "text": [
      "<class 'pandas.core.frame.DataFrame'>\n",
      "      CreditScore Geography  Gender  Age  Tenure    Balance  NumOfProducts  \\\n",
      "0             619    France  Female   42       2       0.00              1   \n",
      "1             608     Spain  Female   41       1   83807.86              1   \n",
      "2             502    France  Female   42       8  159660.80              3   \n",
      "3             699    France  Female   39       1       0.00              2   \n",
      "4             850     Spain  Female   43       2  125510.82              1   \n",
      "...           ...       ...     ...  ...     ...        ...            ...   \n",
      "9995          771    France    Male   39       5       0.00              2   \n",
      "9996          516    France    Male   35      10   57369.61              1   \n",
      "9997          709    France  Female   36       7       0.00              1   \n",
      "9998          772   Germany    Male   42       3   75075.31              2   \n",
      "9999          792    France  Female   28       4  130142.79              1   \n",
      "\n",
      "      HasCrCard  IsActiveMember  EstimatedSalary  \n",
      "0             1               1        101348.88  \n",
      "1             0               1        112542.58  \n",
      "2             1               0        113931.57  \n",
      "3             0               0         93826.63  \n",
      "4             1               1         79084.10  \n",
      "...         ...             ...              ...  \n",
      "9995          1               0         96270.64  \n",
      "9996          1               1        101699.77  \n",
      "9997          0               1         42085.58  \n",
      "9998          1               0         92888.52  \n",
      "9999          1               0         38190.78  \n",
      "\n",
      "[10000 rows x 10 columns]\n"
     ]
    }
   ],
   "source": [
    "x= df.iloc[:,3:-1]\n",
    "print(type(x))\n",
    "print(x)"
   ]
  },
  {
   "cell_type": "code",
   "execution_count": 5,
   "id": "9ed7b9ce-d3f3-4f80-b62d-f683f59342df",
   "metadata": {},
   "outputs": [
    {
     "name": "stdout",
     "output_type": "stream",
     "text": [
      "<class 'pandas.core.series.Series'>\n",
      "0       1\n",
      "1       0\n",
      "2       1\n",
      "3       0\n",
      "4       0\n",
      "       ..\n",
      "9995    0\n",
      "9996    0\n",
      "9997    1\n",
      "9998    1\n",
      "9999    0\n",
      "Name: Exited, Length: 10000, dtype: int64\n"
     ]
    }
   ],
   "source": [
    "y= df.iloc[:,-1]\n",
    "print(type(y))\n",
    "print(y)"
   ]
  },
  {
   "attachments": {},
   "cell_type": "markdown",
   "id": "183b3a72-a95f-4305-a22c-11b4e4f13237",
   "metadata": {},
   "source": [
    "### Encoding Categorical Data"
   ]
  },
  {
   "cell_type": "code",
   "execution_count": 6,
   "id": "9fb3c065-b068-49a6-af86-8102796dfcb8",
   "metadata": {},
   "outputs": [],
   "source": [
    "# import libraries\n",
    "from sklearn.compose import ColumnTransformer\n",
    "from sklearn.preprocessing import OneHotEncoder,OrdinalEncoder,LabelEncoder"
   ]
  },
  {
   "attachments": {},
   "cell_type": "markdown",
   "id": "43d9f46c-3e8e-4af2-bc4c-92c9c1243212",
   "metadata": {},
   "source": [
    "Geography and Gender are categoriacal values <br>\n",
    "Geography -> Label Encoder or Ordinal Encoder <br>\n",
    "Gender    -> One Hot Encoder <br>\n",
    "We can directy use Column transformer apply One Hot Encoder and Ordinal Encoder or we apply One Hot Encoder  and Label Encoder separtately"
   ]
  },
  {
   "cell_type": "code",
   "execution_count": 7,
   "id": "f5a03ca7",
   "metadata": {},
   "outputs": [],
   "source": [
    "x2=x"
   ]
  },
  {
   "cell_type": "code",
   "execution_count": 8,
   "id": "af43510b",
   "metadata": {},
   "outputs": [
    {
     "data": {
      "text/plain": [
       "array([[1.0000000e+00, 0.0000000e+00, 0.0000000e+00, ..., 1.0000000e+00,\n",
       "        1.0000000e+00, 1.0134888e+05],\n",
       "       [0.0000000e+00, 0.0000000e+00, 1.0000000e+00, ..., 0.0000000e+00,\n",
       "        1.0000000e+00, 1.1254258e+05],\n",
       "       [1.0000000e+00, 0.0000000e+00, 0.0000000e+00, ..., 1.0000000e+00,\n",
       "        0.0000000e+00, 1.1393157e+05],\n",
       "       ...,\n",
       "       [1.0000000e+00, 0.0000000e+00, 0.0000000e+00, ..., 0.0000000e+00,\n",
       "        1.0000000e+00, 4.2085580e+04],\n",
       "       [0.0000000e+00, 1.0000000e+00, 0.0000000e+00, ..., 1.0000000e+00,\n",
       "        0.0000000e+00, 9.2888520e+04],\n",
       "       [1.0000000e+00, 0.0000000e+00, 0.0000000e+00, ..., 1.0000000e+00,\n",
       "        0.0000000e+00, 3.8190780e+04]])"
      ]
     },
     "execution_count": 8,
     "metadata": {},
     "output_type": "execute_result"
    }
   ],
   "source": [
    "ct = ColumnTransformer(transformers=[('Country',OneHotEncoder(),[1]),('Gender',OrdinalEncoder(),[2])],remainder='passthrough')\n",
    "x= ct.fit_transform(x)\n",
    "x"
   ]
  },
  {
   "cell_type": "code",
   "execution_count": 9,
   "id": "23b1557a-8bd6-4572-aef5-35d0d260ea81",
   "metadata": {},
   "outputs": [
    {
     "data": {
      "text/plain": [
       "array([[1.0, 0.0, 0.0, ..., 1, 1, 101348.88],\n",
       "       [0.0, 0.0, 1.0, ..., 0, 1, 112542.58],\n",
       "       [1.0, 0.0, 0.0, ..., 1, 0, 113931.57],\n",
       "       ...,\n",
       "       [1.0, 0.0, 0.0, ..., 0, 1, 42085.58],\n",
       "       [0.0, 1.0, 0.0, ..., 1, 0, 92888.52],\n",
       "       [1.0, 0.0, 0.0, ..., 1, 0, 38190.78]], dtype=object)"
      ]
     },
     "execution_count": 9,
     "metadata": {},
     "output_type": "execute_result"
    }
   ],
   "source": [
    "#using Label Encoder\n",
    "le = LabelEncoder()\n",
    "x2.iloc[:,2] = le.fit_transform(x2.iloc[:,2])\n",
    "ct = ColumnTransformer(transformers=[('Country',OneHotEncoder(),[1])],remainder='passthrough')\n",
    "x2= ct.fit_transform(x2)\n",
    "x2"
   ]
  },
  {
   "attachments": {},
   "cell_type": "markdown",
   "id": "86c89fe2",
   "metadata": {},
   "source": [
    "\n",
    "OrdinalEncoder is for 2D data with the shape (n_samples, n_features)<br>\n",
    "LabelEncoder is for 1D data with the shape (n_samples,)<br><br>\n",
    "\n",
    "Oridnal Enoder - The features are converted to ordinal integers,single column of integers (0 to n_categories - 1) per feature.<br>\n",
    "Label Encoder - Encode target labels with value between 0 and n_classes-1."
   ]
  },
  {
   "cell_type": "code",
   "execution_count": 10,
   "id": "218b9943-5e8b-4d7c-b43c-58b858b90a03",
   "metadata": {},
   "outputs": [],
   "source": [
    "# Avoiding Dummy variable Trap\n",
    "x=x[:,1:]"
   ]
  },
  {
   "cell_type": "markdown",
   "id": "5df2d29c-dad0-4a9c-b23f-bf972834feaa",
   "metadata": {},
   "source": [
    "### Spliting The Datatset"
   ]
  },
  {
   "cell_type": "code",
   "execution_count": 11,
   "id": "89393744-593c-488d-befe-259db8831dda",
   "metadata": {},
   "outputs": [],
   "source": [
    "from sklearn.model_selection import train_test_split\n",
    "x_train, x_test , y_train, y_test = train_test_split(x,y,test_size=0.2,random_state=0)"
   ]
  },
  {
   "cell_type": "markdown",
   "id": "a3a20f07-d2ab-4a3e-a5e4-b15eec79ff38",
   "metadata": {},
   "source": [
    "### Feature Scaling\n"
   ]
  },
  {
   "cell_type": "code",
   "execution_count": 12,
   "id": "4b79dbf1",
   "metadata": {},
   "outputs": [],
   "source": [
    "from sklearn.preprocessing import StandardScaler\n",
    "sc= StandardScaler()\n",
    "x_train = sc.fit_transform(x_train)\n",
    "x_test = sc.transform(x_test)"
   ]
  },
  {
   "cell_type": "markdown",
   "id": "bf638a4e-64c2-40fd-a608-9292b0aeedba",
   "metadata": {},
   "source": [
    "### Building Neural Network"
   ]
  },
  {
   "cell_type": "code",
   "execution_count": 13,
   "id": "6e3f7857",
   "metadata": {},
   "outputs": [
    {
     "data": {
      "text/plain": [
       "'2.13.0'"
      ]
     },
     "execution_count": 13,
     "metadata": {},
     "output_type": "execute_result"
    }
   ],
   "source": [
    "import tensorflow as tf\n",
    "\n",
    "tf.__version__"
   ]
  },
  {
   "cell_type": "code",
   "execution_count": 14,
   "id": "f37e6128",
   "metadata": {},
   "outputs": [],
   "source": [
    "# Initialize the ANN and add Input layer\n",
    "\n",
    "nn = tf.keras.Sequential()\n",
    "nn.add(tf.keras.layers.Input(shape=11))"
   ]
  },
  {
   "cell_type": "code",
   "execution_count": 15,
   "id": "768e5137",
   "metadata": {},
   "outputs": [],
   "source": [
    "# Adding Hidden Layers\n",
    "nn.add(tf.keras.layers.Dense(units=7,activation='relu',kernel_initializer='glorot_uniform'))\n",
    "nn.add(tf.keras.layers.Dense(units=5,activation='relu'))"
   ]
  },
  {
   "cell_type": "code",
   "execution_count": 16,
   "metadata": {},
   "outputs": [
    {
     "name": "stdout",
     "output_type": "stream",
     "text": [
      "Model: \"sequential\"\n",
      "_________________________________________________________________\n",
      " Layer (type)                Output Shape              Param #   \n",
      "=================================================================\n",
      " dense (Dense)               (None, 7)                 84        \n",
      "                                                                 \n",
      " dense_1 (Dense)             (None, 5)                 40        \n",
      "                                                                 \n",
      " dense_2 (Dense)             (None, 1)                 6         \n",
      "                                                                 \n",
      "=================================================================\n",
      "Total params: 130 (520.00 Byte)\n",
      "Trainable params: 130 (520.00 Byte)\n",
      "Non-trainable params: 0 (0.00 Byte)\n",
      "_________________________________________________________________\n"
     ]
    }
   ],
   "source": [
    "# Adding Output Layer\n",
    "nn.add(tf.keras.layers.Dense(units=1,activation='sigmoid'))\n",
    "nn.summary()"
   ]
  },
  {
   "cell_type": "code",
   "execution_count": 17,
   "id": "2d50c75d",
   "metadata": {},
   "outputs": [
    {
     "data": {
      "text/plain": [
       "[<keras.src.layers.core.dense.Dense at 0x16b1716c6d0>,\n",
       " <keras.src.layers.core.dense.Dense at 0x16b2034a710>,\n",
       " <keras.src.layers.core.dense.Dense at 0x16b2034ae90>]"
      ]
     },
     "execution_count": 17,
     "metadata": {},
     "output_type": "execute_result"
    }
   ],
   "source": [
    "# Comiling the Neural Network\n",
    "nn.compile(optimizer='adam',loss='binary_crossentropy',metrics=['accuracy'])\n",
    "nn.layers"
   ]
  },
  {
   "cell_type": "code",
   "execution_count": 18,
   "id": "9f841c1c",
   "metadata": {},
   "outputs": [
    {
     "name": "stdout",
     "output_type": "stream",
     "text": [
      "Epoch 1/50\n",
      "400/400 [==============================] - 3s 3ms/step - loss: 0.5477 - accuracy: 0.7960\n",
      "Epoch 2/50\n",
      "400/400 [==============================] - 1s 3ms/step - loss: 0.4602 - accuracy: 0.7960\n",
      "Epoch 3/50\n",
      "400/400 [==============================] - 1s 3ms/step - loss: 0.4376 - accuracy: 0.7960\n",
      "Epoch 4/50\n",
      "400/400 [==============================] - 1s 3ms/step - loss: 0.4278 - accuracy: 0.7960\n",
      "Epoch 5/50\n",
      "400/400 [==============================] - 1s 2ms/step - loss: 0.4223 - accuracy: 0.7985\n",
      "Epoch 6/50\n",
      "400/400 [==============================] - 1s 2ms/step - loss: 0.4184 - accuracy: 0.8119\n",
      "Epoch 7/50\n",
      "400/400 [==============================] - 1s 2ms/step - loss: 0.4153 - accuracy: 0.8183\n",
      "Epoch 8/50\n",
      "400/400 [==============================] - 1s 2ms/step - loss: 0.4124 - accuracy: 0.8220\n",
      "Epoch 9/50\n",
      "400/400 [==============================] - 1s 2ms/step - loss: 0.4097 - accuracy: 0.8244\n",
      "Epoch 10/50\n",
      "400/400 [==============================] - 1s 3ms/step - loss: 0.4071 - accuracy: 0.8274\n",
      "Epoch 11/50\n",
      "400/400 [==============================] - 1s 3ms/step - loss: 0.4048 - accuracy: 0.8288\n",
      "Epoch 12/50\n",
      "400/400 [==============================] - 1s 3ms/step - loss: 0.4028 - accuracy: 0.8281\n",
      "Epoch 13/50\n",
      "400/400 [==============================] - 1s 3ms/step - loss: 0.4006 - accuracy: 0.8321\n",
      "Epoch 14/50\n",
      "400/400 [==============================] - 1s 3ms/step - loss: 0.3985 - accuracy: 0.8319\n",
      "Epoch 15/50\n",
      "400/400 [==============================] - 1s 3ms/step - loss: 0.3964 - accuracy: 0.8340\n",
      "Epoch 16/50\n",
      "400/400 [==============================] - 1s 3ms/step - loss: 0.3946 - accuracy: 0.8335\n",
      "Epoch 17/50\n",
      "400/400 [==============================] - 1s 3ms/step - loss: 0.3928 - accuracy: 0.8336\n",
      "Epoch 18/50\n",
      "400/400 [==============================] - 1s 3ms/step - loss: 0.3908 - accuracy: 0.8342\n",
      "Epoch 19/50\n",
      "400/400 [==============================] - 1s 2ms/step - loss: 0.3890 - accuracy: 0.8349\n",
      "Epoch 20/50\n",
      "400/400 [==============================] - 1s 2ms/step - loss: 0.3871 - accuracy: 0.8364\n",
      "Epoch 21/50\n",
      "400/400 [==============================] - 1s 2ms/step - loss: 0.3853 - accuracy: 0.8386\n",
      "Epoch 22/50\n",
      "400/400 [==============================] - 1s 3ms/step - loss: 0.3830 - accuracy: 0.8395\n",
      "Epoch 23/50\n",
      "400/400 [==============================] - 1s 2ms/step - loss: 0.3806 - accuracy: 0.8438\n",
      "Epoch 24/50\n",
      "400/400 [==============================] - 1s 3ms/step - loss: 0.3782 - accuracy: 0.8451\n",
      "Epoch 25/50\n",
      "400/400 [==============================] - 1s 3ms/step - loss: 0.3756 - accuracy: 0.8495\n",
      "Epoch 26/50\n",
      "400/400 [==============================] - 1s 3ms/step - loss: 0.3733 - accuracy: 0.8485\n",
      "Epoch 27/50\n",
      "400/400 [==============================] - 1s 3ms/step - loss: 0.3705 - accuracy: 0.8491\n",
      "Epoch 28/50\n",
      "400/400 [==============================] - 1s 2ms/step - loss: 0.3691 - accuracy: 0.8504\n",
      "Epoch 29/50\n",
      "400/400 [==============================] - 1s 2ms/step - loss: 0.3672 - accuracy: 0.8499\n",
      "Epoch 30/50\n",
      "400/400 [==============================] - 1s 2ms/step - loss: 0.3656 - accuracy: 0.8515\n",
      "Epoch 31/50\n",
      "400/400 [==============================] - 1s 2ms/step - loss: 0.3636 - accuracy: 0.8535\n",
      "Epoch 32/50\n",
      "400/400 [==============================] - 1s 2ms/step - loss: 0.3624 - accuracy: 0.8514\n",
      "Epoch 33/50\n",
      "400/400 [==============================] - 1s 2ms/step - loss: 0.3609 - accuracy: 0.8519\n",
      "Epoch 34/50\n",
      "400/400 [==============================] - 1s 3ms/step - loss: 0.3599 - accuracy: 0.8543\n",
      "Epoch 35/50\n",
      "400/400 [==============================] - 1s 2ms/step - loss: 0.3583 - accuracy: 0.8535\n",
      "Epoch 36/50\n",
      "400/400 [==============================] - 1s 2ms/step - loss: 0.3577 - accuracy: 0.8545\n",
      "Epoch 37/50\n",
      "400/400 [==============================] - 1s 2ms/step - loss: 0.3564 - accuracy: 0.8556\n",
      "Epoch 38/50\n",
      "400/400 [==============================] - 1s 2ms/step - loss: 0.3558 - accuracy: 0.8553\n",
      "Epoch 39/50\n",
      "400/400 [==============================] - 1s 2ms/step - loss: 0.3548 - accuracy: 0.8562\n",
      "Epoch 40/50\n",
      "400/400 [==============================] - 1s 2ms/step - loss: 0.3545 - accuracy: 0.8559\n",
      "Epoch 41/50\n",
      "400/400 [==============================] - 1s 3ms/step - loss: 0.3537 - accuracy: 0.8562\n",
      "Epoch 42/50\n",
      "400/400 [==============================] - 1s 3ms/step - loss: 0.3535 - accuracy: 0.8569\n",
      "Epoch 43/50\n",
      "400/400 [==============================] - 1s 3ms/step - loss: 0.3530 - accuracy: 0.8559\n",
      "Epoch 44/50\n",
      "400/400 [==============================] - 2s 4ms/step - loss: 0.3527 - accuracy: 0.8565\n",
      "Epoch 45/50\n",
      "400/400 [==============================] - 1s 3ms/step - loss: 0.3522 - accuracy: 0.8561\n",
      "Epoch 46/50\n",
      "400/400 [==============================] - 2s 4ms/step - loss: 0.3523 - accuracy: 0.8560\n",
      "Epoch 47/50\n",
      "400/400 [==============================] - 1s 3ms/step - loss: 0.3510 - accuracy: 0.8580\n",
      "Epoch 48/50\n",
      "400/400 [==============================] - 1s 3ms/step - loss: 0.3514 - accuracy: 0.8566\n",
      "Epoch 49/50\n",
      "400/400 [==============================] - 1s 3ms/step - loss: 0.3511 - accuracy: 0.8590\n",
      "Epoch 50/50\n",
      "400/400 [==============================] - 2s 4ms/step - loss: 0.3505 - accuracy: 0.8594\n"
     ]
    },
    {
     "data": {
      "text/plain": [
       "<keras.src.callbacks.History at 0x16b202f7010>"
      ]
     },
     "execution_count": 18,
     "metadata": {},
     "output_type": "execute_result"
    }
   ],
   "source": [
    "# Fitting The model on Training set\n",
    "nn.fit(x_train,y_train,batch_size=20,epochs=50)"
   ]
  },
  {
   "cell_type": "markdown",
   "id": "c64242e7",
   "metadata": {},
   "source": [
    "### Predictions"
   ]
  },
  {
   "cell_type": "code",
   "execution_count": 19,
   "id": "ebe8bb03",
   "metadata": {},
   "outputs": [
    {
     "name": "stdout",
     "output_type": "stream",
     "text": [
      "63/63 [==============================] - 0s 2ms/step\n"
     ]
    },
    {
     "data": {
      "text/plain": [
       "array([[0.2734216 ],\n",
       "       [0.29790214],\n",
       "       [0.11919961],\n",
       "       ...,\n",
       "       [0.08184983],\n",
       "       [0.17980431],\n",
       "       [0.20416863]], dtype=float32)"
      ]
     },
     "execution_count": 19,
     "metadata": {},
     "output_type": "execute_result"
    }
   ],
   "source": [
    "y_pred = nn.predict(x_test)\n",
    "y_pred"
   ]
  },
  {
   "cell_type": "code",
   "execution_count": 20,
   "id": "58846dfd",
   "metadata": {},
   "outputs": [],
   "source": [
    "y_pred = (y_pred >0.5).astype(np.float32)"
   ]
  },
  {
   "cell_type": "code",
   "execution_count": 21,
   "id": "b701c184",
   "metadata": {},
   "outputs": [
    {
     "name": "stdout",
     "output_type": "stream",
     "text": [
      "0.858\n"
     ]
    }
   ],
   "source": [
    "from sklearn.metrics import accuracy_score\n",
    "print(accuracy_score( y_test, y_pred))"
   ]
  },
  {
   "cell_type": "code",
   "execution_count": 22,
   "id": "71c37c2e",
   "metadata": {},
   "outputs": [
    {
     "data": {
      "text/plain": [
       "array([[1507,   88],\n",
       "       [ 196,  209]], dtype=int64)"
      ]
     },
     "execution_count": 22,
     "metadata": {},
     "output_type": "execute_result"
    }
   ],
   "source": [
    "from sklearn.metrics import confusion_matrix\n",
    "cm = confusion_matrix(y_test,y_pred)\n",
    "cm"
   ]
  },
  {
   "cell_type": "markdown",
   "id": "f0f6c1c8",
   "metadata": {},
   "source": [
    "#### Single Prediction\n",
    "#### use model to predict the specific person with some details<br>\n",
    "    Geography: France\n",
    "    Credit Score: 600\n",
    "    Gender: Male\n",
    "    Age: 40 years old\n",
    "    Tenure: 3 years\n",
    "    Balance: $60000\n",
    "    Number of Products: 2\n",
    "    Does this customer have a credit card ? Yes\n",
    "    Is this customer an Active Member: Yes \n",
    "    Estimated Salary: $50000"
   ]
  },
  {
   "cell_type": "code",
   "execution_count": 23,
   "id": "fc7a448c",
   "metadata": {},
   "outputs": [
    {
     "data": {
      "text/plain": [
       "array([[    0,     0,     1,   700,    40,     3,     0,     2,     1,\n",
       "            1, 50000]])"
      ]
     },
     "execution_count": 23,
     "metadata": {},
     "output_type": "execute_result"
    }
   ],
   "source": [
    "'''\n",
    "France code  is 0,0 after encoding and removing dummy varibale\n",
    "'''\n",
    "obs=np.array([0,0,1,700,40,3,0,2,1,1,50000]).reshape(1,11)\n",
    "obs"
   ]
  },
  {
   "cell_type": "code",
   "execution_count": 24,
   "id": "b99d4145",
   "metadata": {},
   "outputs": [
    {
     "name": "stdout",
     "output_type": "stream",
     "text": [
      "1/1 [==============================] - 0s 56ms/step\n"
     ]
    },
    {
     "data": {
      "text/plain": [
       "array([[0.03047127]], dtype=float32)"
      ]
     },
     "execution_count": 24,
     "metadata": {},
     "output_type": "execute_result"
    }
   ],
   "source": [
    "new_pred = nn.predict(sc.transform(obs))\n",
    "new_pred"
   ]
  },
  {
   "cell_type": "code",
   "execution_count": null,
   "id": "e26ef531",
   "metadata": {},
   "outputs": [],
   "source": []
  },
  {
   "cell_type": "code",
   "execution_count": null,
   "id": "a02e5241",
   "metadata": {},
   "outputs": [],
   "source": []
  }
 ],
 "metadata": {
  "kernelspec": {
   "display_name": "dl",
   "language": "python",
   "name": "python3"
  },
  "language_info": {
   "codemirror_mode": {
    "name": "ipython",
    "version": 3
   },
   "file_extension": ".py",
   "mimetype": "text/x-python",
   "name": "python",
   "nbconvert_exporter": "python",
   "pygments_lexer": "ipython3",
   "version": "3.11.4"
  }
 },
 "nbformat": 4,
 "nbformat_minor": 5
}
