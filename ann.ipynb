{
 "cells": [
  {
   "attachments": {},
   "cell_type": "markdown",
   "id": "e1ea6249-67ee-4154-99fc-81842252df14",
   "metadata": {},
   "source": [
    "# Churn Modelling"
   ]
  },
  {
   "cell_type": "code",
   "execution_count": 1,
   "id": "006335b5-5988-4ed1-814c-38df1b0ea3ea",
   "metadata": {},
   "outputs": [],
   "source": [
    "#import libraries\n",
    "import pandas as pd\n",
    "import numpy as np\n",
    "import matplotlib.pyplot as plt\n",
    "\n",
    "#np.set_printoptions(threshold=np.inf)\n",
    "np.set_printoptions(threshold=1000)"
   ]
  },
  {
   "cell_type": "code",
   "execution_count": 2,
   "id": "f4aefd2a-a0c5-4906-ada7-b2df0f4e6dae",
   "metadata": {},
   "outputs": [
    {
     "data": {
      "text/html": [
       "<div>\n",
       "<style scoped>\n",
       "    .dataframe tbody tr th:only-of-type {\n",
       "        vertical-align: middle;\n",
       "    }\n",
       "\n",
       "    .dataframe tbody tr th {\n",
       "        vertical-align: top;\n",
       "    }\n",
       "\n",
       "    .dataframe thead th {\n",
       "        text-align: right;\n",
       "    }\n",
       "</style>\n",
       "<table border=\"1\" class=\"dataframe\">\n",
       "  <thead>\n",
       "    <tr style=\"text-align: right;\">\n",
       "      <th></th>\n",
       "      <th>RowNumber</th>\n",
       "      <th>CustomerId</th>\n",
       "      <th>Surname</th>\n",
       "      <th>CreditScore</th>\n",
       "      <th>Geography</th>\n",
       "      <th>Gender</th>\n",
       "      <th>Age</th>\n",
       "      <th>Tenure</th>\n",
       "      <th>Balance</th>\n",
       "      <th>NumOfProducts</th>\n",
       "      <th>HasCrCard</th>\n",
       "      <th>IsActiveMember</th>\n",
       "      <th>EstimatedSalary</th>\n",
       "      <th>Exited</th>\n",
       "    </tr>\n",
       "  </thead>\n",
       "  <tbody>\n",
       "    <tr>\n",
       "      <th>0</th>\n",
       "      <td>1</td>\n",
       "      <td>15634602</td>\n",
       "      <td>Hargrave</td>\n",
       "      <td>619</td>\n",
       "      <td>France</td>\n",
       "      <td>Female</td>\n",
       "      <td>42</td>\n",
       "      <td>2</td>\n",
       "      <td>0.00</td>\n",
       "      <td>1</td>\n",
       "      <td>1</td>\n",
       "      <td>1</td>\n",
       "      <td>101348.88</td>\n",
       "      <td>1</td>\n",
       "    </tr>\n",
       "    <tr>\n",
       "      <th>1</th>\n",
       "      <td>2</td>\n",
       "      <td>15647311</td>\n",
       "      <td>Hill</td>\n",
       "      <td>608</td>\n",
       "      <td>Spain</td>\n",
       "      <td>Female</td>\n",
       "      <td>41</td>\n",
       "      <td>1</td>\n",
       "      <td>83807.86</td>\n",
       "      <td>1</td>\n",
       "      <td>0</td>\n",
       "      <td>1</td>\n",
       "      <td>112542.58</td>\n",
       "      <td>0</td>\n",
       "    </tr>\n",
       "    <tr>\n",
       "      <th>2</th>\n",
       "      <td>3</td>\n",
       "      <td>15619304</td>\n",
       "      <td>Onio</td>\n",
       "      <td>502</td>\n",
       "      <td>France</td>\n",
       "      <td>Female</td>\n",
       "      <td>42</td>\n",
       "      <td>8</td>\n",
       "      <td>159660.80</td>\n",
       "      <td>3</td>\n",
       "      <td>1</td>\n",
       "      <td>0</td>\n",
       "      <td>113931.57</td>\n",
       "      <td>1</td>\n",
       "    </tr>\n",
       "    <tr>\n",
       "      <th>3</th>\n",
       "      <td>4</td>\n",
       "      <td>15701354</td>\n",
       "      <td>Boni</td>\n",
       "      <td>699</td>\n",
       "      <td>France</td>\n",
       "      <td>Female</td>\n",
       "      <td>39</td>\n",
       "      <td>1</td>\n",
       "      <td>0.00</td>\n",
       "      <td>2</td>\n",
       "      <td>0</td>\n",
       "      <td>0</td>\n",
       "      <td>93826.63</td>\n",
       "      <td>0</td>\n",
       "    </tr>\n",
       "    <tr>\n",
       "      <th>4</th>\n",
       "      <td>5</td>\n",
       "      <td>15737888</td>\n",
       "      <td>Mitchell</td>\n",
       "      <td>850</td>\n",
       "      <td>Spain</td>\n",
       "      <td>Female</td>\n",
       "      <td>43</td>\n",
       "      <td>2</td>\n",
       "      <td>125510.82</td>\n",
       "      <td>1</td>\n",
       "      <td>1</td>\n",
       "      <td>1</td>\n",
       "      <td>79084.10</td>\n",
       "      <td>0</td>\n",
       "    </tr>\n",
       "  </tbody>\n",
       "</table>\n",
       "</div>"
      ],
      "text/plain": [
       "   RowNumber  CustomerId   Surname  CreditScore Geography  Gender  Age  \\\n",
       "0          1    15634602  Hargrave          619    France  Female   42   \n",
       "1          2    15647311      Hill          608     Spain  Female   41   \n",
       "2          3    15619304      Onio          502    France  Female   42   \n",
       "3          4    15701354      Boni          699    France  Female   39   \n",
       "4          5    15737888  Mitchell          850     Spain  Female   43   \n",
       "\n",
       "   Tenure    Balance  NumOfProducts  HasCrCard  IsActiveMember  \\\n",
       "0       2       0.00              1          1               1   \n",
       "1       1   83807.86              1          0               1   \n",
       "2       8  159660.80              3          1               0   \n",
       "3       1       0.00              2          0               0   \n",
       "4       2  125510.82              1          1               1   \n",
       "\n",
       "   EstimatedSalary  Exited  \n",
       "0        101348.88       1  \n",
       "1        112542.58       0  \n",
       "2        113931.57       1  \n",
       "3         93826.63       0  \n",
       "4         79084.10       0  "
      ]
     },
     "execution_count": 2,
     "metadata": {},
     "output_type": "execute_result"
    }
   ],
   "source": [
    "df = pd.read_csv('Churn_Modelling.csv')\n",
    "df.head()"
   ]
  },
  {
   "cell_type": "code",
   "execution_count": 3,
   "id": "fadd5510-27af-424b-8591-4c321c7eb9df",
   "metadata": {},
   "outputs": [
    {
     "data": {
      "text/plain": [
       "RowNumber          0\n",
       "CustomerId         0\n",
       "Surname            0\n",
       "CreditScore        0\n",
       "Geography          0\n",
       "Gender             0\n",
       "Age                0\n",
       "Tenure             0\n",
       "Balance            0\n",
       "NumOfProducts      0\n",
       "HasCrCard          0\n",
       "IsActiveMember     0\n",
       "EstimatedSalary    0\n",
       "Exited             0\n",
       "dtype: int64"
      ]
     },
     "execution_count": 3,
     "metadata": {},
     "output_type": "execute_result"
    }
   ],
   "source": [
    "# Checking null Values\n",
    "df.isnull().sum()"
   ]
  },
  {
   "cell_type": "code",
   "execution_count": 4,
   "id": "990ce5fd-bbce-4a3d-8d07-cd5cc491b150",
   "metadata": {},
   "outputs": [
    {
     "name": "stdout",
     "output_type": "stream",
     "text": [
      "<class 'pandas.core.frame.DataFrame'>\n",
      "      CreditScore Geography  Gender  Age  Tenure    Balance  NumOfProducts  \\\n",
      "0             619    France  Female   42       2       0.00              1   \n",
      "1             608     Spain  Female   41       1   83807.86              1   \n",
      "2             502    France  Female   42       8  159660.80              3   \n",
      "3             699    France  Female   39       1       0.00              2   \n",
      "4             850     Spain  Female   43       2  125510.82              1   \n",
      "...           ...       ...     ...  ...     ...        ...            ...   \n",
      "9995          771    France    Male   39       5       0.00              2   \n",
      "9996          516    France    Male   35      10   57369.61              1   \n",
      "9997          709    France  Female   36       7       0.00              1   \n",
      "9998          772   Germany    Male   42       3   75075.31              2   \n",
      "9999          792    France  Female   28       4  130142.79              1   \n",
      "\n",
      "      HasCrCard  IsActiveMember  EstimatedSalary  \n",
      "0             1               1        101348.88  \n",
      "1             0               1        112542.58  \n",
      "2             1               0        113931.57  \n",
      "3             0               0         93826.63  \n",
      "4             1               1         79084.10  \n",
      "...         ...             ...              ...  \n",
      "9995          1               0         96270.64  \n",
      "9996          1               1        101699.77  \n",
      "9997          0               1         42085.58  \n",
      "9998          1               0         92888.52  \n",
      "9999          1               0         38190.78  \n",
      "\n",
      "[10000 rows x 10 columns]\n"
     ]
    }
   ],
   "source": [
    "x= df.iloc[:,3:-1]\n",
    "print(type(x))\n",
    "print(x)"
   ]
  },
  {
   "cell_type": "code",
   "execution_count": 5,
   "id": "9ed7b9ce-d3f3-4f80-b62d-f683f59342df",
   "metadata": {},
   "outputs": [
    {
     "name": "stdout",
     "output_type": "stream",
     "text": [
      "<class 'pandas.core.series.Series'>\n",
      "0       1\n",
      "1       0\n",
      "2       1\n",
      "3       0\n",
      "4       0\n",
      "       ..\n",
      "9995    0\n",
      "9996    0\n",
      "9997    1\n",
      "9998    1\n",
      "9999    0\n",
      "Name: Exited, Length: 10000, dtype: int64\n"
     ]
    }
   ],
   "source": [
    "y= df.iloc[:,-1]\n",
    "print(type(y))\n",
    "print(y)"
   ]
  },
  {
   "cell_type": "markdown",
   "id": "636fb324",
   "metadata": {},
   "source": [
    "### Class Distribution"
   ]
  },
  {
   "cell_type": "code",
   "execution_count": 6,
   "id": "ca8e6039",
   "metadata": {},
   "outputs": [
    {
     "name": "stdout",
     "output_type": "stream",
     "text": [
      "Labels- [0 1]\n",
      " Counts- [7963 2037]\n"
     ]
    },
    {
     "data": {
      "image/png": "[encoded data removed]",
      "text/plain": [
       "<Figure size 640x480 with 1 Axes>"
      ]
     },
     "metadata": {},
     "output_type": "display_data"
    }
   ],
   "source": [
    "unique_labels, counts = np.unique(y, return_counts=True)\n",
    "plt.bar (unique_labels , counts)\n",
    "plt.xlabel('Class label')\n",
    "plt.ylabel('Number of samples')\n",
    "plt.title('Class distribution in dataset')\n",
    "print(f\"Labels- {unique_labels}\\n Counts- {counts}\")\n",
    "plt.show()"
   ]
  },
  {
   "attachments": {},
   "cell_type": "markdown",
   "id": "183b3a72-a95f-4305-a22c-11b4e4f13237",
   "metadata": {},
   "source": [
    "### Encoding Categorical Data"
   ]
  },
  {
   "cell_type": "code",
   "execution_count": 7,
   "id": "9fb3c065-b068-49a6-af86-8102796dfcb8",
   "metadata": {},
   "outputs": [],
   "source": [
    "# import libraries\n",
    "from sklearn.compose import ColumnTransformer\n",
    "from sklearn.preprocessing import OneHotEncoder,OrdinalEncoder,LabelEncoder"
   ]
  },
  {
   "attachments": {},
   "cell_type": "markdown",
   "id": "43d9f46c-3e8e-4af2-bc4c-92c9c1243212",
   "metadata": {},
   "source": [
    "Geography and Gender are categoriacal values <br>\n",
    "Geography -> Label Encoder or Ordinal Encoder <br>\n",
    "Gender    -> One Hot Encoder <br>\n",
    "We can directy use Column transformer apply One Hot Encoder and Ordinal Encoder or we apply One Hot Encoder  and Label Encoder separtately"
   ]
  },
  {
   "cell_type": "code",
   "execution_count": 8,
   "id": "f5a03ca7",
   "metadata": {},
   "outputs": [],
   "source": [
    "x2=x"
   ]
  },
  {
   "cell_type": "code",
   "execution_count": 9,
   "id": "af43510b",
   "metadata": {},
   "outputs": [
    {
     "data": {
      "text/plain": [
       "array([[1.0000000e+00, 0.0000000e+00, 0.0000000e+00, ..., 1.0000000e+00,\n",
       "        1.0000000e+00, 1.0134888e+05],\n",
       "       [0.0000000e+00, 0.0000000e+00, 1.0000000e+00, ..., 0.0000000e+00,\n",
       "        1.0000000e+00, 1.1254258e+05],\n",
       "       [1.0000000e+00, 0.0000000e+00, 0.0000000e+00, ..., 1.0000000e+00,\n",
       "        0.0000000e+00, 1.1393157e+05],\n",
       "       ...,\n",
       "       [1.0000000e+00, 0.0000000e+00, 0.0000000e+00, ..., 0.0000000e+00,\n",
       "        1.0000000e+00, 4.2085580e+04],\n",
       "       [0.0000000e+00, 1.0000000e+00, 0.0000000e+00, ..., 1.0000000e+00,\n",
       "        0.0000000e+00, 9.2888520e+04],\n",
       "       [1.0000000e+00, 0.0000000e+00, 0.0000000e+00, ..., 1.0000000e+00,\n",
       "        0.0000000e+00, 3.8190780e+04]])"
      ]
     },
     "execution_count": 9,
     "metadata": {},
     "output_type": "execute_result"
    }
   ],
   "source": [
    "ct = ColumnTransformer(transformers=[('Country',OneHotEncoder(),[1]),('Gender',OrdinalEncoder(),[2])],remainder='passthrough')\n",
    "x= ct.fit_transform(x)\n",
    "x"
   ]
  },
  {
   "cell_type": "code",
   "execution_count": 10,
   "id": "23b1557a-8bd6-4572-aef5-35d0d260ea81",
   "metadata": {},
   "outputs": [
    {
     "data": {
      "text/plain": [
       "array([[1.0, 0.0, 0.0, ..., 1, 1, 101348.88],\n",
       "       [0.0, 0.0, 1.0, ..., 0, 1, 112542.58],\n",
       "       [1.0, 0.0, 0.0, ..., 1, 0, 113931.57],\n",
       "       ...,\n",
       "       [1.0, 0.0, 0.0, ..., 0, 1, 42085.58],\n",
       "       [0.0, 1.0, 0.0, ..., 1, 0, 92888.52],\n",
       "       [1.0, 0.0, 0.0, ..., 1, 0, 38190.78]], dtype=object)"
      ]
     },
     "execution_count": 10,
     "metadata": {},
     "output_type": "execute_result"
    }
   ],
   "source": [
    "#using Label Encoder\n",
    "le = LabelEncoder()\n",
    "x2.iloc[:,2] = le.fit_transform(x2.iloc[:,2])\n",
    "ct = ColumnTransformer(transformers=[('Country',OneHotEncoder(),[1])],remainder='passthrough')\n",
    "x2= ct.fit_transform(x2)\n",
    "x2"
   ]
  },
  {
   "attachments": {},
   "cell_type": "markdown",
   "id": "86c89fe2",
   "metadata": {},
   "source": [
    "\n",
    "OrdinalEncoder is for 2D data with the shape (n_samples, n_features)<br>\n",
    "LabelEncoder is for 1D data with the shape (n_samples,)<br><br>\n",
    "\n",
    "Oridnal Enoder - The features are converted to ordinal integers,single column of integers (0 to n_categories - 1) per feature.<br>\n",
    "Label Encoder - Encode target labels with value between 0 and n_classes-1."
   ]
  },
  {
   "cell_type": "code",
   "execution_count": 11,
   "id": "218b9943-5e8b-4d7c-b43c-58b858b90a03",
   "metadata": {},
   "outputs": [],
   "source": [
    "# Avoiding Dummy variable Trap\n",
    "x=x[:,1:]"
   ]
  },
  {
   "cell_type": "markdown",
   "id": "5df2d29c-dad0-4a9c-b23f-bf972834feaa",
   "metadata": {},
   "source": [
    "### Spliting The Datatset"
   ]
  },
  {
   "cell_type": "code",
   "execution_count": 12,
   "id": "89393744-593c-488d-befe-259db8831dda",
   "metadata": {},
   "outputs": [],
   "source": [
    "from sklearn.model_selection import train_test_split\n",
    "x_train, x_test , y_train, y_test = train_test_split(x,y,test_size=0.2,random_state=42)"
   ]
  },
  {
   "cell_type": "markdown",
   "id": "a3a20f07-d2ab-4a3e-a5e4-b15eec79ff38",
   "metadata": {},
   "source": [
    "### Feature Scaling\n"
   ]
  },
  {
   "cell_type": "code",
   "execution_count": 13,
   "id": "4b79dbf1",
   "metadata": {},
   "outputs": [],
   "source": [
    "from sklearn.preprocessing import StandardScaler\n",
    "sc= StandardScaler()\n",
    "x_train = sc.fit_transform(x_train)\n",
    "x_test = sc.transform(x_test)"
   ]
  },
  {
   "cell_type": "markdown",
   "id": "bf638a4e-64c2-40fd-a608-9292b0aeedba",
   "metadata": {},
   "source": [
    "### Building Neural Network"
   ]
  },
  {
   "cell_type": "code",
   "execution_count": 14,
   "id": "6e3f7857",
   "metadata": {},
   "outputs": [
    {
     "data": {
      "text/plain": [
       "'2.13.0'"
      ]
     },
     "execution_count": 14,
     "metadata": {},
     "output_type": "execute_result"
    }
   ],
   "source": [
    "import tensorflow as tf\n",
    "\n",
    "tf.__version__"
   ]
  },
  {
   "cell_type": "code",
   "execution_count": 15,
   "id": "f37e6128",
   "metadata": {},
   "outputs": [],
   "source": [
    "# Initialize the ANN and add Input layer\n",
    "\n",
    "nn = tf.keras.Sequential()\n",
    "nn.add(tf.keras.layers.Input(shape=11))"
   ]
  },
  {
   "cell_type": "code",
   "execution_count": 16,
   "id": "768e5137",
   "metadata": {},
   "outputs": [],
   "source": [
    "# Adding Hidden Layers\n",
    "nn.add(tf.keras.layers.Dense(units=7,activation='relu',kernel_initializer='glorot_uniform'))\n",
    "# Dropout regularization\n",
    "nn.add(tf.keras.layers.Dropout(rate=0.1))\n",
    "nn.add(tf.keras.layers.Dense(units=5,activation='relu'))\n",
    "nn.add(tf.keras.layers.Dropout(rate=0.1))"
   ]
  },
  {
   "cell_type": "code",
   "execution_count": 17,
   "id": "7324efeb",
   "metadata": {},
   "outputs": [
    {
     "name": "stdout",
     "output_type": "stream",
     "text": [
      "Model: \"sequential\"\n",
      "_________________________________________________________________\n",
      " Layer (type)                Output Shape              Param #   \n",
      "=================================================================\n",
      " dense (Dense)               (None, 7)                 84        \n",
      "                                                                 \n",
      " dropout (Dropout)           (None, 7)                 0         \n",
      "                                                                 \n",
      " dense_1 (Dense)             (None, 5)                 40        \n",
      "                                                                 \n",
      " dropout_1 (Dropout)         (None, 5)                 0         \n",
      "                                                                 \n",
      " dense_2 (Dense)             (None, 1)                 6         \n",
      "                                                                 \n",
      "=================================================================\n",
      "Total params: 130 (520.00 Byte)\n",
      "Trainable params: 130 (520.00 Byte)\n",
      "Non-trainable params: 0 (0.00 Byte)\n",
      "_________________________________________________________________\n"
     ]
    }
   ],
   "source": [
    "# Adding Output Layer\n",
    "nn.add(tf.keras.layers.Dense(units=1,activation='sigmoid'))\n",
    "nn.summary()"
   ]
  },
  {
   "cell_type": "code",
   "execution_count": 18,
   "id": "2d50c75d",
   "metadata": {},
   "outputs": [
    {
     "data": {
      "text/plain": [
       "[<keras.src.layers.core.dense.Dense at 0x15616199ad0>,\n",
       " <keras.src.layers.regularization.dropout.Dropout at 0x1561261ee10>,\n",
       " <keras.src.layers.core.dense.Dense at 0x15611865090>,\n",
       " <keras.src.layers.regularization.dropout.Dropout at 0x156161dad50>,\n",
       " <keras.src.layers.core.dense.Dense at 0x1560bb79410>]"
      ]
     },
     "execution_count": 18,
     "metadata": {},
     "output_type": "execute_result"
    }
   ],
   "source": [
    "# Comiling the Neural Network\n",
    "nn.compile(optimizer='adam',loss='binary_crossentropy',metrics=['accuracy'])\n",
    "nn.layers"
   ]
  },
  {
   "cell_type": "code",
   "execution_count": 19,
   "id": "9f841c1c",
   "metadata": {},
   "outputs": [
    {
     "name": "stdout",
     "output_type": "stream",
     "text": [
      "Epoch 1/50\n",
      "360/360 [==============================] - 2s 3ms/step - loss: 0.6333 - accuracy: 0.6794 - val_loss: 0.4797 - val_accuracy: 0.8125\n",
      "Epoch 2/50\n",
      "360/360 [==============================] - 1s 2ms/step - loss: 0.4859 - accuracy: 0.7946 - val_loss: 0.4227 - val_accuracy: 0.8188\n",
      "Epoch 3/50\n",
      "360/360 [==============================] - 1s 2ms/step - loss: 0.4541 - accuracy: 0.7993 - val_loss: 0.4021 - val_accuracy: 0.8175\n",
      "Epoch 4/50\n",
      "360/360 [==============================] - 1s 2ms/step - loss: 0.4359 - accuracy: 0.8047 - val_loss: 0.3918 - val_accuracy: 0.8200\n",
      "Epoch 5/50\n",
      "360/360 [==============================] - 1s 2ms/step - loss: 0.4265 - accuracy: 0.8075 - val_loss: 0.3847 - val_accuracy: 0.8213\n",
      "Epoch 6/50\n",
      "360/360 [==============================] - 1s 2ms/step - loss: 0.4157 - accuracy: 0.8094 - val_loss: 0.3774 - val_accuracy: 0.8200\n",
      "Epoch 7/50\n",
      "360/360 [==============================] - 1s 2ms/step - loss: 0.4149 - accuracy: 0.8081 - val_loss: 0.3740 - val_accuracy: 0.8200\n",
      "Epoch 8/50\n",
      "360/360 [==============================] - 1s 2ms/step - loss: 0.4143 - accuracy: 0.8121 - val_loss: 0.3706 - val_accuracy: 0.8213\n",
      "Epoch 9/50\n",
      "360/360 [==============================] - 1s 2ms/step - loss: 0.4057 - accuracy: 0.8146 - val_loss: 0.3660 - val_accuracy: 0.8225\n",
      "Epoch 10/50\n",
      "360/360 [==============================] - 1s 2ms/step - loss: 0.4041 - accuracy: 0.8143 - val_loss: 0.3620 - val_accuracy: 0.8263\n",
      "Epoch 11/50\n",
      "360/360 [==============================] - 1s 2ms/step - loss: 0.3968 - accuracy: 0.8168 - val_loss: 0.3583 - val_accuracy: 0.8250\n",
      "Epoch 12/50\n",
      "360/360 [==============================] - 1s 2ms/step - loss: 0.3934 - accuracy: 0.8153 - val_loss: 0.3578 - val_accuracy: 0.8275\n",
      "Epoch 13/50\n",
      "360/360 [==============================] - 1s 2ms/step - loss: 0.3921 - accuracy: 0.8171 - val_loss: 0.3546 - val_accuracy: 0.8300\n",
      "Epoch 14/50\n",
      "360/360 [==============================] - 1s 2ms/step - loss: 0.3896 - accuracy: 0.8175 - val_loss: 0.3534 - val_accuracy: 0.8288\n",
      "Epoch 15/50\n",
      "360/360 [==============================] - 1s 2ms/step - loss: 0.3898 - accuracy: 0.8154 - val_loss: 0.3506 - val_accuracy: 0.8288\n",
      "Epoch 16/50\n",
      "360/360 [==============================] - 1s 2ms/step - loss: 0.3872 - accuracy: 0.8185 - val_loss: 0.3493 - val_accuracy: 0.8300\n",
      "Epoch 17/50\n",
      "360/360 [==============================] - 1s 2ms/step - loss: 0.3871 - accuracy: 0.8382 - val_loss: 0.3490 - val_accuracy: 0.8612\n",
      "Epoch 18/50\n",
      "360/360 [==============================] - 1s 2ms/step - loss: 0.3831 - accuracy: 0.8453 - val_loss: 0.3482 - val_accuracy: 0.8612\n",
      "Epoch 19/50\n",
      "360/360 [==============================] - 1s 2ms/step - loss: 0.3867 - accuracy: 0.8382 - val_loss: 0.3472 - val_accuracy: 0.8675\n",
      "Epoch 20/50\n",
      "360/360 [==============================] - 1s 2ms/step - loss: 0.3857 - accuracy: 0.8425 - val_loss: 0.3464 - val_accuracy: 0.8637\n",
      "Epoch 21/50\n",
      "360/360 [==============================] - 1s 2ms/step - loss: 0.3801 - accuracy: 0.8446 - val_loss: 0.3443 - val_accuracy: 0.8637\n",
      "Epoch 22/50\n",
      "360/360 [==============================] - 1s 2ms/step - loss: 0.3820 - accuracy: 0.8438 - val_loss: 0.3447 - val_accuracy: 0.8662\n",
      "Epoch 23/50\n",
      "360/360 [==============================] - 1s 2ms/step - loss: 0.3786 - accuracy: 0.8443 - val_loss: 0.3441 - val_accuracy: 0.8637\n",
      "Epoch 24/50\n",
      "360/360 [==============================] - 1s 2ms/step - loss: 0.3814 - accuracy: 0.8436 - val_loss: 0.3443 - val_accuracy: 0.8637\n",
      "Epoch 25/50\n",
      "360/360 [==============================] - 1s 2ms/step - loss: 0.3755 - accuracy: 0.8464 - val_loss: 0.3439 - val_accuracy: 0.8650\n",
      "Epoch 26/50\n",
      "360/360 [==============================] - 1s 2ms/step - loss: 0.3796 - accuracy: 0.8422 - val_loss: 0.3430 - val_accuracy: 0.8650\n",
      "Epoch 27/50\n",
      "360/360 [==============================] - 1s 2ms/step - loss: 0.3760 - accuracy: 0.8481 - val_loss: 0.3421 - val_accuracy: 0.8650\n",
      "Epoch 28/50\n",
      "360/360 [==============================] - 1s 2ms/step - loss: 0.3785 - accuracy: 0.8429 - val_loss: 0.3411 - val_accuracy: 0.8675\n",
      "Epoch 29/50\n",
      "360/360 [==============================] - 1s 2ms/step - loss: 0.3744 - accuracy: 0.8439 - val_loss: 0.3389 - val_accuracy: 0.8637\n",
      "Epoch 30/50\n",
      "360/360 [==============================] - 1s 2ms/step - loss: 0.3746 - accuracy: 0.8446 - val_loss: 0.3360 - val_accuracy: 0.8687\n",
      "Epoch 31/50\n",
      "360/360 [==============================] - 1s 2ms/step - loss: 0.3741 - accuracy: 0.8439 - val_loss: 0.3359 - val_accuracy: 0.8637\n",
      "Epoch 32/50\n",
      "360/360 [==============================] - 1s 2ms/step - loss: 0.3700 - accuracy: 0.8501 - val_loss: 0.3341 - val_accuracy: 0.8650\n",
      "Epoch 33/50\n",
      "360/360 [==============================] - 1s 2ms/step - loss: 0.3690 - accuracy: 0.8446 - val_loss: 0.3339 - val_accuracy: 0.8662\n",
      "Epoch 34/50\n",
      "360/360 [==============================] - 1s 2ms/step - loss: 0.3649 - accuracy: 0.8500 - val_loss: 0.3330 - val_accuracy: 0.8650\n",
      "Epoch 35/50\n",
      "360/360 [==============================] - 1s 2ms/step - loss: 0.3654 - accuracy: 0.8487 - val_loss: 0.3334 - val_accuracy: 0.8675\n",
      "Epoch 36/50\n",
      "360/360 [==============================] - 1s 2ms/step - loss: 0.3691 - accuracy: 0.8481 - val_loss: 0.3326 - val_accuracy: 0.8662\n",
      "Epoch 37/50\n",
      "360/360 [==============================] - 1s 2ms/step - loss: 0.3690 - accuracy: 0.8472 - val_loss: 0.3333 - val_accuracy: 0.8637\n",
      "Epoch 38/50\n",
      "360/360 [==============================] - 1s 2ms/step - loss: 0.3720 - accuracy: 0.8468 - val_loss: 0.3338 - val_accuracy: 0.8650\n",
      "Epoch 39/50\n",
      "360/360 [==============================] - 1s 2ms/step - loss: 0.3692 - accuracy: 0.8478 - val_loss: 0.3320 - val_accuracy: 0.8650\n",
      "Epoch 40/50\n",
      "360/360 [==============================] - 1s 2ms/step - loss: 0.3668 - accuracy: 0.8468 - val_loss: 0.3327 - val_accuracy: 0.8612\n",
      "Epoch 41/50\n",
      "360/360 [==============================] - 1s 2ms/step - loss: 0.3679 - accuracy: 0.8433 - val_loss: 0.3332 - val_accuracy: 0.8625\n",
      "Epoch 42/50\n",
      "360/360 [==============================] - 1s 2ms/step - loss: 0.3631 - accuracy: 0.8460 - val_loss: 0.3345 - val_accuracy: 0.8625\n",
      "Epoch 43/50\n",
      "360/360 [==============================] - 1s 2ms/step - loss: 0.3639 - accuracy: 0.8472 - val_loss: 0.3338 - val_accuracy: 0.8637\n",
      "Epoch 44/50\n",
      "360/360 [==============================] - 1s 2ms/step - loss: 0.3652 - accuracy: 0.8483 - val_loss: 0.3340 - val_accuracy: 0.8562\n",
      "Epoch 45/50\n",
      "360/360 [==============================] - 1s 2ms/step - loss: 0.3629 - accuracy: 0.8465 - val_loss: 0.3347 - val_accuracy: 0.8612\n",
      "Epoch 46/50\n",
      "360/360 [==============================] - 1s 2ms/step - loss: 0.3667 - accuracy: 0.8476 - val_loss: 0.3335 - val_accuracy: 0.8612\n"
     ]
    },
    {
     "data": {
      "text/plain": [
       "<keras.src.callbacks.History at 0x1561617e6d0>"
      ]
     },
     "execution_count": 19,
     "metadata": {},
     "output_type": "execute_result"
    }
   ],
   "source": [
    "es=tf.keras.callbacks.EarlyStopping(monitor='val_loss',patience=7,restore_best_weights=True)\n",
    "# Fitting The model on Training set\n",
    "nn.fit(x_train,y_train,batch_size=20,epochs=50,callbacks=es,validation_split=0.1)"
   ]
  },
  {
   "cell_type": "markdown",
   "id": "b0b2535d",
   "metadata": {},
   "source": [
    "### Evaluating The Neural Network"
   ]
  },
  {
   "cell_type": "code",
   "execution_count": 20,
   "id": "21ce2c73",
   "metadata": {},
   "outputs": [
    {
     "data": {
      "text/html": [
       "<div>\n",
       "<style scoped>\n",
       "    .dataframe tbody tr th:only-of-type {\n",
       "        vertical-align: middle;\n",
       "    }\n",
       "\n",
       "    .dataframe tbody tr th {\n",
       "        vertical-align: top;\n",
       "    }\n",
       "\n",
       "    .dataframe thead th {\n",
       "        text-align: right;\n",
       "    }\n",
       "</style>\n",
       "<table border=\"1\" class=\"dataframe\">\n",
       "  <thead>\n",
       "    <tr style=\"text-align: right;\">\n",
       "      <th></th>\n",
       "      <th>loss</th>\n",
       "      <th>accuracy</th>\n",
       "      <th>val_loss</th>\n",
       "      <th>val_accuracy</th>\n",
       "    </tr>\n",
       "  </thead>\n",
       "  <tbody>\n",
       "    <tr>\n",
       "      <th>0</th>\n",
       "      <td>0.633317</td>\n",
       "      <td>0.679444</td>\n",
       "      <td>0.479700</td>\n",
       "      <td>0.81250</td>\n",
       "    </tr>\n",
       "    <tr>\n",
       "      <th>1</th>\n",
       "      <td>0.485888</td>\n",
       "      <td>0.794583</td>\n",
       "      <td>0.422677</td>\n",
       "      <td>0.81875</td>\n",
       "    </tr>\n",
       "    <tr>\n",
       "      <th>2</th>\n",
       "      <td>0.454128</td>\n",
       "      <td>0.799306</td>\n",
       "      <td>0.402068</td>\n",
       "      <td>0.81750</td>\n",
       "    </tr>\n",
       "    <tr>\n",
       "      <th>3</th>\n",
       "      <td>0.435857</td>\n",
       "      <td>0.804722</td>\n",
       "      <td>0.391839</td>\n",
       "      <td>0.82000</td>\n",
       "    </tr>\n",
       "    <tr>\n",
       "      <th>4</th>\n",
       "      <td>0.426528</td>\n",
       "      <td>0.807500</td>\n",
       "      <td>0.384653</td>\n",
       "      <td>0.82125</td>\n",
       "    </tr>\n",
       "  </tbody>\n",
       "</table>\n",
       "</div>"
      ],
      "text/plain": [
       "       loss  accuracy  val_loss  val_accuracy\n",
       "0  0.633317  0.679444  0.479700       0.81250\n",
       "1  0.485888  0.794583  0.422677       0.81875\n",
       "2  0.454128  0.799306  0.402068       0.81750\n",
       "3  0.435857  0.804722  0.391839       0.82000\n",
       "4  0.426528  0.807500  0.384653       0.82125"
      ]
     },
     "execution_count": 20,
     "metadata": {},
     "output_type": "execute_result"
    }
   ],
   "source": [
    "nn_eval=pd.DataFrame(nn.history.history)\n",
    "nn_eval.head()"
   ]
  },
  {
   "cell_type": "code",
   "execution_count": 21,
   "id": "3e7c30d4",
   "metadata": {},
   "outputs": [
    {
     "name": "stdout",
     "output_type": "stream",
     "text": [
      "63/63 [==============================] - 0s 1ms/step - loss: 0.3348 - accuracy: 0.8600\n"
     ]
    },
    {
     "data": {
      "text/plain": [
       "[0.33478406071662903, 0.8600000143051147]"
      ]
     },
     "execution_count": 21,
     "metadata": {},
     "output_type": "execute_result"
    }
   ],
   "source": [
    "# Evaluating nn on Test Set\n",
    "nn.evaluate(x_test,y_test)"
   ]
  },
  {
   "cell_type": "code",
   "execution_count": 22,
   "id": "88a30c9b",
   "metadata": {},
   "outputs": [
    {
     "name": "stdout",
     "output_type": "stream",
     "text": [
      "250/250 [==============================] - 0s 2ms/step - loss: 0.3386 - accuracy: 0.8622\n"
     ]
    },
    {
     "data": {
      "text/plain": [
       "[0.3385572135448456, 0.8622499704360962]"
      ]
     },
     "execution_count": 22,
     "metadata": {},
     "output_type": "execute_result"
    }
   ],
   "source": [
    "# Evaluating nn on Training set\n",
    "nn.evaluate(x_train,y_train)"
   ]
  },
  {
   "cell_type": "code",
   "execution_count": 23,
   "id": "5ed03dbc",
   "metadata": {},
   "outputs": [],
   "source": [
    "loss = nn_eval['loss']\n",
    "val_loss = nn_eval['val_loss']\n",
    "acc = nn_eval['accuracy']\n",
    "val_acc = nn_eval['val_accuracy']\n",
    "epochs=range(1,len(loss)+1)"
   ]
  },
  {
   "cell_type": "code",
   "execution_count": 24,
   "id": "5aa1084a",
   "metadata": {},
   "outputs": [
    {
     "data": {
      "image/png": "[encoded data removed]",
      "text/plain": [
       "<Figure size 640x480 with 1 Axes>"
      ]
     },
     "metadata": {},
     "output_type": "display_data"
    }
   ],
   "source": [
    "plt.plot(epochs,loss,'r',label=\"Training Loss\")\n",
    "plt.plot(epochs,val_loss,'b',label=\"Validation loss\")\n",
    "plt.title(\"Training and validation loss\")\n",
    "plt.xlabel('Epochs')\n",
    "plt.ylabel('loss')\n",
    "plt.legend()\n",
    "plt.show()"
   ]
  },
  {
   "cell_type": "code",
   "execution_count": 25,
   "id": "c529c757",
   "metadata": {},
   "outputs": [
    {
     "data": {
      "image/png": "[encoded data removed]",
      "text/plain": [
       "<Figure size 640x480 with 1 Axes>"
      ]
     },
     "metadata": {},
     "output_type": "display_data"
    }
   ],
   "source": [
    "plt.plot(epochs,acc,'r',label=\"Training Accuracy\")\n",
    "plt.plot(epochs,val_acc,'b',label=\"Validation Accuracy\")\n",
    "plt.title(\"Training and validation Accuracy\")\n",
    "plt.xlabel('Epochs')\n",
    "plt.ylabel('Accuracy')\n",
    "plt.legend()\n",
    "plt.show()"
   ]
  },
  {
   "cell_type": "markdown",
   "id": "c64242e7",
   "metadata": {},
   "source": [
    "### Predictions"
   ]
  },
  {
   "cell_type": "code",
   "execution_count": 26,
   "id": "ebe8bb03",
   "metadata": {},
   "outputs": [
    {
     "name": "stdout",
     "output_type": "stream",
     "text": [
      "63/63 [==============================] - 0s 1ms/step\n"
     ]
    },
    {
     "data": {
      "text/plain": [
       "array([[0.06887294],\n",
       "       [0.02839906],\n",
       "       [0.15916489],\n",
       "       ...,\n",
       "       [0.64305174],\n",
       "       [0.1493965 ],\n",
       "       [0.31120205]], dtype=float32)"
      ]
     },
     "execution_count": 26,
     "metadata": {},
     "output_type": "execute_result"
    }
   ],
   "source": [
    "y_score= nn.predict(x_test)\n",
    "y_score"
   ]
  },
  {
   "cell_type": "markdown",
   "id": "0ba6c868",
   "metadata": {},
   "source": [
    "## ROC Curve"
   ]
  },
  {
   "cell_type": "code",
   "execution_count": 27,
   "id": "6bcc818b",
   "metadata": {},
   "outputs": [
    {
     "data": {
      "text/plain": [
       "<sklearn.metrics._plot.roc_curve.RocCurveDisplay at 0x156164bf150>"
      ]
     },
     "execution_count": 27,
     "metadata": {},
     "output_type": "execute_result"
    },
    {
     "data": {
      "image/png": "[encoded data removed]",
      "text/plain": [
       "<Figure size 640x480 with 1 Axes>"
      ]
     },
     "metadata": {},
     "output_type": "display_data"
    }
   ],
   "source": [
    "from sklearn.metrics import roc_curve,RocCurveDisplay\n",
    "RocCurveDisplay.from_predictions(y_true=y_test,y_pred=y_score)"
   ]
  },
  {
   "cell_type": "code",
   "execution_count": 28,
   "id": "96110de3",
   "metadata": {},
   "outputs": [
    {
     "name": "stdout",
     "output_type": "stream",
     "text": [
      "AUC -> 0.8634369987538616\n"
     ]
    }
   ],
   "source": [
    "from sklearn.metrics import roc_curve,roc_auc_score\n",
    "fpr,tpr,thresholds = roc_curve(y_true=y_test,y_score=y_score)\n",
    "nn_auc_score = roc_auc_score(y_true=y_test,y_score=y_score)\n",
    "print(f'AUC -> {nn_auc_score}')"
   ]
  },
  {
   "cell_type": "markdown",
   "id": "1ce4de27",
   "metadata": {},
   "source": [
    "### Youden's J Statistic for Threshold Determination\n",
    "J = Sensitivity + Specificity – 1\n",
    "\n",
    "J = Sensitivity + (1 – FalsePositiveRate) – 1\n",
    "\n",
    "J = TruePositiveRate – FalsePositiveRate\n",
    "\n",
    "Goal is to get - > Maximum TPR and Minimum FPR"
   ]
  },
  {
   "cell_type": "code",
   "execution_count": 29,
   "id": "f7e930e2",
   "metadata": {},
   "outputs": [
    {
     "name": "stdout",
     "output_type": "stream",
     "text": [
      " thrshold is 0.22141700983047485 and fpr is 0.18481642812694463 and tpr is 0.7760814249363868\n"
     ]
    }
   ],
   "source": [
    "idx = np.argmax(tpr - fpr) \n",
    "print(f\" thrshold is {thresholds[idx]} and fpr is {fpr[idx]} and tpr is {tpr[idx]}\")"
   ]
  },
  {
   "cell_type": "code",
   "execution_count": 30,
   "id": "a7a06942",
   "metadata": {},
   "outputs": [
    {
     "data": {
      "image/png": "[encoded data removed]",
      "text/plain": [
       "<Figure size 640x480 with 1 Axes>"
      ]
     },
     "metadata": {},
     "output_type": "display_data"
    }
   ],
   "source": [
    "plt.plot([0,1], [0,1], linestyle='--', label='No Skill')\n",
    "plt.plot(fpr, tpr, label='Neural Network')\n",
    "plt.scatter(fpr[idx], tpr[idx], marker='o', color='black', label='optimal')\n",
    "# axis labels\n",
    "plt.xlabel('False Positive Rate')\n",
    "plt.ylabel('True Positive Rate')\n",
    "plt.legend()\n",
    "# show the plot\n",
    "plt.show()"
   ]
  },
  {
   "cell_type": "markdown",
   "id": "116fd5cb",
   "metadata": {},
   "source": [
    "## Accuracy"
   ]
  },
  {
   "cell_type": "code",
   "execution_count": 31,
   "id": "653de095",
   "metadata": {},
   "outputs": [
    {
     "name": "stdout",
     "output_type": "stream",
     "text": [
      "[0.8035, 0.8035, 0.818, 0.818, 0.8215, 0.822, 0.824, 0.8245, 0.8335, 0.834, 0.8365, 0.8365, 0.836, 0.8365, 0.8375, 0.838, 0.8475, 0.848, 0.851, 0.851, 0.8525, 0.853, 0.853, 0.853, 0.853, 0.8535, 0.8555, 0.8555, 0.8565, 0.857, 0.857, 0.857, 0.8575, 0.858, 0.8575, 0.858, 0.858, 0.8585, 0.858, 0.8585, 0.8585, 0.859, 0.86, 0.859, 0.8585, 0.859, 0.859, 0.859, 0.8585, 0.8585, 0.8595, 0.86, 0.8595, 0.86, 0.8595, 0.8595, 0.8595, 0.8595, 0.86, 0.8605, 0.8615, 0.8595, 0.86, 0.86, 0.8595, 0.8595, 0.859, 0.859, 0.8605, 0.86, 0.861, 0.861, 0.861, 0.8605, 0.8615, 0.862, 0.862, 0.8625, 0.8625, 0.863, 0.8625, 0.863, 0.8625, 0.863, 0.8625, 0.863, 0.8625, 0.862, 0.862, 0.862, 0.8625, 0.863, 0.8625, 0.8615, 0.8615, 0.862, 0.8615, 0.8615, 0.861, 0.861, 0.861, 0.8615, 0.861, 0.861, 0.8615, 0.862, 0.8625, 0.863, 0.863, 0.862, 0.8615, 0.8615, 0.861, 0.861, 0.8625, 0.863, 0.8625, 0.8625, 0.862, 0.8625, 0.862, 0.862, 0.8625, 0.8615, 0.861, 0.86, 0.86, 0.8605, 0.86, 0.8605, 0.86, 0.8595, 0.86, 0.86, 0.86, 0.858, 0.8575, 0.8565, 0.856, 0.8565, 0.856, 0.8545, 0.854, 0.854, 0.8535, 0.854, 0.8535, 0.8535, 0.8535, 0.8535, 0.853, 0.8535, 0.853, 0.8535, 0.853, 0.8525, 0.852, 0.852, 0.8515, 0.8475, 0.8475, 0.8465, 0.846, 0.846, 0.8455, 0.846, 0.8465, 0.847, 0.8465, 0.8455, 0.845, 0.845, 0.8445, 0.8445, 0.8445, 0.845, 0.8445, 0.8445, 0.844, 0.843, 0.8435, 0.843, 0.8425, 0.8425, 0.8425, 0.841, 0.841, 0.8405, 0.8415, 0.8395, 0.839, 0.8395, 0.839, 0.839, 0.8385, 0.839, 0.8385, 0.837, 0.8365, 0.836, 0.8355, 0.836, 0.8355, 0.833, 0.8325, 0.831, 0.8305, 0.829, 0.8285, 0.824, 0.8235, 0.822, 0.822, 0.8205, 0.82, 0.8145, 0.814, 0.8145, 0.814, 0.8135, 0.813, 0.813, 0.8125, 0.813, 0.8125, 0.813, 0.813, 0.8125, 0.812, 0.81, 0.8095, 0.8095, 0.809, 0.8085, 0.808, 0.8065, 0.806, 0.8065, 0.806, 0.8065, 0.8065, 0.807, 0.807, 0.802, 0.8015, 0.796, 0.7955, 0.7955, 0.795, 0.794, 0.7935, 0.794, 0.7935, 0.7925, 0.792, 0.7905, 0.79, 0.7865, 0.786, 0.786, 0.786, 0.7805, 0.78, 0.7785, 0.778, 0.776, 0.7755, 0.7755, 0.775, 0.7755, 0.775, 0.7725, 0.7725, 0.767, 0.7665, 0.7665, 0.766, 0.7585, 0.758, 0.7485, 0.748, 0.739, 0.7385, 0.7305, 0.73, 0.7305, 0.73, 0.716, 0.7155, 0.707, 0.7065, 0.705, 0.7045, 0.703, 0.7025, 0.6935, 0.6945, 0.684, 0.6835, 0.681, 0.6805, 0.679, 0.6785, 0.678, 0.6775, 0.6715, 0.671, 0.67, 0.6695, 0.6685, 0.6685, 0.668, 0.668, 0.6645, 0.664, 0.6555, 0.6555, 0.652, 0.6515, 0.6405, 0.64, 0.6265, 0.626, 0.6245, 0.624, 0.624, 0.6235, 0.624, 0.6235, 0.618, 0.6175, 0.6165, 0.616, 0.6055, 0.605, 0.599, 0.5985, 0.5935, 0.593, 0.59, 0.5895, 0.564, 0.5635, 0.564, 0.5635, 0.5585, 0.558, 0.5545, 0.554, 0.5505, 0.55, 0.541, 0.5405, 0.538, 0.5375, 0.536, 0.5355, 0.535, 0.5345, 0.5335, 0.533, 0.5225, 0.522, 0.5165, 0.516, 0.5025, 0.502, 0.4945, 0.494, 0.464, 0.464, 0.4615, 0.461, 0.4515, 0.451, 0.446, 0.4455, 0.4455, 0.445, 0.4445, 0.444, 0.438, 0.4375, 0.411, 0.4105, 0.405, 0.4045, 0.3995, 0.399, 0.3855, 0.385, 0.356, 0.3555, 0.3465, 0.346, 0.3235, 0.323, 0.3125, 0.312, 0.2475, 0.247, 0.225, 0.2245, 0.197]\n"
     ]
    }
   ],
   "source": [
    "from sklearn.metrics import accuracy_score\n",
    "\n",
    "accuracies =[]\n",
    "for i in thresholds:\n",
    "    y_z =( y_score>i).astype(int)\n",
    "    accuracies.append(accuracy_score(y_test,y_z))\n",
    "print(accuracies)"
   ]
  },
  {
   "cell_type": "code",
   "execution_count": 32,
   "id": "5007a1fe",
   "metadata": {},
   "outputs": [
    {
     "name": "stdout",
     "output_type": "stream",
     "text": [
      "optimal threshold is 0.4588971734046936\n"
     ]
    }
   ],
   "source": [
    "idx=np.argmax(accuracies)\n",
    "print(f\"optimal threshold is {thresholds[idx]}\")"
   ]
  },
  {
   "cell_type": "code",
   "execution_count": 33,
   "id": "62e7da76",
   "metadata": {},
   "outputs": [
    {
     "name": "stdout",
     "output_type": "stream",
     "text": [
      "[[1539   68]\n",
      " [ 206  187]]\n",
      "Accuracy -> 0.863\n"
     ]
    }
   ],
   "source": [
    "from sklearn.metrics import confusion_matrix\n",
    "y_pred = ( y_score > thresholds[idx]).astype(int)\n",
    "cm=confusion_matrix(y_test,y_pred)\n",
    "print(cm)\n",
    "print(f'Accuracy -> {accuracy_score(y_test,y_pred)}')"
   ]
  },
  {
   "cell_type": "code",
   "execution_count": 34,
   "id": "982d2b3a",
   "metadata": {},
   "outputs": [
    {
     "data": {
      "image/png": "[encoded data removed]",
      "text/plain": [
       "<Figure size 640x480 with 1 Axes>"
      ]
     },
     "metadata": {},
     "output_type": "display_data"
    }
   ],
   "source": [
    "plt.scatter(thresholds,accuracies)\n",
    "plt.xlabel(\"Threshold\")\n",
    "plt.ylabel(\"Accuracy\")\n",
    "plt.show()"
   ]
  },
  {
   "cell_type": "markdown",
   "id": "58846dfd",
   "metadata": {},
   "source": [
    "### Choosing threshold is more of business problem, your desired goal."
   ]
  },
  {
   "cell_type": "markdown",
   "id": "f0f6c1c8",
   "metadata": {},
   "source": [
    "## Single Prediction\n",
    "#### use model to predict the specific person with some details<br>\n",
    "    Geography: France\n",
    "    Credit Score: 600\n",
    "    Gender: Male\n",
    "    Age: 40 years old\n",
    "    Tenure: 3 years\n",
    "    Balance: $60000\n",
    "    Number of Products: 2\n",
    "    Does this customer have a credit card ? Yes\n",
    "    Is this customer an Active Member: Yes \n",
    "    Estimated Salary: $50000"
   ]
  },
  {
   "cell_type": "code",
   "execution_count": 35,
   "id": "fc7a448c",
   "metadata": {},
   "outputs": [
    {
     "data": {
      "text/plain": [
       "array([[    0,     0,     1,   700,    40,     3,     0,     2,     1,\n",
       "            1, 50000]])"
      ]
     },
     "execution_count": 35,
     "metadata": {},
     "output_type": "execute_result"
    }
   ],
   "source": [
    "'''\n",
    "France code  is 0,0 after encoding and removing dummy varibale\n",
    "'''\n",
    "obs=np.array([0,0,1,700,40,3,0,2,1,1,50000]).reshape(1,11)\n",
    "obs"
   ]
  },
  {
   "cell_type": "code",
   "execution_count": 36,
   "id": "b99d4145",
   "metadata": {},
   "outputs": [
    {
     "name": "stdout",
     "output_type": "stream",
     "text": [
      "1/1 [==============================] - 0s 41ms/step\n"
     ]
    },
    {
     "data": {
      "text/plain": [
       "array([[0.02084801]], dtype=float32)"
      ]
     },
     "execution_count": 36,
     "metadata": {},
     "output_type": "execute_result"
    }
   ],
   "source": [
    "new_pred = nn.predict(sc.transform(obs))\n",
    "new_pred"
   ]
  }
 ],
 "metadata": {
  "kernelspec": {
   "display_name": "dl",
   "language": "python",
   "name": "python3"
  },
  "language_info": {
   "codemirror_mode": {
    "name": "ipython",
    "version": 3
   },
   "file_extension": ".py",
   "mimetype": "text/x-python",
   "name": "python",
   "nbconvert_exporter": "python",
   "pygments_lexer": "ipython3",
   "version": "3.11.4"
  }
 },
 "nbformat": 4,
 "nbformat_minor": 5
}
